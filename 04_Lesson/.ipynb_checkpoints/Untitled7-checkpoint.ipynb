{
 "cells": [
  {
   "cell_type": "code",
   "execution_count": null,
   "id": "c8744b08-7638-44a8-996e-46a235e726e1",
   "metadata": {},
   "outputs": [],
   "source": [
    "!pip install nbconvert"
   ]
  },
  {
   "cell_type": "code",
   "execution_count": null,
   "id": "c2c71686-b300-4faf-880a-c5c4ff3f5107",
   "metadata": {},
   "outputs": [],
   "source": [
    "import nbformat\n",
    "from nbconvert import HTMLExporter\n",
    "\n",
    "# Cargar el notebook\n",
    "notebook_filename = 'nombre_del_archivo.ipynb'\n",
    "with open(notebook_filename) as f:\n",
    "    notebook_content = nbformat.read(f, as_version=4)\n",
    "\n",
    "# Crear un exportador HTML\n",
    "html_exporter = HTMLExporter()\n",
    "\n",
    "# Convertir el notebook a HTML\n",
    "(body, resources) = html_exporter.from_notebook_node(notebook_content)\n",
    "\n",
    "# Guardar el HTML en un archivo\n",
    "html_filename = notebook_filename.replace('.ipynb', '.html')\n",
    "with open(html_filename, 'w') as f:\n",
    "    f.write(body)\n",
    "\n",
    "print(f\"El notebook ha sido convertido a HTML y guardado como {html_filename}\")"
   ]
  }
 ],
 "metadata": {
  "kernelspec": {
   "display_name": "Python 3 (ipykernel)",
   "language": "python",
   "name": "python3"
  },
  "language_info": {
   "codemirror_mode": {
    "name": "ipython",
    "version": 3
   },
   "file_extension": ".py",
   "mimetype": "text/x-python",
   "name": "python",
   "nbconvert_exporter": "python",
   "pygments_lexer": "ipython3",
   "version": "3.10.12"
  }
 },
 "nbformat": 4,
 "nbformat_minor": 5
}
