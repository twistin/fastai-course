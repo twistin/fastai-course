{
 "cells": [
  {
   "cell_type": "markdown",
   "id": "25ee3f9a",
   "metadata": {
    "papermill": {
     "duration": 0.072902,
     "end_time": "2022-05-26T23:48:13.047034",
     "exception": false,
     "start_time": "2022-05-26T23:48:12.974132",
     "status": "completed"
    },
    "tags": []
   },
   "source": [
    "## Iterate like a grandmaster"
   ]
  },
  {
   "cell_type": "markdown",
   "id": "e1f7bc4c",
   "metadata": {
    "papermill": {
     "duration": 0.072179,
     "end_time": "2022-05-26T23:48:13.192250",
     "exception": false,
     "start_time": "2022-05-26T23:48:13.120071",
     "status": "completed"
    },
    "tags": []
   },
   "source": [
    "**Note**: If you're fairly new to Kaggle, NLP, or Transformers, I strongly recommend you read my [Getting Started](https://www.kaggle.com/code/jhoward/getting-started-with-nlp-for-absolute-beginners) notebook first, and then come back to this one.\n",
    "\n",
    "---\n",
    "\n",
    "There's a lot of impressive notebooks around on Kaggle, but they often  fall into one of two categories:\n",
    "\n",
    "- Exploratory Data Analysis (EDA) notebooks with lots of pretty charts, but not much focus on understanding the key issues that will make a difference in the competition\n",
    "- Training/inference notebooks with little detail about *why* each step was chosen.\n",
    "\n",
    "In this notebook I'll try to give a taste of how a competitions grandmaster might tackle the [U.S. Patent Phrase to Phrase Matching](https://www.kaggle.com/competitions/us-patent-phrase-to-phrase-matching/) competition. The focus generally should be two things:\n",
    "\n",
    "1. Creating an effective validation set\n",
    "1. Iterating rapidly to find changes which improve results on the validation set.\n",
    "\n",
    "If you can do these two things, then you can try out lots of experiments and find what works, and what doesn't. Without these two things, it will be nearly impossible to do well in a Kaggle competition (and, indeed, to create highly accurate models in real life!)\n",
    "\n",
    "I will show a couple of different ways to create an appropriate validation set, and will explain how to expand them into an appropriate cross-validation system. I'll use just plain HuggingFace Transformers for everything, and will keep the code concise and simple. The more code you have, the more you have to maintain, and the more chances there are to make mistakes. So keep it simple!\n",
    "\n",
    "OK, let's get started..."
   ]
  },
  {
   "cell_type": "markdown",
   "id": "b0746f13",
   "metadata": {
    "papermill": {
     "duration": 0.070617,
     "end_time": "2022-05-26T23:48:13.333562",
     "exception": false,
     "start_time": "2022-05-26T23:48:13.262945",
     "status": "completed"
    },
    "tags": []
   },
   "source": [
    "It's nice to be able to run things locally too, to save your Kaggle GPU hours, so set a variable to make it easy to see where we are, and download what we need:"
   ]
  },
  {
   "cell_type": "code",
   "execution_count": 3,
   "id": "7bbfd2ec-59ee-4ecc-8857-8de55fb4f96b",
   "metadata": {},
   "outputs": [
    {
     "name": "stdout",
     "output_type": "stream",
     "text": [
      "Requirement already satisfied: kaggle in /Users/sdcarr/mambaforge/lib/python3.10/site-packages (1.6.17)\n",
      "Requirement already satisfied: six>=1.10 in /Users/sdcarr/mambaforge/lib/python3.10/site-packages (from kaggle) (1.16.0)\n",
      "Requirement already satisfied: certifi>=2023.7.22 in /Users/sdcarr/mambaforge/lib/python3.10/site-packages (from kaggle) (2024.2.2)\n",
      "Requirement already satisfied: python-dateutil in /Users/sdcarr/mambaforge/lib/python3.10/site-packages (from kaggle) (2.8.2)\n",
      "Requirement already satisfied: requests in /Users/sdcarr/mambaforge/lib/python3.10/site-packages (from kaggle) (2.31.0)\n",
      "Requirement already satisfied: tqdm in /Users/sdcarr/mambaforge/lib/python3.10/site-packages (from kaggle) (4.66.1)\n",
      "Requirement already satisfied: python-slugify in /Users/sdcarr/mambaforge/lib/python3.10/site-packages (from kaggle) (8.0.4)\n",
      "Requirement already satisfied: urllib3 in /Users/sdcarr/mambaforge/lib/python3.10/site-packages (from kaggle) (2.0.6)\n",
      "Requirement already satisfied: bleach in /Users/sdcarr/mambaforge/lib/python3.10/site-packages (from kaggle) (6.0.0)\n",
      "Requirement already satisfied: webencodings in /Users/sdcarr/mambaforge/lib/python3.10/site-packages (from bleach->kaggle) (0.5.1)\n",
      "Requirement already satisfied: text-unidecode>=1.3 in /Users/sdcarr/mambaforge/lib/python3.10/site-packages (from python-slugify->kaggle) (1.3)\n",
      "Requirement already satisfied: charset-normalizer<4,>=2 in /Users/sdcarr/mambaforge/lib/python3.10/site-packages (from requests->kaggle) (3.3.0)\n",
      "Requirement already satisfied: idna<4,>=2.5 in /Users/sdcarr/mambaforge/lib/python3.10/site-packages (from requests->kaggle) (3.4)\n"
     ]
    }
   ],
   "source": [
    "!pip install kaggle"
   ]
  },
  {
   "cell_type": "code",
   "execution_count": 66,
   "id": "2c49324f",
   "metadata": {
    "papermill": {
     "duration": 19.487416,
     "end_time": "2022-05-26T23:48:32.891069",
     "exception": false,
     "start_time": "2022-05-26T23:48:13.403653",
     "status": "completed"
    },
    "tags": []
   },
   "outputs": [
    {
     "name": "stdout",
     "output_type": "stream",
     "text": [
      "us-patent-phrase-to-phrase-matching.zip: Skipping, found more recently modified local copy (use --force to force download)\n"
     ]
    }
   ],
   "source": [
    "from pathlib import Path\n",
    "import os\n",
    "\n",
    "iskaggle = os.environ.get('KAGGLE_KERNEL_RUN_TYPE', '')\n",
    "if iskaggle:\n",
    "    !pip install -Uqq fastai\n",
    "else:\n",
    "    import zipfile,kaggle\n",
    "    path = Path('us-patent-phrase-to-phrase-matching')\n",
    "    kaggle.api.competition_download_cli(str(path))\n",
    "    zipfile.ZipFile(f'{path}.zip').extractall(path)"
   ]
  },
  {
   "cell_type": "markdown",
   "id": "e423e3dd",
   "metadata": {
    "papermill": {
     "duration": 0.072537,
     "end_time": "2022-05-26T23:48:33.040140",
     "exception": false,
     "start_time": "2022-05-26T23:48:32.967603",
     "status": "completed"
    },
    "tags": []
   },
   "source": [
    "A lot of the basic imports you'll want (`np`, `pd`, `plt`, etc) are provided by fastai, so let's grab them in one line:"
   ]
  },
  {
   "cell_type": "code",
   "execution_count": 67,
   "id": "b9d5ed93",
   "metadata": {
    "papermill": {
     "duration": 0.452503,
     "end_time": "2022-05-26T23:48:33.565137",
     "exception": false,
     "start_time": "2022-05-26T23:48:33.112634",
     "status": "completed"
    },
    "tags": []
   },
   "outputs": [],
   "source": [
    "from fastai.imports import *"
   ]
  },
  {
   "cell_type": "markdown",
   "id": "f1f5e2c9",
   "metadata": {
    "heading_collapsed": true,
    "papermill": {
     "duration": 0.071831,
     "end_time": "2022-05-26T23:48:33.710753",
     "exception": false,
     "start_time": "2022-05-26T23:48:33.638922",
     "status": "completed"
    },
    "tags": []
   },
   "source": [
    "## Import and EDA"
   ]
  },
  {
   "cell_type": "markdown",
   "id": "497ad6d9",
   "metadata": {
    "hidden": true,
    "papermill": {
     "duration": 0.07272,
     "end_time": "2022-05-26T23:48:33.855411",
     "exception": false,
     "start_time": "2022-05-26T23:48:33.782691",
     "status": "completed"
    },
    "tags": []
   },
   "source": [
    "Set a path to our data. Use `pathlib.Path` because it makes everything so much easier, and make it work automatically regardless if you're working on your own PC or on Kaggle!"
   ]
  },
  {
   "cell_type": "code",
   "execution_count": 68,
   "id": "5a47d56e",
   "metadata": {
    "hidden": true,
    "papermill": {
     "duration": 0.086082,
     "end_time": "2022-05-26T23:48:34.013648",
     "exception": false,
     "start_time": "2022-05-26T23:48:33.927566",
     "status": "completed"
    },
    "tags": []
   },
   "outputs": [
    {
     "data": {
      "text/plain": [
       "(#3) [Path('us-patent-phrase-to-phrase-matching/test.csv'),Path('us-patent-phrase-to-phrase-matching/train.csv'),Path('us-patent-phrase-to-phrase-matching/sample_submission.csv')]"
      ]
     },
     "execution_count": 68,
     "metadata": {},
     "output_type": "execute_result"
    }
   ],
   "source": [
    "if iskaggle: path = Path('us-patent-phrase-to-phrase-matching')\n",
    "path.ls()"
   ]
  },
  {
   "cell_type": "code",
   "execution_count": 69,
   "id": "c7973df0-5874-49ea-b0ce-05fb1755d4fc",
   "metadata": {},
   "outputs": [
    {
     "name": "stdout",
     "output_type": "stream",
     "text": [
      "huggingface/tokenizers: The current process just got forked, after parallelism has already been used. Disabling parallelism to avoid deadlocks...\n",
      "To disable this warning, you can either:\n",
      "\t- Avoid using `tokenizers` before the fork if possible\n",
      "\t- Explicitly set the environment variable TOKENIZERS_PARALLELISM=(true | false)\n",
      "iterate-like-a-grandmaster.ipynb        us-patent-phrase-to-phrase-matching.zip\n",
      "notes.md                                \u001b[34mutilidades\u001b[m\u001b[m\n",
      "\u001b[34mus-patent-phrase-to-phrase-matching\u001b[m\u001b[m\n"
     ]
    }
   ],
   "source": [
    "!ls"
   ]
  },
  {
   "cell_type": "markdown",
   "id": "a5a4a87c",
   "metadata": {
    "hidden": true,
    "papermill": {
     "duration": 0.072097,
     "end_time": "2022-05-26T23:48:34.157770",
     "exception": false,
     "start_time": "2022-05-26T23:48:34.085673",
     "status": "completed"
    },
    "tags": []
   },
   "source": [
    "Let's look at the training set:"
   ]
  },
  {
   "cell_type": "code",
   "execution_count": 70,
   "id": "4f178f36-942a-4999-b370-b87d22672e78",
   "metadata": {},
   "outputs": [],
   "source": [
    "#import pandas as pd\n",
    "\n",
    "# Aumentar el ancho máximo de las columnas (por ejemplo, 1000)\n",
    "#pd.set_option('display.max_colwidth', 1000)\n",
    "# Mostrar todas las filas\n",
    "#pd.set_option('display.max_rows', None)\n",
    "\n",
    "# Mostrar todas las columnas\n",
    "pd.set_option('display.max_columns', None)"
   ]
  },
  {
   "cell_type": "code",
   "execution_count": 71,
   "id": "fa46e7dc",
   "metadata": {
    "hidden": true,
    "papermill": {
     "duration": 0.168885,
     "end_time": "2022-05-26T23:48:34.399345",
     "exception": false,
     "start_time": "2022-05-26T23:48:34.230460",
     "status": "completed"
    },
    "scrolled": true,
    "tags": []
   },
   "outputs": [
    {
     "data": {
      "text/html": [
       "<div>\n",
       "<style scoped>\n",
       "    .dataframe tbody tr th:only-of-type {\n",
       "        vertical-align: middle;\n",
       "    }\n",
       "\n",
       "    .dataframe tbody tr th {\n",
       "        vertical-align: top;\n",
       "    }\n",
       "\n",
       "    .dataframe thead th {\n",
       "        text-align: right;\n",
       "    }\n",
       "</style>\n",
       "<table border=\"1\" class=\"dataframe\">\n",
       "  <thead>\n",
       "    <tr style=\"text-align: right;\">\n",
       "      <th></th>\n",
       "      <th>id</th>\n",
       "      <th>anchor</th>\n",
       "      <th>target</th>\n",
       "      <th>context</th>\n",
       "      <th>score</th>\n",
       "    </tr>\n",
       "  </thead>\n",
       "  <tbody>\n",
       "    <tr>\n",
       "      <th>0</th>\n",
       "      <td>37d61fd2272659b1</td>\n",
       "      <td>abatement</td>\n",
       "      <td>abatement of pollution</td>\n",
       "      <td>A47</td>\n",
       "      <td>0.50</td>\n",
       "    </tr>\n",
       "    <tr>\n",
       "      <th>1</th>\n",
       "      <td>7b9652b17b68b7a4</td>\n",
       "      <td>abatement</td>\n",
       "      <td>act of abating</td>\n",
       "      <td>A47</td>\n",
       "      <td>0.75</td>\n",
       "    </tr>\n",
       "    <tr>\n",
       "      <th>2</th>\n",
       "      <td>36d72442aefd8232</td>\n",
       "      <td>abatement</td>\n",
       "      <td>active catalyst</td>\n",
       "      <td>A47</td>\n",
       "      <td>0.25</td>\n",
       "    </tr>\n",
       "    <tr>\n",
       "      <th>3</th>\n",
       "      <td>5296b0c19e1ce60e</td>\n",
       "      <td>abatement</td>\n",
       "      <td>eliminating process</td>\n",
       "      <td>A47</td>\n",
       "      <td>0.50</td>\n",
       "    </tr>\n",
       "    <tr>\n",
       "      <th>4</th>\n",
       "      <td>54c1e3b9184cb5b6</td>\n",
       "      <td>abatement</td>\n",
       "      <td>forest region</td>\n",
       "      <td>A47</td>\n",
       "      <td>0.00</td>\n",
       "    </tr>\n",
       "  </tbody>\n",
       "</table>\n",
       "</div>"
      ],
      "text/plain": [
       "                 id     anchor                  target context  score\n",
       "0  37d61fd2272659b1  abatement  abatement of pollution     A47   0.50\n",
       "1  7b9652b17b68b7a4  abatement          act of abating     A47   0.75\n",
       "2  36d72442aefd8232  abatement         active catalyst     A47   0.25\n",
       "3  5296b0c19e1ce60e  abatement     eliminating process     A47   0.50\n",
       "4  54c1e3b9184cb5b6  abatement           forest region     A47   0.00"
      ]
     },
     "execution_count": 71,
     "metadata": {},
     "output_type": "execute_result"
    }
   ],
   "source": [
    "df = pd.read_csv(path/'train.csv')\n",
    "df.head()"
   ]
  },
  {
   "cell_type": "code",
   "execution_count": 72,
   "id": "54c55d78-71a6-4a16-a839-1e7bfca3a735",
   "metadata": {},
   "outputs": [
    {
     "name": "stdout",
     "output_type": "stream",
     "text": [
      "huggingface/tokenizers: The current process just got forked, after parallelism has already been used. Disabling parallelism to avoid deadlocks...\n",
      "To disable this warning, you can either:\n",
      "\t- Avoid using `tokenizers` before the fork if possible\n",
      "\t- Explicitly set the environment variable TOKENIZERS_PARALLELISM=(true | false)\n",
      "sample_submission.csv test.csv              train.csv\n"
     ]
    }
   ],
   "source": [
    "!ls {path}"
   ]
  },
  {
   "cell_type": "code",
   "execution_count": 73,
   "id": "c88f0dd2-1af4-4a6c-8080-709a8bcd8624",
   "metadata": {},
   "outputs": [
    {
     "data": {
      "text/html": [
       "<div>\n",
       "<style scoped>\n",
       "    .dataframe tbody tr th:only-of-type {\n",
       "        vertical-align: middle;\n",
       "    }\n",
       "\n",
       "    .dataframe tbody tr th {\n",
       "        vertical-align: top;\n",
       "    }\n",
       "\n",
       "    .dataframe thead th {\n",
       "        text-align: right;\n",
       "    }\n",
       "</style>\n",
       "<table border=\"1\" class=\"dataframe\">\n",
       "  <thead>\n",
       "    <tr style=\"text-align: right;\">\n",
       "      <th></th>\n",
       "      <th>id</th>\n",
       "      <th>anchor</th>\n",
       "      <th>target</th>\n",
       "      <th>context</th>\n",
       "    </tr>\n",
       "  </thead>\n",
       "  <tbody>\n",
       "    <tr>\n",
       "      <th>count</th>\n",
       "      <td>36473</td>\n",
       "      <td>36473</td>\n",
       "      <td>36473</td>\n",
       "      <td>36473</td>\n",
       "    </tr>\n",
       "    <tr>\n",
       "      <th>unique</th>\n",
       "      <td>36473</td>\n",
       "      <td>733</td>\n",
       "      <td>29340</td>\n",
       "      <td>106</td>\n",
       "    </tr>\n",
       "    <tr>\n",
       "      <th>top</th>\n",
       "      <td>37d61fd2272659b1</td>\n",
       "      <td>component composite coating</td>\n",
       "      <td>composition</td>\n",
       "      <td>H01</td>\n",
       "    </tr>\n",
       "    <tr>\n",
       "      <th>freq</th>\n",
       "      <td>1</td>\n",
       "      <td>152</td>\n",
       "      <td>24</td>\n",
       "      <td>2186</td>\n",
       "    </tr>\n",
       "  </tbody>\n",
       "</table>\n",
       "</div>"
      ],
      "text/plain": [
       "                      id                       anchor       target context\n",
       "count              36473                        36473        36473   36473\n",
       "unique             36473                          733        29340     106\n",
       "top     37d61fd2272659b1  component composite coating  composition     H01\n",
       "freq                   1                          152           24    2186"
      ]
     },
     "execution_count": 73,
     "metadata": {},
     "output_type": "execute_result"
    }
   ],
   "source": [
    "df.describe(include='object')"
   ]
  },
  {
   "cell_type": "markdown",
   "id": "7ba90f65-531d-4d8d-a959-e500c9f7cad8",
   "metadata": {},
   "source": [
    "# a partir de aquí sigo la explicación de Jeremy Howard en el video \"Lesson 4\""
   ]
  },
  {
   "cell_type": "code",
   "execution_count": 74,
   "id": "cf15b5d9-9871-4509-839d-74507431398a",
   "metadata": {},
   "outputs": [],
   "source": [
    "df['input'] = 'TEXT1: ' + df.context + '; TEXT2: ' + df.target + '; ANC1: ' + df.anchor"
   ]
  },
  {
   "cell_type": "code",
   "execution_count": 75,
   "id": "464531b0-dcdb-4ecf-b69b-808ba59b0ac5",
   "metadata": {},
   "outputs": [
    {
     "data": {
      "text/plain": [
       "0    TEXT1: A47; TEXT2: abatement of pollution; ANC1: abatement\n",
       "1            TEXT1: A47; TEXT2: act of abating; ANC1: abatement\n",
       "2           TEXT1: A47; TEXT2: active catalyst; ANC1: abatement\n",
       "3       TEXT1: A47; TEXT2: eliminating process; ANC1: abatement\n",
       "4             TEXT1: A47; TEXT2: forest region; ANC1: abatement\n",
       "Name: input, dtype: object"
      ]
     },
     "execution_count": 75,
     "metadata": {},
     "output_type": "execute_result"
    }
   ],
   "source": [
    "df.input.head()"
   ]
  },
  {
   "cell_type": "code",
   "execution_count": 101,
   "id": "924e79d2-fb2d-4733-9bd7-4316700dd3b1",
   "metadata": {},
   "outputs": [
    {
     "name": "stdout",
     "output_type": "stream",
     "text": [
      "huggingface/tokenizers: The current process just got forked, after parallelism has already been used. Disabling parallelism to avoid deadlocks...\n",
      "To disable this warning, you can either:\n",
      "\t- Avoid using `tokenizers` before the fork if possible\n",
      "\t- Explicitly set the environment variable TOKENIZERS_PARALLELISM=(true | false)\n",
      "Requirement already satisfied: datasets in /Users/sdcarr/mambaforge/lib/python3.10/site-packages (2.14.5)\n",
      "Requirement already satisfied: numpy>=1.17 in /Users/sdcarr/mambaforge/lib/python3.10/site-packages (from datasets) (1.24.4)\n",
      "Requirement already satisfied: pyarrow>=8.0.0 in /Users/sdcarr/mambaforge/lib/python3.10/site-packages (from datasets) (13.0.0)\n",
      "Requirement already satisfied: dill<0.3.8,>=0.3.0 in /Users/sdcarr/mambaforge/lib/python3.10/site-packages (from datasets) (0.3.7)\n",
      "Requirement already satisfied: pandas in /Users/sdcarr/mambaforge/lib/python3.10/site-packages (from datasets) (2.1.1)\n",
      "Requirement already satisfied: requests>=2.19.0 in /Users/sdcarr/mambaforge/lib/python3.10/site-packages (from datasets) (2.31.0)\n",
      "Requirement already satisfied: tqdm>=4.62.1 in /Users/sdcarr/mambaforge/lib/python3.10/site-packages (from datasets) (4.66.1)\n",
      "Requirement already satisfied: xxhash in /Users/sdcarr/mambaforge/lib/python3.10/site-packages (from datasets) (3.4.1)\n",
      "Requirement already satisfied: multiprocess in /Users/sdcarr/mambaforge/lib/python3.10/site-packages (from datasets) (0.70.15)\n",
      "Requirement already satisfied: fsspec[http]<2023.9.0,>=2023.1.0 in /Users/sdcarr/mambaforge/lib/python3.10/site-packages (from datasets) (2023.6.0)\n",
      "Requirement already satisfied: aiohttp in /Users/sdcarr/mambaforge/lib/python3.10/site-packages (from datasets) (3.8.5)\n",
      "Requirement already satisfied: huggingface-hub<1.0.0,>=0.14.0 in /Users/sdcarr/mambaforge/lib/python3.10/site-packages (from datasets) (0.17.3)\n",
      "Requirement already satisfied: packaging in /Users/sdcarr/mambaforge/lib/python3.10/site-packages (from datasets) (23.2)\n",
      "Requirement already satisfied: pyyaml>=5.1 in /Users/sdcarr/mambaforge/lib/python3.10/site-packages (from datasets) (6.0.1)\n",
      "Requirement already satisfied: attrs>=17.3.0 in /Users/sdcarr/mambaforge/lib/python3.10/site-packages (from aiohttp->datasets) (23.1.0)\n",
      "Requirement already satisfied: charset-normalizer<4.0,>=2.0 in /Users/sdcarr/mambaforge/lib/python3.10/site-packages (from aiohttp->datasets) (3.3.0)\n",
      "Requirement already satisfied: multidict<7.0,>=4.5 in /Users/sdcarr/mambaforge/lib/python3.10/site-packages (from aiohttp->datasets) (6.0.4)\n",
      "Requirement already satisfied: async-timeout<5.0,>=4.0.0a3 in /Users/sdcarr/mambaforge/lib/python3.10/site-packages (from aiohttp->datasets) (4.0.3)\n",
      "Requirement already satisfied: yarl<2.0,>=1.0 in /Users/sdcarr/mambaforge/lib/python3.10/site-packages (from aiohttp->datasets) (1.9.2)\n",
      "Requirement already satisfied: frozenlist>=1.1.1 in /Users/sdcarr/mambaforge/lib/python3.10/site-packages (from aiohttp->datasets) (1.4.0)\n",
      "Requirement already satisfied: aiosignal>=1.1.2 in /Users/sdcarr/mambaforge/lib/python3.10/site-packages (from aiohttp->datasets) (1.3.1)\n",
      "Requirement already satisfied: filelock in /Users/sdcarr/mambaforge/lib/python3.10/site-packages (from huggingface-hub<1.0.0,>=0.14.0->datasets) (3.12.4)\n",
      "Requirement already satisfied: typing-extensions>=3.7.4.3 in /Users/sdcarr/mambaforge/lib/python3.10/site-packages (from huggingface-hub<1.0.0,>=0.14.0->datasets) (4.8.0)\n",
      "Requirement already satisfied: idna<4,>=2.5 in /Users/sdcarr/mambaforge/lib/python3.10/site-packages (from requests>=2.19.0->datasets) (3.4)\n",
      "Requirement already satisfied: urllib3<3,>=1.21.1 in /Users/sdcarr/mambaforge/lib/python3.10/site-packages (from requests>=2.19.0->datasets) (2.0.6)\n",
      "Requirement already satisfied: certifi>=2017.4.17 in /Users/sdcarr/mambaforge/lib/python3.10/site-packages (from requests>=2.19.0->datasets) (2024.2.2)\n",
      "Requirement already satisfied: python-dateutil>=2.8.2 in /Users/sdcarr/mambaforge/lib/python3.10/site-packages (from pandas->datasets) (2.8.2)\n",
      "Requirement already satisfied: pytz>=2020.1 in /Users/sdcarr/mambaforge/lib/python3.10/site-packages (from pandas->datasets) (2023.3.post1)\n",
      "Requirement already satisfied: tzdata>=2022.1 in /Users/sdcarr/mambaforge/lib/python3.10/site-packages (from pandas->datasets) (2023.3)\n",
      "Requirement already satisfied: six>=1.5 in /Users/sdcarr/mambaforge/lib/python3.10/site-packages (from python-dateutil>=2.8.2->pandas->datasets) (1.16.0)\n"
     ]
    }
   ],
   "source": [
    "!pip install datasets"
   ]
  },
  {
   "cell_type": "code",
   "execution_count": null,
   "id": "71b867f6-a846-43ad-8851-4152ac14d706",
   "metadata": {},
   "outputs": [],
   "source": []
  },
  {
   "cell_type": "code",
   "execution_count": 76,
   "id": "962fa4fc-aa36-4696-8035-a1dfc671fb60",
   "metadata": {},
   "outputs": [],
   "source": [
    "from datasets import Dataset, DatasetDict\n",
    "ds = Dataset.from_pandas(df)"
   ]
  },
  {
   "cell_type": "code",
   "execution_count": 77,
   "id": "1d001b57-910f-463e-91d7-6c4bb8f76957",
   "metadata": {},
   "outputs": [],
   "source": [
    "model_nm = 'microsoft/deberta-v3-small'"
   ]
  },
  {
   "cell_type": "markdown",
   "id": "a5cad7dd-9b4a-4907-a8bb-929039aa9e5c",
   "metadata": {},
   "source": [
    "# AoutoTokenizer creará un tokenizador apropiado para un modelo dado"
   ]
  },
  {
   "cell_type": "code",
   "execution_count": 78,
   "id": "18765a1f-c12a-46c2-b8e3-bd7df2065a76",
   "metadata": {},
   "outputs": [
    {
     "name": "stderr",
     "output_type": "stream",
     "text": [
      "Special tokens have been added in the vocabulary, make sure the associated word embeddings are fine-tuned or trained.\n",
      "/Users/sdcarr/mambaforge/lib/python3.10/site-packages/transformers/convert_slow_tokenizer.py:473: UserWarning: The sentencepiece tokenizer that you are converting to a fast tokenizer uses the byte fallback option which is not implemented in the fast tokenizers. In practice this means that the fast version of the tokenizer can produce unknown tokens whereas the sentencepiece version would have converted these unknown tokens into a sequence of byte tokens matching the original piece of text.\n",
      "  warnings.warn(\n",
      "Special tokens have been added in the vocabulary, make sure the associated word embeddings are fine-tuned or trained.\n"
     ]
    }
   ],
   "source": [
    "from transformers import AutoModelForSequenceClassification, AutoTokenizer\n",
    "tokz = AutoTokenizer.from_pretrained(model_nm)"
   ]
  },
  {
   "cell_type": "code",
   "execution_count": 79,
   "id": "79c9a100-01d6-4942-8109-73ded23a9a99",
   "metadata": {},
   "outputs": [
    {
     "data": {
      "text/plain": [
       "['▁inorganic', '▁photo', 'conductor', '▁drum']"
      ]
     },
     "execution_count": 79,
     "metadata": {},
     "output_type": "execute_result"
    }
   ],
   "source": [
    "tokz.tokenize(\"inorganic photoconductor drum\")"
   ]
  },
  {
   "cell_type": "code",
   "execution_count": 80,
   "id": "6fdc2e6a-225a-4041-a7d1-7bc8afc68b6d",
   "metadata": {},
   "outputs": [
    {
     "data": {
      "text/plain": [
       "['▁Hola',\n",
       " '▁Mundo',\n",
       " ',',\n",
       " '▁esto',\n",
       " 'y',\n",
       " '▁a',\n",
       " 'prendi',\n",
       " 'endo',\n",
       " '▁con',\n",
       " '▁Jeremy',\n",
       " '▁fast',\n",
       " 'ai',\n",
       " '▁en',\n",
       " '▁2024',\n",
       " '▁vera',\n",
       " 'no',\n",
       " '!']"
      ]
     },
     "execution_count": 80,
     "metadata": {},
     "output_type": "execute_result"
    }
   ],
   "source": [
    "tokz.tokenize(\"Hola Mundo, estoy aprendiendo con Jeremy fastai en 2024 verano!\")"
   ]
  },
  {
   "cell_type": "code",
   "execution_count": 53,
   "id": "633764c8-51a5-4989-a990-584626f420d6",
   "metadata": {},
   "outputs": [
    {
     "name": "stdout",
     "output_type": "stream",
     "text": [
      "huggingface/tokenizers: The current process just got forked, after parallelism has already been used. Disabling parallelism to avoid deadlocks...\n",
      "To disable this warning, you can either:\n",
      "\t- Avoid using `tokenizers` before the fork if possible\n",
      "\t- Explicitly set the environment variable TOKENIZERS_PARALLELISM=(true | false)\n",
      "Requirement already satisfied: nbdev in /Users/sdcarr/mambaforge/lib/python3.10/site-packages (2.3.12)\n",
      "Requirement already satisfied: fastcore>=1.5.27 in /Users/sdcarr/mambaforge/lib/python3.10/site-packages (from nbdev) (1.5.29)\n",
      "Requirement already satisfied: execnb>=0.1.4 in /Users/sdcarr/mambaforge/lib/python3.10/site-packages (from nbdev) (0.1.5)\n",
      "Requirement already satisfied: astunparse in /Users/sdcarr/mambaforge/lib/python3.10/site-packages (from nbdev) (1.6.3)\n",
      "Requirement already satisfied: ghapi>=1.0.3 in /Users/sdcarr/mambaforge/lib/python3.10/site-packages (from nbdev) (1.0.4)\n",
      "Requirement already satisfied: watchdog in /Users/sdcarr/mambaforge/lib/python3.10/site-packages (from nbdev) (3.0.0)\n",
      "Requirement already satisfied: asttokens in /Users/sdcarr/mambaforge/lib/python3.10/site-packages (from nbdev) (2.4.0)\n",
      "Requirement already satisfied: PyYAML in /Users/sdcarr/mambaforge/lib/python3.10/site-packages (from nbdev) (6.0.1)\n",
      "Requirement already satisfied: ipython in /Users/sdcarr/mambaforge/lib/python3.10/site-packages (from execnb>=0.1.4->nbdev) (8.15.0)\n",
      "Requirement already satisfied: pip in /Users/sdcarr/mambaforge/lib/python3.10/site-packages (from fastcore>=1.5.27->nbdev) (23.2.1)\n",
      "Requirement already satisfied: packaging in /Users/sdcarr/mambaforge/lib/python3.10/site-packages (from fastcore>=1.5.27->nbdev) (23.2)\n",
      "Requirement already satisfied: six>=1.12.0 in /Users/sdcarr/mambaforge/lib/python3.10/site-packages (from asttokens->nbdev) (1.16.0)\n",
      "Requirement already satisfied: wheel<1.0,>=0.23.0 in /Users/sdcarr/mambaforge/lib/python3.10/site-packages (from astunparse->nbdev) (0.41.2)\n",
      "Requirement already satisfied: backcall in /Users/sdcarr/mambaforge/lib/python3.10/site-packages (from ipython->execnb>=0.1.4->nbdev) (0.2.0)\n",
      "Requirement already satisfied: decorator in /Users/sdcarr/mambaforge/lib/python3.10/site-packages (from ipython->execnb>=0.1.4->nbdev) (5.1.1)\n",
      "Requirement already satisfied: jedi>=0.16 in /Users/sdcarr/mambaforge/lib/python3.10/site-packages (from ipython->execnb>=0.1.4->nbdev) (0.19.1)\n",
      "Requirement already satisfied: matplotlib-inline in /Users/sdcarr/mambaforge/lib/python3.10/site-packages (from ipython->execnb>=0.1.4->nbdev) (0.1.6)\n",
      "Requirement already satisfied: pickleshare in /Users/sdcarr/mambaforge/lib/python3.10/site-packages (from ipython->execnb>=0.1.4->nbdev) (0.7.5)\n",
      "Requirement already satisfied: prompt-toolkit!=3.0.37,<3.1.0,>=3.0.30 in /Users/sdcarr/mambaforge/lib/python3.10/site-packages (from ipython->execnb>=0.1.4->nbdev) (3.0.39)\n",
      "Requirement already satisfied: pygments>=2.4.0 in /Users/sdcarr/mambaforge/lib/python3.10/site-packages (from ipython->execnb>=0.1.4->nbdev) (2.16.1)\n",
      "Requirement already satisfied: stack-data in /Users/sdcarr/mambaforge/lib/python3.10/site-packages (from ipython->execnb>=0.1.4->nbdev) (0.6.2)\n",
      "Requirement already satisfied: traitlets>=5 in /Users/sdcarr/mambaforge/lib/python3.10/site-packages (from ipython->execnb>=0.1.4->nbdev) (5.11.2)\n",
      "Requirement already satisfied: exceptiongroup in /Users/sdcarr/mambaforge/lib/python3.10/site-packages (from ipython->execnb>=0.1.4->nbdev) (1.1.3)\n",
      "Requirement already satisfied: pexpect>4.3 in /Users/sdcarr/mambaforge/lib/python3.10/site-packages (from ipython->execnb>=0.1.4->nbdev) (4.8.0)\n",
      "Requirement already satisfied: appnope in /Users/sdcarr/mambaforge/lib/python3.10/site-packages (from ipython->execnb>=0.1.4->nbdev) (0.1.3)\n",
      "Requirement already satisfied: parso<0.9.0,>=0.8.3 in /Users/sdcarr/mambaforge/lib/python3.10/site-packages (from jedi>=0.16->ipython->execnb>=0.1.4->nbdev) (0.8.3)\n",
      "Requirement already satisfied: ptyprocess>=0.5 in /Users/sdcarr/mambaforge/lib/python3.10/site-packages (from pexpect>4.3->ipython->execnb>=0.1.4->nbdev) (0.7.0)\n",
      "Requirement already satisfied: wcwidth in /Users/sdcarr/mambaforge/lib/python3.10/site-packages (from prompt-toolkit!=3.0.37,<3.1.0,>=3.0.30->ipython->execnb>=0.1.4->nbdev) (0.2.8)\n",
      "Requirement already satisfied: executing>=1.2.0 in /Users/sdcarr/mambaforge/lib/python3.10/site-packages (from stack-data->ipython->execnb>=0.1.4->nbdev) (1.2.0)\n",
      "Requirement already satisfied: pure-eval in /Users/sdcarr/mambaforge/lib/python3.10/site-packages (from stack-data->ipython->execnb>=0.1.4->nbdev) (0.2.2)\n"
     ]
    }
   ],
   "source": [
    "!pip install nbdev"
   ]
  },
  {
   "cell_type": "code",
   "execution_count": 54,
   "id": "077cc4cd-39f9-4f22-8a70-3e7aec8d131c",
   "metadata": {},
   "outputs": [
    {
     "data": {
      "text/plain": [
       "\u001b[0;31mSignature:\u001b[0m \u001b[0mtok_func\u001b[0m\u001b[0;34m(\u001b[0m\u001b[0mx\u001b[0m\u001b[0;34m)\u001b[0m\u001b[0;34m\u001b[0m\u001b[0;34m\u001b[0m\u001b[0m\n",
       "\u001b[0;31mDocstring:\u001b[0m <no docstring>\n",
       "\u001b[0;31mFile:\u001b[0m      /var/folders/nb/sc6_k5jn76s2_byxg4c79pt00000gn/T/ipykernel_2291/660830916.py\n",
       "\u001b[0;31mType:\u001b[0m      function"
      ]
     },
     "metadata": {},
     "output_type": "display_data"
    }
   ],
   "source": [
    "?tok_func"
   ]
  },
  {
   "cell_type": "code",
   "execution_count": 81,
   "id": "140710f7-83cc-4d41-aaed-ac38ea456754",
   "metadata": {},
   "outputs": [],
   "source": [
    "def tok_func(x): return tokz(x[\"input\"])"
   ]
  },
  {
   "cell_type": "code",
   "execution_count": 82,
   "id": "7406bba9-0d30-4cf3-9bf0-5d7a589fd15c",
   "metadata": {},
   "outputs": [
    {
     "data": {
      "application/vnd.jupyter.widget-view+json": {
       "model_id": "b96105fa2f9d4041ba2ca0c706512775",
       "version_major": 2,
       "version_minor": 0
      },
      "text/plain": [
       "Map:   0%|          | 0/36473 [00:00<?, ? examples/s]"
      ]
     },
     "metadata": {},
     "output_type": "display_data"
    }
   ],
   "source": [
    "tok_ds =ds.map(tok_func,batched=True)"
   ]
  },
  {
   "cell_type": "code",
   "execution_count": 83,
   "id": "9b3a63e4-ddc3-4b81-a3ea-26f03c51bf70",
   "metadata": {},
   "outputs": [
    {
     "data": {
      "text/plain": [
       "('TEXT1: A47; TEXT2: abatement of pollution; ANC1: abatement',\n",
       " [1,\n",
       "  54453,\n",
       "  435,\n",
       "  294,\n",
       "  336,\n",
       "  5753,\n",
       "  346,\n",
       "  54453,\n",
       "  445,\n",
       "  294,\n",
       "  47284,\n",
       "  265,\n",
       "  6435,\n",
       "  346,\n",
       "  23702,\n",
       "  435,\n",
       "  294,\n",
       "  47284,\n",
       "  2])"
      ]
     },
     "execution_count": 83,
     "metadata": {},
     "output_type": "execute_result"
    }
   ],
   "source": [
    "row = tok_ds[0]\n",
    "row[\"input\"], row['input_ids']"
   ]
  },
  {
   "cell_type": "code",
   "execution_count": 58,
   "id": "750a0a3d-08e5-43b2-8629-66dfe1e8977e",
   "metadata": {},
   "outputs": [
    {
     "data": {
      "text/plain": [
       "8263"
      ]
     },
     "execution_count": 58,
     "metadata": {},
     "output_type": "execute_result"
    }
   ],
   "source": [
    "tokz.vocab['▁drum']"
   ]
  },
  {
   "cell_type": "code",
   "execution_count": 84,
   "id": "71fcb697-9e7e-4f8b-bad9-c7f53672a0ab",
   "metadata": {},
   "outputs": [],
   "source": [
    "tok_ds = tok_ds.rename_columns({'score':'labels'})"
   ]
  },
  {
   "cell_type": "code",
   "execution_count": 85,
   "id": "ffafcc81-8d37-4561-9ed5-8993537d13ee",
   "metadata": {},
   "outputs": [
    {
     "data": {
      "text/plain": [
       "Dataset({\n",
       "    features: ['id', 'anchor', 'target', 'context', 'labels', 'input', 'input_ids', 'token_type_ids', 'attention_mask'],\n",
       "    num_rows: 36473\n",
       "})"
      ]
     },
     "execution_count": 85,
     "metadata": {},
     "output_type": "execute_result"
    }
   ],
   "source": [
    "tok_ds "
   ]
  },
  {
   "cell_type": "markdown",
   "id": "da37723d-71f7-4a92-8778-e7bdc1626d1d",
   "metadata": {},
   "source": [
    "# Coheficioente de correlación Pearson"
   ]
  },
  {
   "cell_type": "code",
   "execution_count": 86,
   "id": "04d51b60-d106-4d8e-afbd-b57958a6e086",
   "metadata": {},
   "outputs": [],
   "source": [
    "from sklearn.datasets import fetch_california_housing"
   ]
  },
  {
   "cell_type": "code",
   "execution_count": 87,
   "id": "993a39ac-dedd-4d75-bd4a-24e5ced51483",
   "metadata": {},
   "outputs": [
    {
     "data": {
      "text/html": [
       "<div>\n",
       "<style scoped>\n",
       "    .dataframe tbody tr th:only-of-type {\n",
       "        vertical-align: middle;\n",
       "    }\n",
       "\n",
       "    .dataframe tbody tr th {\n",
       "        vertical-align: top;\n",
       "    }\n",
       "\n",
       "    .dataframe thead th {\n",
       "        text-align: right;\n",
       "    }\n",
       "</style>\n",
       "<table border=\"1\" class=\"dataframe\">\n",
       "  <thead>\n",
       "    <tr style=\"text-align: right;\">\n",
       "      <th></th>\n",
       "      <th>MedInc</th>\n",
       "      <th>HouseAge</th>\n",
       "      <th>AveRooms</th>\n",
       "      <th>AveBedrms</th>\n",
       "      <th>Population</th>\n",
       "      <th>AveOccup</th>\n",
       "      <th>Latitude</th>\n",
       "      <th>Longitude</th>\n",
       "      <th>MedHouseVal</th>\n",
       "    </tr>\n",
       "  </thead>\n",
       "  <tbody>\n",
       "    <tr>\n",
       "      <th>7506</th>\n",
       "      <td>3.0550</td>\n",
       "      <td>37.0</td>\n",
       "      <td>5.152778</td>\n",
       "      <td>1.048611</td>\n",
       "      <td>729.0</td>\n",
       "      <td>5.062500</td>\n",
       "      <td>33.92</td>\n",
       "      <td>-118.28</td>\n",
       "      <td>1.054</td>\n",
       "    </tr>\n",
       "    <tr>\n",
       "      <th>4720</th>\n",
       "      <td>3.0862</td>\n",
       "      <td>35.0</td>\n",
       "      <td>4.697897</td>\n",
       "      <td>1.055449</td>\n",
       "      <td>1159.0</td>\n",
       "      <td>2.216061</td>\n",
       "      <td>34.05</td>\n",
       "      <td>-118.37</td>\n",
       "      <td>3.453</td>\n",
       "    </tr>\n",
       "    <tr>\n",
       "      <th>12888</th>\n",
       "      <td>2.5556</td>\n",
       "      <td>24.0</td>\n",
       "      <td>4.864905</td>\n",
       "      <td>1.129222</td>\n",
       "      <td>1631.0</td>\n",
       "      <td>2.395007</td>\n",
       "      <td>38.66</td>\n",
       "      <td>-121.35</td>\n",
       "      <td>1.057</td>\n",
       "    </tr>\n",
       "    <tr>\n",
       "      <th>13344</th>\n",
       "      <td>3.0057</td>\n",
       "      <td>32.0</td>\n",
       "      <td>4.212687</td>\n",
       "      <td>0.936567</td>\n",
       "      <td>1378.0</td>\n",
       "      <td>5.141791</td>\n",
       "      <td>34.05</td>\n",
       "      <td>-117.64</td>\n",
       "      <td>0.969</td>\n",
       "    </tr>\n",
       "    <tr>\n",
       "      <th>7173</th>\n",
       "      <td>1.9083</td>\n",
       "      <td>42.0</td>\n",
       "      <td>3.888554</td>\n",
       "      <td>1.039157</td>\n",
       "      <td>1535.0</td>\n",
       "      <td>4.623494</td>\n",
       "      <td>34.05</td>\n",
       "      <td>-118.19</td>\n",
       "      <td>1.192</td>\n",
       "    </tr>\n",
       "    <tr>\n",
       "      <th>1727</th>\n",
       "      <td>0.7403</td>\n",
       "      <td>37.0</td>\n",
       "      <td>4.491429</td>\n",
       "      <td>1.148571</td>\n",
       "      <td>1046.0</td>\n",
       "      <td>2.988571</td>\n",
       "      <td>37.96</td>\n",
       "      <td>-122.37</td>\n",
       "      <td>0.686</td>\n",
       "    </tr>\n",
       "    <tr>\n",
       "      <th>6914</th>\n",
       "      <td>5.2851</td>\n",
       "      <td>36.0</td>\n",
       "      <td>6.138571</td>\n",
       "      <td>1.024286</td>\n",
       "      <td>2038.0</td>\n",
       "      <td>2.911429</td>\n",
       "      <td>33.94</td>\n",
       "      <td>-117.98</td>\n",
       "      <td>2.588</td>\n",
       "    </tr>\n",
       "  </tbody>\n",
       "</table>\n",
       "</div>"
      ],
      "text/plain": [
       "       MedInc  HouseAge  AveRooms  AveBedrms  Population  AveOccup  Latitude  \\\n",
       "7506   3.0550      37.0  5.152778   1.048611       729.0  5.062500     33.92   \n",
       "4720   3.0862      35.0  4.697897   1.055449      1159.0  2.216061     34.05   \n",
       "12888  2.5556      24.0  4.864905   1.129222      1631.0  2.395007     38.66   \n",
       "13344  3.0057      32.0  4.212687   0.936567      1378.0  5.141791     34.05   \n",
       "7173   1.9083      42.0  3.888554   1.039157      1535.0  4.623494     34.05   \n",
       "1727   0.7403      37.0  4.491429   1.148571      1046.0  2.988571     37.96   \n",
       "6914   5.2851      36.0  6.138571   1.024286      2038.0  2.911429     33.94   \n",
       "\n",
       "       Longitude  MedHouseVal  \n",
       "7506     -118.28        1.054  \n",
       "4720     -118.37        3.453  \n",
       "12888    -121.35        1.057  \n",
       "13344    -117.64        0.969  \n",
       "7173     -118.19        1.192  \n",
       "1727     -122.37        0.686  \n",
       "6914     -117.98        2.588  "
      ]
     },
     "execution_count": 87,
     "metadata": {},
     "output_type": "execute_result"
    }
   ],
   "source": [
    "housing = fetch_california_housing(as_frame=True)\n",
    "housing = housing['data'].join(housing['target']).sample(1000,random_state=52)\n",
    "housing.head(7)"
   ]
  },
  {
   "cell_type": "code",
   "execution_count": 34,
   "id": "b5db30d6-7c0a-407f-a8be-d574cffd4593",
   "metadata": {},
   "outputs": [
    {
     "data": {
      "text/plain": [
       "array([[ 1.  , -0.12,  0.43, -0.08,  0.01, -0.07, -0.12,  0.04,  0.68],\n",
       "       [-0.12,  1.  , -0.17, -0.06, -0.31,  0.  ,  0.03, -0.13,  0.12],\n",
       "       [ 0.43, -0.17,  1.  ,  0.76, -0.09, -0.07,  0.12, -0.03,  0.21],\n",
       "       [-0.08, -0.06,  0.76,  1.  , -0.08, -0.07,  0.09,  0.  , -0.04],\n",
       "       [ 0.01, -0.31, -0.09, -0.08,  1.  ,  0.16, -0.15,  0.13,  0.  ],\n",
       "       [-0.07,  0.  , -0.07, -0.07,  0.16,  1.  , -0.16,  0.17, -0.27],\n",
       "       [-0.12,  0.03,  0.12,  0.09, -0.15, -0.16,  1.  , -0.93, -0.16],\n",
       "       [ 0.04, -0.13, -0.03,  0.  ,  0.13,  0.17, -0.93,  1.  , -0.03],\n",
       "       [ 0.68,  0.12,  0.21, -0.04,  0.  , -0.27, -0.16, -0.03,  1.  ]])"
      ]
     },
     "execution_count": 34,
     "metadata": {},
     "output_type": "execute_result"
    }
   ],
   "source": [
    "np.set_printoptions(precision=2, suppress=True)\n",
    "np.corrcoef(housing, rowvar=False)"
   ]
  },
  {
   "cell_type": "code",
   "execution_count": 35,
   "id": "6112ceb1-7fa0-4375-9f68-42a25b6bb0fb",
   "metadata": {},
   "outputs": [
    {
     "name": "stdout",
     "output_type": "stream",
     "text": [
      "huggingface/tokenizers: The current process just got forked, after parallelism has already been used. Disabling parallelism to avoid deadlocks...\n",
      "To disable this warning, you can either:\n",
      "\t- Avoid using `tokenizers` before the fork if possible\n",
      "\t- Explicitly set the environment variable TOKENIZERS_PARALLELISM=(true | false)\n",
      "Requirement already satisfied: seaborn in /Users/sdcarr/mambaforge/lib/python3.10/site-packages (0.13.2)\n",
      "Requirement already satisfied: numpy!=1.24.0,>=1.20 in /Users/sdcarr/mambaforge/lib/python3.10/site-packages (from seaborn) (1.24.4)\n",
      "Requirement already satisfied: pandas>=1.2 in /Users/sdcarr/mambaforge/lib/python3.10/site-packages (from seaborn) (2.1.1)\n",
      "Requirement already satisfied: matplotlib!=3.6.1,>=3.4 in /Users/sdcarr/mambaforge/lib/python3.10/site-packages (from seaborn) (3.8.0)\n",
      "Requirement already satisfied: contourpy>=1.0.1 in /Users/sdcarr/mambaforge/lib/python3.10/site-packages (from matplotlib!=3.6.1,>=3.4->seaborn) (1.1.1)\n",
      "Requirement already satisfied: cycler>=0.10 in /Users/sdcarr/mambaforge/lib/python3.10/site-packages (from matplotlib!=3.6.1,>=3.4->seaborn) (0.12.0)\n",
      "Requirement already satisfied: fonttools>=4.22.0 in /Users/sdcarr/mambaforge/lib/python3.10/site-packages (from matplotlib!=3.6.1,>=3.4->seaborn) (4.43.0)\n",
      "Requirement already satisfied: kiwisolver>=1.0.1 in /Users/sdcarr/mambaforge/lib/python3.10/site-packages (from matplotlib!=3.6.1,>=3.4->seaborn) (1.4.5)\n",
      "Requirement already satisfied: packaging>=20.0 in /Users/sdcarr/mambaforge/lib/python3.10/site-packages (from matplotlib!=3.6.1,>=3.4->seaborn) (23.2)\n",
      "Requirement already satisfied: pillow>=6.2.0 in /Users/sdcarr/mambaforge/lib/python3.10/site-packages (from matplotlib!=3.6.1,>=3.4->seaborn) (9.4.0)\n",
      "Requirement already satisfied: pyparsing>=2.3.1 in /Users/sdcarr/mambaforge/lib/python3.10/site-packages (from matplotlib!=3.6.1,>=3.4->seaborn) (3.1.1)\n",
      "Requirement already satisfied: python-dateutil>=2.7 in /Users/sdcarr/mambaforge/lib/python3.10/site-packages (from matplotlib!=3.6.1,>=3.4->seaborn) (2.8.2)\n",
      "Requirement already satisfied: pytz>=2020.1 in /Users/sdcarr/mambaforge/lib/python3.10/site-packages (from pandas>=1.2->seaborn) (2023.3.post1)\n",
      "Requirement already satisfied: tzdata>=2022.1 in /Users/sdcarr/mambaforge/lib/python3.10/site-packages (from pandas>=1.2->seaborn) (2023.3)\n",
      "Requirement already satisfied: six>=1.5 in /Users/sdcarr/mambaforge/lib/python3.10/site-packages (from python-dateutil>=2.7->matplotlib!=3.6.1,>=3.4->seaborn) (1.16.0)\n"
     ]
    }
   ],
   "source": [
    "!pip install seaborn"
   ]
  },
  {
   "cell_type": "code",
   "execution_count": 63,
   "id": "e651cbac-dba3-4af7-85c4-35a8db2caccf",
   "metadata": {},
   "outputs": [
    {
     "data": {
      "image/png": "[encoded data removed]",
      "text/plain": [
       "<Figure size 640x480 with 2 Axes>"
      ]
     },
     "metadata": {},
     "output_type": "display_data"
    }
   ],
   "source": [
    "import seaborn as sns\n",
    "import matplotlib.pyplot as plt\n",
    "\n",
    "corr_matrix = np.corrcoef(housing, rowvar=False)\n",
    "sns.heatmap(corr_matrix, annot=True, fmt=\".2f\", cmap=\"coolwarm\")\n",
    "plt.show()"
   ]
  },
  {
   "cell_type": "code",
   "execution_count": 88,
   "id": "01254b31-a46c-462d-a576-cea52490f817",
   "metadata": {},
   "outputs": [
    {
     "name": "stdout",
     "output_type": "stream",
     "text": [
      "Index(['MedInc', 'HouseAge', 'AveRooms', 'AveBedrms', 'Population', 'AveOccup',\n",
      "       'Latitude', 'Longitude', 'MedHouseVal'],\n",
      "      dtype='object')\n"
     ]
    }
   ],
   "source": [
    "# Si 'housing' es un DataFrame de pandas:\n",
    "variables = housing.columns\n",
    "print(variables)"
   ]
  },
  {
   "cell_type": "markdown",
   "id": "d1ceb670-275a-4f9a-b464-eae5b9a2e6c6",
   "metadata": {},
   "source": [
    "## Esto funcionará bien cuando obtengamos un montón de valores a la vez"
   ]
  },
  {
   "cell_type": "code",
   "execution_count": 89,
   "id": "3eb2c56d-e7ec-4219-8098-0cd50db6199f",
   "metadata": {},
   "outputs": [
    {
     "data": {
      "text/plain": [
       "array([[1.        , 0.67602507],\n",
       "       [0.67602507, 1.        ]])"
      ]
     },
     "execution_count": 89,
     "metadata": {},
     "output_type": "execute_result"
    }
   ],
   "source": [
    "np.corrcoef(housing.MedInc, housing.MedHouseVal)"
   ]
  },
  {
   "cell_type": "markdown",
   "id": "b7a736a2-2e1e-48a3-aa81-8d008abb3d47",
   "metadata": {},
   "source": [
    "## Cuando queremos obtener un único valor de dos variables dadas lo hacemos con la siguiente función"
   ]
  },
  {
   "cell_type": "code",
   "execution_count": 90,
   "id": "5dfdb883-6257-4e2f-ba72-cca63d31f202",
   "metadata": {},
   "outputs": [
    {
     "data": {
      "text/plain": [
       "0.6760250732906014"
      ]
     },
     "execution_count": 90,
     "metadata": {},
     "output_type": "execute_result"
    }
   ],
   "source": [
    "def corr(x,y): return np.corrcoef(x,y)[0][1]\n",
    "corr(housing.MedInc, housing.MedHouseVal)"
   ]
  },
  {
   "cell_type": "code",
   "execution_count": 91,
   "id": "ae7e3158-ba9e-4931-bf14-3e89b32dd392",
   "metadata": {},
   "outputs": [],
   "source": [
    "def show_corr(df,a,b):\n",
    "    x,y = df[a],df[b]\n",
    "    plt.scatter(x,y, alpha=0.5, s=4)\n",
    "    plt.title(f'{a} vs {b}; r:{corr(x,y):2f}')"
   ]
  },
  {
   "cell_type": "code",
   "execution_count": 93,
   "id": "ce4d2c94-ef7f-4b83-890e-fddb5f143c41",
   "metadata": {},
   "outputs": [
    {
     "data": {
      "image/png": "[encoded data removed]",
      "text/plain": [
       "<Figure size 640x480 with 1 Axes>"
      ]
     },
     "metadata": {},
     "output_type": "display_data"
    }
   ],
   "source": [
    "show_corr(housing,'MedInc','MedHouseVal')"
   ]
  },
  {
   "cell_type": "code",
   "execution_count": 94,
   "id": "3bfaa66a-fdf7-4993-81e0-9e0013fb2051",
   "metadata": {},
   "outputs": [
    {
     "data": {
      "image/png": "[encoded data removed]",
      "text/plain": [
       "<Figure size 640x480 with 1 Axes>"
      ]
     },
     "metadata": {},
     "output_type": "display_data"
    }
   ],
   "source": [
    "show_corr(housing, 'MedInc','AveRooms')"
   ]
  },
  {
   "cell_type": "code",
   "execution_count": 96,
   "id": "7e9915e3-ea6a-4a98-8330-478422e29dbb",
   "metadata": {},
   "outputs": [
    {
     "data": {
      "image/png": "[encoded data removed]",
      "text/plain": [
       "<Figure size 640x480 with 1 Axes>"
      ]
     },
     "metadata": {},
     "output_type": "display_data"
    }
   ],
   "source": [
    "subset = housing[housing.AveRooms<15]\n",
    "show_corr(subset,'MedInc','AveRooms')"
   ]
  },
  {
   "cell_type": "code",
   "execution_count": null,
   "id": "939ade8f-e556-4a4f-bf40-74655c97a2f0",
   "metadata": {},
   "outputs": [],
   "source": []
  },
  {
   "cell_type": "code",
   "execution_count": 97,
   "id": "e6420572-3fd4-44d5-985d-ca22fd7bd2f6",
   "metadata": {},
   "outputs": [
    {
     "data": {
      "image/png": "[encoded data removed]",
      "text/plain": [
       "<Figure size 640x480 with 1 Axes>"
      ]
     },
     "metadata": {},
     "output_type": "display_data"
    }
   ],
   "source": [
    "show_corr(subset, 'MedHouseVal', 'AveRooms')"
   ]
  },
  {
   "cell_type": "code",
   "execution_count": 98,
   "id": "7612bf19-36b3-4845-a2f2-ca0d46282378",
   "metadata": {},
   "outputs": [
    {
     "data": {
      "image/png": "[encoded data removed]",
      "text/plain": [
       "<Figure size 640x480 with 1 Axes>"
      ]
     },
     "metadata": {},
     "output_type": "display_data"
    }
   ],
   "source": [
    "show_corr(subset, 'HouseAge', 'AveRooms')"
   ]
  },
  {
   "cell_type": "code",
   "execution_count": 99,
   "id": "a3daf297-140e-43ce-a5ce-381293d3384e",
   "metadata": {},
   "outputs": [],
   "source": [
    "def corr_d(eval_pred): return {'pearson':corr(*eval_pred) }"
   ]
  },
  {
   "cell_type": "markdown",
   "id": "1a2cc633-627c-40a9-ab5d-a30ad41d5018",
   "metadata": {},
   "source": [
    "# Entrenamos nuestro modelo\n",
    "## Para entrenar un modelo con Transformers necesitaremos esto:"
   ]
  },
  {
   "cell_type": "code",
   "execution_count": 103,
   "id": "a5a58b30-eb27-4fb5-9555-371548d608cc",
   "metadata": {},
   "outputs": [],
   "source": [
    "\n",
    "from transformers import TrainingArguments, Trainer"
   ]
  },
  {
   "cell_type": "markdown",
   "id": "91566bd5-5bca-4809-9a24-b43781db7f4d",
   "metadata": {},
   "source": [
    "## Elije un tamaño del lote que se ajuste a nuestra GPU y un pequeño numero de epochs para poder arrancar el experimento rápidamente"
   ]
  },
  {
   "cell_type": "code",
   "execution_count": null,
   "id": "b4bf1846-69bb-4304-a8d6-87f486c6741a",
   "metadata": {},
   "outputs": [],
   "source": [
    "bs = 128\n",
    "epochs = 4"
   ]
  },
  {
   "cell_type": "markdown",
   "id": "2edfed05-d614-4cd2-bc57-4f65bbef82ec",
   "metadata": {},
   "source": [
    "### El hiperparámetro más importante  es el de ratio de apredizaje.fastai proporciona un buscador de tasas de aprendizaje para ayudarle a averiguarlo, pero Transformers no, así que sólo tienes que usar prueba y error. La idea es encontrar el valor más grande que tú puedas, pero que no resulte un entrenamiento fallido."
   ]
  },
  {
   "cell_type": "code",
   "execution_count": null,
   "id": "ae6dcb90-47d9-4562-83ca-b715dd5af1fe",
   "metadata": {},
   "outputs": [],
   "source": [
    "lr = 8e-5"
   ]
  },
  {
   "cell_type": "code",
   "execution_count": null,
   "id": "baee4019-05a1-49cc-83b4-936693df4f77",
   "metadata": {},
   "outputs": [],
   "source": []
  },
  {
   "cell_type": "code",
   "execution_count": null,
   "id": "8d95c5fb-9a56-4a31-8cae-aecca945b891",
   "metadata": {},
   "outputs": [],
   "source": []
  },
  {
   "cell_type": "code",
   "execution_count": 12,
   "id": "3ee6dc49",
   "metadata": {
    "hidden": true,
    "papermill": {
     "duration": 0.085887,
     "end_time": "2022-05-26T23:48:34.704035",
     "exception": false,
     "start_time": "2022-05-26T23:48:34.618148",
     "status": "completed"
    },
    "tags": []
   },
   "outputs": [
    {
     "data": {
      "text/plain": [
       "36"
      ]
     },
     "execution_count": 12,
     "metadata": {},
     "output_type": "execute_result"
    }
   ],
   "source": [
    "eval_df = pd.read_csv(path/'test.csv')\n",
    "len(eval_df)"
   ]
  },
  {
   "cell_type": "code",
   "execution_count": 17,
   "id": "aaddf79d",
   "metadata": {
    "hidden": true,
    "papermill": {
     "duration": 0.085769,
     "end_time": "2022-05-26T23:48:34.863189",
     "exception": false,
     "start_time": "2022-05-26T23:48:34.777420",
     "status": "completed"
    },
    "tags": []
   },
   "outputs": [
    {
     "data": {
      "text/html": [
       "<div>\n",
       "<style scoped>\n",
       "    .dataframe tbody tr th:only-of-type {\n",
       "        vertical-align: middle;\n",
       "    }\n",
       "\n",
       "    .dataframe tbody tr th {\n",
       "        vertical-align: top;\n",
       "    }\n",
       "\n",
       "    .dataframe thead th {\n",
       "        text-align: right;\n",
       "    }\n",
       "</style>\n",
       "<table border=\"1\" class=\"dataframe\">\n",
       "  <thead>\n",
       "    <tr style=\"text-align: right;\">\n",
       "      <th></th>\n",
       "      <th>id</th>\n",
       "      <th>anchor</th>\n",
       "      <th>target</th>\n",
       "      <th>context</th>\n",
       "    </tr>\n",
       "  </thead>\n",
       "  <tbody>\n",
       "    <tr>\n",
       "      <th>0</th>\n",
       "      <td>4112d61851461f60</td>\n",
       "      <td>opc drum</td>\n",
       "      <td>inorganic photoconductor drum</td>\n",
       "      <td>G02</td>\n",
       "    </tr>\n",
       "    <tr>\n",
       "      <th>1</th>\n",
       "      <td>09e418c93a776564</td>\n",
       "      <td>adjust gas flow</td>\n",
       "      <td>altering gas flow</td>\n",
       "      <td>F23</td>\n",
       "    </tr>\n",
       "    <tr>\n",
       "      <th>2</th>\n",
       "      <td>36baf228038e314b</td>\n",
       "      <td>lower trunnion</td>\n",
       "      <td>lower locating</td>\n",
       "      <td>B60</td>\n",
       "    </tr>\n",
       "    <tr>\n",
       "      <th>3</th>\n",
       "      <td>1f37ead645e7f0c8</td>\n",
       "      <td>cap component</td>\n",
       "      <td>upper portion</td>\n",
       "      <td>D06</td>\n",
       "    </tr>\n",
       "    <tr>\n",
       "      <th>4</th>\n",
       "      <td>71a5b6ad068d531f</td>\n",
       "      <td>neural stimulation</td>\n",
       "      <td>artificial neural network</td>\n",
       "      <td>H04</td>\n",
       "    </tr>\n",
       "  </tbody>\n",
       "</table>\n",
       "</div>"
      ],
      "text/plain": [
       "                 id              anchor                         target context\n",
       "0  4112d61851461f60            opc drum  inorganic photoconductor drum     G02\n",
       "1  09e418c93a776564     adjust gas flow              altering gas flow     F23\n",
       "2  36baf228038e314b      lower trunnion                 lower locating     B60\n",
       "3  1f37ead645e7f0c8       cap component                  upper portion     D06\n",
       "4  71a5b6ad068d531f  neural stimulation      artificial neural network     H04"
      ]
     },
     "execution_count": 17,
     "metadata": {},
     "output_type": "execute_result"
    }
   ],
   "source": [
    "eval_df.head()"
   ]
  },
  {
   "cell_type": "markdown",
   "id": "b92e76b9",
   "metadata": {
    "hidden": true,
    "papermill": {
     "duration": 0.073673,
     "end_time": "2022-05-26T23:48:35.010806",
     "exception": false,
     "start_time": "2022-05-26T23:48:34.937133",
     "status": "completed"
    },
    "tags": []
   },
   "source": [
    "Let's look at the distribution of values of `target`:"
   ]
  },
  {
   "cell_type": "code",
   "execution_count": 21,
   "id": "7ec8e9f3",
   "metadata": {
    "hidden": true,
    "papermill": {
     "duration": 0.160127,
     "end_time": "2022-05-26T23:48:35.287397",
     "exception": false,
     "start_time": "2022-05-26T23:48:35.127270",
     "status": "completed"
    },
    "tags": []
   },
   "outputs": [
    {
     "data": {
      "text/plain": [
       "target\n",
       "composition                    24\n",
       "data                           22\n",
       "metal                          22\n",
       "motor                          22\n",
       "assembly                       21\n",
       "                               ..\n",
       "switching switch over valve     1\n",
       "switching switch off valve      1\n",
       "switching over valve            1\n",
       "switching off valve             1\n",
       "wooden substrate                1\n",
       "Name: count, Length: 29340, dtype: int64"
      ]
     },
     "execution_count": 21,
     "metadata": {},
     "output_type": "execute_result"
    }
   ],
   "source": [
    "df.target.value_counts()"
   ]
  },
  {
   "cell_type": "markdown",
   "id": "5394c852",
   "metadata": {
    "hidden": true,
    "papermill": {
     "duration": 0.115163,
     "end_time": "2022-05-26T23:48:35.522064",
     "exception": false,
     "start_time": "2022-05-26T23:48:35.406901",
     "status": "completed"
    },
    "tags": []
   },
   "source": [
    "We see that there's nearly as many unique targets as items in the training set, so they're nearly but not quite unique. Most importantly, we can see that these generally contain very few words (1-4 words in the above sample).\n",
    "\n",
    "Let's check `anchor`:"
   ]
  },
  {
   "cell_type": "code",
   "execution_count": 22,
   "id": "03244f5f",
   "metadata": {
    "hidden": true,
    "papermill": {
     "duration": 0.142466,
     "end_time": "2022-05-26T23:48:35.787003",
     "exception": false,
     "start_time": "2022-05-26T23:48:35.644537",
     "status": "completed"
    },
    "tags": []
   },
   "outputs": [
    {
     "data": {
      "text/plain": [
       "anchor\n",
       "component composite coating              152\n",
       "sheet supply roller                      150\n",
       "source voltage                           140\n",
       "perfluoroalkyl group                     136\n",
       "el display                               135\n",
       "                                        ... \n",
       "plug nozzle                                2\n",
       "shannon                                    2\n",
       "dry coating composition1                   2\n",
       "peripheral nervous system stimulation      1\n",
       "conduct conducting material                1\n",
       "Name: count, Length: 733, dtype: int64"
      ]
     },
     "execution_count": 22,
     "metadata": {},
     "output_type": "execute_result"
    }
   ],
   "source": [
    "df.anchor.value_counts()"
   ]
  },
  {
   "cell_type": "markdown",
   "id": "d1010717",
   "metadata": {
    "hidden": true,
    "papermill": {
     "duration": 0.121258,
     "end_time": "2022-05-26T23:48:36.030313",
     "exception": false,
     "start_time": "2022-05-26T23:48:35.909055",
     "status": "completed"
    },
    "tags": []
   },
   "source": [
    "We can see here that there's far fewer unique values (just 733) and that again they're very short (2-4 words in this sample).\n",
    "\n",
    "Now we'll do `context`"
   ]
  },
  {
   "cell_type": "code",
   "execution_count": 23,
   "id": "13008a6b",
   "metadata": {
    "hidden": true,
    "papermill": {
     "duration": 0.189377,
     "end_time": "2022-05-26T23:48:36.361771",
     "exception": false,
     "start_time": "2022-05-26T23:48:36.172394",
     "status": "completed"
    },
    "tags": []
   },
   "outputs": [
    {
     "data": {
      "text/plain": [
       "context\n",
       "H01    2186\n",
       "H04    2177\n",
       "G01    1812\n",
       "A61    1477\n",
       "F16    1091\n",
       "       ... \n",
       "B03      47\n",
       "F17      33\n",
       "B31      24\n",
       "A62      23\n",
       "F26      18\n",
       "Name: count, Length: 106, dtype: int64"
      ]
     },
     "execution_count": 23,
     "metadata": {},
     "output_type": "execute_result"
    }
   ],
   "source": [
    "df.context.value_counts()"
   ]
  },
  {
   "cell_type": "markdown",
   "id": "91eecd8e",
   "metadata": {
    "hidden": true,
    "papermill": {
     "duration": 0.122002,
     "end_time": "2022-05-26T23:48:36.653034",
     "exception": false,
     "start_time": "2022-05-26T23:48:36.531032",
     "status": "completed"
    },
    "tags": []
   },
   "source": [
    "These are just short codes. Some of them have very few examples (18 in the smallest case) The first character is the section the patent was filed under -- let's create a column for that and look at the distribution:\n",
    "\n",
    "Se trata sólo de códigos cortos. Algunos de ellos tienen muy pocos ejemplos (18 en el caso más pequeño) El primer carácter es la sección bajo la que se presentó la patente -- creemos una columna para eso y miremos la distribución:"
   ]
  },
  {
   "cell_type": "code",
   "execution_count": 24,
   "id": "598f9eeb",
   "metadata": {
    "hidden": true,
    "papermill": {
     "duration": 0.140415,
     "end_time": "2022-05-26T23:48:36.915230",
     "exception": false,
     "start_time": "2022-05-26T23:48:36.774815",
     "status": "completed"
    },
    "tags": []
   },
   "outputs": [
    {
     "data": {
      "text/plain": [
       "section\n",
       "B    8019\n",
       "H    6195\n",
       "G    6013\n",
       "C    5288\n",
       "A    4094\n",
       "F    4054\n",
       "E    1531\n",
       "D    1279\n",
       "Name: count, dtype: int64"
      ]
     },
     "execution_count": 24,
     "metadata": {},
     "output_type": "execute_result"
    }
   ],
   "source": [
    "df['section'] = df.context.str[0]\n",
    "df.section.value_counts()"
   ]
  },
  {
   "cell_type": "markdown",
   "id": "bbd30564",
   "metadata": {
    "hidden": true,
    "papermill": {
     "duration": 0.07417,
     "end_time": "2022-05-26T23:48:37.063875",
     "exception": false,
     "start_time": "2022-05-26T23:48:36.989705",
     "status": "completed"
    },
    "tags": []
   },
   "source": [
    "It seems likely that these sections might be useful, since they've got quite a bit more data in each.\n",
    "\n",
    "Finally, we'll take a look at a histogram of the scores:\n",
    "\n",
    "Parece probable que estas secciones sean útiles, ya que tienen bastantes más datos cada una.\n",
    "\n",
    "Por último, echaremos un vistazo a un histograma de las puntuaciones:"
   ]
  },
  {
   "cell_type": "code",
   "execution_count": 25,
   "id": "be536877",
   "metadata": {
    "hidden": true,
    "papermill": {
     "duration": 0.311537,
     "end_time": "2022-05-26T23:48:37.450348",
     "exception": false,
     "start_time": "2022-05-26T23:48:37.138811",
     "status": "completed"
    },
    "tags": []
   },
   "outputs": [
    {
     "data": {
      "image/png": "[encoded data removed]",
      "text/plain": [
       "<Figure size 640x480 with 1 Axes>"
      ]
     },
     "metadata": {},
     "output_type": "display_data"
    }
   ],
   "source": [
    "df.score.hist();"
   ]
  },
  {
   "cell_type": "markdown",
   "id": "72eb890d",
   "metadata": {
    "hidden": true,
    "papermill": {
     "duration": 0.075325,
     "end_time": "2022-05-26T23:48:37.600945",
     "exception": false,
     "start_time": "2022-05-26T23:48:37.525620",
     "status": "completed"
    },
    "tags": []
   },
   "source": [
    "There's a small number that are scored `1.0` - here's a sample:"
   ]
  },
  {
   "cell_type": "code",
   "execution_count": 27,
   "id": "35dc7359",
   "metadata": {
    "hidden": true,
    "papermill": {
     "duration": 0.101626,
     "end_time": "2022-05-26T23:48:37.778671",
     "exception": false,
     "start_time": "2022-05-26T23:48:37.677045",
     "status": "completed"
    },
    "tags": []
   },
   "outputs": [
    {
     "data": {
      "text/html": [
       "<div>\n",
       "<style scoped>\n",
       "    .dataframe tbody tr th:only-of-type {\n",
       "        vertical-align: middle;\n",
       "    }\n",
       "\n",
       "    .dataframe tbody tr th {\n",
       "        vertical-align: top;\n",
       "    }\n",
       "\n",
       "    .dataframe thead th {\n",
       "        text-align: right;\n",
       "    }\n",
       "</style>\n",
       "<table border=\"1\" class=\"dataframe\">\n",
       "  <thead>\n",
       "    <tr style=\"text-align: right;\">\n",
       "      <th></th>\n",
       "      <th>id</th>\n",
       "      <th>anchor</th>\n",
       "      <th>target</th>\n",
       "      <th>context</th>\n",
       "      <th>score</th>\n",
       "      <th>section</th>\n",
       "    </tr>\n",
       "  </thead>\n",
       "  <tbody>\n",
       "    <tr>\n",
       "      <th>28</th>\n",
       "      <td>473137168ebf7484</td>\n",
       "      <td>abatement</td>\n",
       "      <td>abating</td>\n",
       "      <td>F24</td>\n",
       "      <td>1.0</td>\n",
       "      <td>F</td>\n",
       "    </tr>\n",
       "    <tr>\n",
       "      <th>158</th>\n",
       "      <td>621b048d70aa8867</td>\n",
       "      <td>absorbent properties</td>\n",
       "      <td>absorbent characteristics</td>\n",
       "      <td>D01</td>\n",
       "      <td>1.0</td>\n",
       "      <td>D</td>\n",
       "    </tr>\n",
       "    <tr>\n",
       "      <th>161</th>\n",
       "      <td>bc20a1c961cb073a</td>\n",
       "      <td>absorbent properties</td>\n",
       "      <td>absorption properties</td>\n",
       "      <td>D01</td>\n",
       "      <td>1.0</td>\n",
       "      <td>D</td>\n",
       "    </tr>\n",
       "    <tr>\n",
       "      <th>311</th>\n",
       "      <td>e955700dffd68624</td>\n",
       "      <td>acid absorption</td>\n",
       "      <td>absorption of acid</td>\n",
       "      <td>B08</td>\n",
       "      <td>1.0</td>\n",
       "      <td>B</td>\n",
       "    </tr>\n",
       "    <tr>\n",
       "      <th>315</th>\n",
       "      <td>3a09aba546aac675</td>\n",
       "      <td>acid absorption</td>\n",
       "      <td>acid absorption</td>\n",
       "      <td>B08</td>\n",
       "      <td>1.0</td>\n",
       "      <td>B</td>\n",
       "    </tr>\n",
       "    <tr>\n",
       "      <th>...</th>\n",
       "      <td>...</td>\n",
       "      <td>...</td>\n",
       "      <td>...</td>\n",
       "      <td>...</td>\n",
       "      <td>...</td>\n",
       "      <td>...</td>\n",
       "    </tr>\n",
       "    <tr>\n",
       "      <th>36398</th>\n",
       "      <td>913141526432f1d6</td>\n",
       "      <td>wiring trough</td>\n",
       "      <td>wiring troughs</td>\n",
       "      <td>F16</td>\n",
       "      <td>1.0</td>\n",
       "      <td>F</td>\n",
       "    </tr>\n",
       "    <tr>\n",
       "      <th>36435</th>\n",
       "      <td>ee0746f2a8ecef97</td>\n",
       "      <td>wood article</td>\n",
       "      <td>wood articles</td>\n",
       "      <td>B05</td>\n",
       "      <td>1.0</td>\n",
       "      <td>B</td>\n",
       "    </tr>\n",
       "    <tr>\n",
       "      <th>36440</th>\n",
       "      <td>ecaf479135cf0dfd</td>\n",
       "      <td>wood article</td>\n",
       "      <td>wooden article</td>\n",
       "      <td>B05</td>\n",
       "      <td>1.0</td>\n",
       "      <td>B</td>\n",
       "    </tr>\n",
       "    <tr>\n",
       "      <th>36464</th>\n",
       "      <td>8ceaa2b5c2d56250</td>\n",
       "      <td>wood article</td>\n",
       "      <td>wood article</td>\n",
       "      <td>B44</td>\n",
       "      <td>1.0</td>\n",
       "      <td>B</td>\n",
       "    </tr>\n",
       "    <tr>\n",
       "      <th>36468</th>\n",
       "      <td>8e1386cbefd7f245</td>\n",
       "      <td>wood article</td>\n",
       "      <td>wooden article</td>\n",
       "      <td>B44</td>\n",
       "      <td>1.0</td>\n",
       "      <td>B</td>\n",
       "    </tr>\n",
       "  </tbody>\n",
       "</table>\n",
       "<p>1154 rows × 6 columns</p>\n",
       "</div>"
      ],
      "text/plain": [
       "                     id                anchor                     target  \\\n",
       "28     473137168ebf7484             abatement                    abating   \n",
       "158    621b048d70aa8867  absorbent properties  absorbent characteristics   \n",
       "161    bc20a1c961cb073a  absorbent properties      absorption properties   \n",
       "311    e955700dffd68624       acid absorption         absorption of acid   \n",
       "315    3a09aba546aac675       acid absorption            acid absorption   \n",
       "...                 ...                   ...                        ...   \n",
       "36398  913141526432f1d6         wiring trough             wiring troughs   \n",
       "36435  ee0746f2a8ecef97          wood article              wood articles   \n",
       "36440  ecaf479135cf0dfd          wood article             wooden article   \n",
       "36464  8ceaa2b5c2d56250          wood article               wood article   \n",
       "36468  8e1386cbefd7f245          wood article             wooden article   \n",
       "\n",
       "      context  score section  \n",
       "28        F24    1.0       F  \n",
       "158       D01    1.0       D  \n",
       "161       D01    1.0       D  \n",
       "311       B08    1.0       B  \n",
       "315       B08    1.0       B  \n",
       "...       ...    ...     ...  \n",
       "36398     F16    1.0       F  \n",
       "36435     B05    1.0       B  \n",
       "36440     B05    1.0       B  \n",
       "36464     B44    1.0       B  \n",
       "36468     B44    1.0       B  \n",
       "\n",
       "[1154 rows x 6 columns]"
      ]
     },
     "execution_count": 27,
     "metadata": {},
     "output_type": "execute_result"
    }
   ],
   "source": [
    "df[df.score==1]"
   ]
  },
  {
   "cell_type": "markdown",
   "id": "e74a6796",
   "metadata": {
    "hidden": true,
    "papermill": {
     "duration": 0.076061,
     "end_time": "2022-05-26T23:48:37.933914",
     "exception": false,
     "start_time": "2022-05-26T23:48:37.857853",
     "status": "completed"
    },
    "tags": []
   },
   "source": [
    "We can see from this that these are just minor rewordings of the same concept, and isn't likely to be specific to `context`. Any pretrained model should be pretty good at finding these already.\n",
    "\n",
    "Podemos ver que se trata de pequeñas reformulaciones del mismo concepto y no es probable que sean específicas del contexto. Cualquier modelo preentrenado debería ser capaz de encontrarlas."
   ]
  },
  {
   "cell_type": "markdown",
   "id": "58e8f591",
   "metadata": {
    "heading_collapsed": true,
    "papermill": {
     "duration": 0.07727,
     "end_time": "2022-05-26T23:48:38.088140",
     "exception": false,
     "start_time": "2022-05-26T23:48:38.010870",
     "status": "completed"
    },
    "tags": []
   },
   "source": [
    "## Training"
   ]
  },
  {
   "cell_type": "markdown",
   "id": "6aa19512",
   "metadata": {
    "hidden": true,
    "papermill": {
     "duration": 0.078886,
     "end_time": "2022-05-26T23:48:38.243132",
     "exception": false,
     "start_time": "2022-05-26T23:48:38.164246",
     "status": "completed"
    },
    "tags": []
   },
   "source": [
    "Time to import the stuff we'll need for training:"
   ]
  },
  {
   "cell_type": "code",
   "execution_count": 28,
   "id": "592306d6",
   "metadata": {
    "hidden": true,
    "papermill": {
     "duration": 6.545272,
     "end_time": "2022-05-26T23:48:44.864112",
     "exception": false,
     "start_time": "2022-05-26T23:48:38.318840",
     "status": "completed"
    },
    "tags": []
   },
   "outputs": [],
   "source": [
    "from torch.utils.data import DataLoader\n",
    "import warnings,transformers,logging,torch\n",
    "from transformers import TrainingArguments,Trainer\n",
    "from transformers import AutoModelForSequenceClassification,AutoTokenizer"
   ]
  },
  {
   "cell_type": "code",
   "execution_count": 29,
   "id": "68f7c708",
   "metadata": {
    "hidden": true,
    "papermill": {
     "duration": 7.551731,
     "end_time": "2022-05-26T23:48:52.491519",
     "exception": false,
     "start_time": "2022-05-26T23:48:44.939788",
     "status": "completed"
    },
    "tags": []
   },
   "outputs": [],
   "source": [
    "if iskaggle:\n",
    "    !pip install -q datasets\n",
    "import datasets\n",
    "from datasets import load_dataset, Dataset, DatasetDict"
   ]
  },
  {
   "cell_type": "markdown",
   "id": "b32b63e6",
   "metadata": {
    "hidden": true,
    "papermill": {
     "duration": 0.082233,
     "end_time": "2022-05-26T23:48:52.650944",
     "exception": false,
     "start_time": "2022-05-26T23:48:52.568711",
     "status": "completed"
    },
    "tags": []
   },
   "source": [
    "HuggingFace Transformers tends to be rather enthusiastic about spitting out lots of warnings, so let's quieten it down for our sanity:"
   ]
  },
  {
   "cell_type": "code",
   "execution_count": 30,
   "id": "01335fbf",
   "metadata": {
    "hidden": true,
    "papermill": {
     "duration": 0.088878,
     "end_time": "2022-05-26T23:48:52.821135",
     "exception": false,
     "start_time": "2022-05-26T23:48:52.732257",
     "status": "completed"
    },
    "tags": []
   },
   "outputs": [],
   "source": [
    "warnings.simplefilter('ignore')\n",
    "logging.disable(logging.WARNING)"
   ]
  },
  {
   "cell_type": "markdown",
   "id": "973b8bed",
   "metadata": {
    "hidden": true,
    "papermill": {
     "duration": 0.075715,
     "end_time": "2022-05-26T23:48:52.975046",
     "exception": false,
     "start_time": "2022-05-26T23:48:52.899331",
     "status": "completed"
    },
    "tags": []
   },
   "source": [
    "I tried to find a model that I could train reasonably at home in under two minutes, but got reasonable accuracy from. I found that deberta-v3-small fits the bill, so let's use it:"
   ]
  },
  {
   "cell_type": "code",
   "execution_count": 31,
   "id": "a86fda90",
   "metadata": {
    "hidden": true,
    "papermill": {
     "duration": 0.083988,
     "end_time": "2022-05-26T23:48:53.135761",
     "exception": false,
     "start_time": "2022-05-26T23:48:53.051773",
     "status": "completed"
    },
    "tags": []
   },
   "outputs": [],
   "source": [
    "model_nm = 'microsoft/deberta-v3-small'"
   ]
  },
  {
   "cell_type": "markdown",
   "id": "4de4e426",
   "metadata": {
    "hidden": true,
    "papermill": {
     "duration": 0.075121,
     "end_time": "2022-05-26T23:48:53.287429",
     "exception": false,
     "start_time": "2022-05-26T23:48:53.212308",
     "status": "completed"
    },
    "tags": []
   },
   "source": [
    "We can now create a tokenizer for this model. Note that pretrained models assume that text is tokenized in a particular way. In order to ensure that your tokenizer matches your model, use the `AutoTokenizer`, passing in your model name."
   ]
  },
  {
   "cell_type": "code",
   "execution_count": 33,
   "id": "f5f61cd0",
   "metadata": {
    "hidden": true,
    "papermill": {
     "duration": 5.885561,
     "end_time": "2022-05-26T23:48:59.248889",
     "exception": false,
     "start_time": "2022-05-26T23:48:53.363328",
     "status": "completed"
    },
    "tags": []
   },
   "outputs": [
    {
     "ename": "ImportError",
     "evalue": "\nDebertaV2Converter requires the protobuf library but it was not found in your environment. Checkout the instructions on the\ninstallation page of its repo: https://github.com/protocolbuffers/protobuf/tree/master/python#installation and follow the ones\nthat match your environment. Please note that you may need to restart your runtime after installation.\n",
     "output_type": "error",
     "traceback": [
      "\u001b[0;31m---------------------------------------------------------------------------\u001b[0m",
      "\u001b[0;31mImportError\u001b[0m                               Traceback (most recent call last)",
      "Cell \u001b[0;32mIn[33], line 1\u001b[0m\n\u001b[0;32m----> 1\u001b[0m tokz \u001b[38;5;241m=\u001b[39m \u001b[43mAutoTokenizer\u001b[49m\u001b[38;5;241;43m.\u001b[39;49m\u001b[43mfrom_pretrained\u001b[49m\u001b[43m(\u001b[49m\u001b[43mmodel_nm\u001b[49m\u001b[43m)\u001b[49m\n",
      "File \u001b[0;32m~/mambaforge/lib/python3.10/site-packages/transformers/models/auto/tokenization_auto.py:754\u001b[0m, in \u001b[0;36mAutoTokenizer.from_pretrained\u001b[0;34m(cls, pretrained_model_name_or_path, *inputs, **kwargs)\u001b[0m\n\u001b[1;32m    752\u001b[0m tokenizer_class_py, tokenizer_class_fast \u001b[38;5;241m=\u001b[39m TOKENIZER_MAPPING[\u001b[38;5;28mtype\u001b[39m(config)]\n\u001b[1;32m    753\u001b[0m \u001b[38;5;28;01mif\u001b[39;00m tokenizer_class_fast \u001b[38;5;129;01mand\u001b[39;00m (use_fast \u001b[38;5;129;01mor\u001b[39;00m tokenizer_class_py \u001b[38;5;129;01mis\u001b[39;00m \u001b[38;5;28;01mNone\u001b[39;00m):\n\u001b[0;32m--> 754\u001b[0m     \u001b[38;5;28;01mreturn\u001b[39;00m \u001b[43mtokenizer_class_fast\u001b[49m\u001b[38;5;241;43m.\u001b[39;49m\u001b[43mfrom_pretrained\u001b[49m\u001b[43m(\u001b[49m\u001b[43mpretrained_model_name_or_path\u001b[49m\u001b[43m,\u001b[49m\u001b[43m \u001b[49m\u001b[38;5;241;43m*\u001b[39;49m\u001b[43minputs\u001b[49m\u001b[43m,\u001b[49m\u001b[43m \u001b[49m\u001b[38;5;241;43m*\u001b[39;49m\u001b[38;5;241;43m*\u001b[39;49m\u001b[43mkwargs\u001b[49m\u001b[43m)\u001b[49m\n\u001b[1;32m    755\u001b[0m \u001b[38;5;28;01melse\u001b[39;00m:\n\u001b[1;32m    756\u001b[0m     \u001b[38;5;28;01mif\u001b[39;00m tokenizer_class_py \u001b[38;5;129;01mis\u001b[39;00m \u001b[38;5;129;01mnot\u001b[39;00m \u001b[38;5;28;01mNone\u001b[39;00m:\n",
      "File \u001b[0;32m~/mambaforge/lib/python3.10/site-packages/transformers/tokenization_utils_base.py:1854\u001b[0m, in \u001b[0;36mPreTrainedTokenizerBase.from_pretrained\u001b[0;34m(cls, pretrained_model_name_or_path, cache_dir, force_download, local_files_only, token, revision, *init_inputs, **kwargs)\u001b[0m\n\u001b[1;32m   1851\u001b[0m     \u001b[38;5;28;01melse\u001b[39;00m:\n\u001b[1;32m   1852\u001b[0m         logger\u001b[38;5;241m.\u001b[39minfo(\u001b[38;5;124mf\u001b[39m\u001b[38;5;124m\"\u001b[39m\u001b[38;5;124mloading file \u001b[39m\u001b[38;5;132;01m{\u001b[39;00mfile_path\u001b[38;5;132;01m}\u001b[39;00m\u001b[38;5;124m from cache at \u001b[39m\u001b[38;5;132;01m{\u001b[39;00mresolved_vocab_files[file_id]\u001b[38;5;132;01m}\u001b[39;00m\u001b[38;5;124m\"\u001b[39m)\n\u001b[0;32m-> 1854\u001b[0m \u001b[38;5;28;01mreturn\u001b[39;00m \u001b[38;5;28;43mcls\u001b[39;49m\u001b[38;5;241;43m.\u001b[39;49m\u001b[43m_from_pretrained\u001b[49m\u001b[43m(\u001b[49m\n\u001b[1;32m   1855\u001b[0m \u001b[43m    \u001b[49m\u001b[43mresolved_vocab_files\u001b[49m\u001b[43m,\u001b[49m\n\u001b[1;32m   1856\u001b[0m \u001b[43m    \u001b[49m\u001b[43mpretrained_model_name_or_path\u001b[49m\u001b[43m,\u001b[49m\n\u001b[1;32m   1857\u001b[0m \u001b[43m    \u001b[49m\u001b[43minit_configuration\u001b[49m\u001b[43m,\u001b[49m\n\u001b[1;32m   1858\u001b[0m \u001b[43m    \u001b[49m\u001b[38;5;241;43m*\u001b[39;49m\u001b[43minit_inputs\u001b[49m\u001b[43m,\u001b[49m\n\u001b[1;32m   1859\u001b[0m \u001b[43m    \u001b[49m\u001b[43mtoken\u001b[49m\u001b[38;5;241;43m=\u001b[39;49m\u001b[43mtoken\u001b[49m\u001b[43m,\u001b[49m\n\u001b[1;32m   1860\u001b[0m \u001b[43m    \u001b[49m\u001b[43mcache_dir\u001b[49m\u001b[38;5;241;43m=\u001b[39;49m\u001b[43mcache_dir\u001b[49m\u001b[43m,\u001b[49m\n\u001b[1;32m   1861\u001b[0m \u001b[43m    \u001b[49m\u001b[43mlocal_files_only\u001b[49m\u001b[38;5;241;43m=\u001b[39;49m\u001b[43mlocal_files_only\u001b[49m\u001b[43m,\u001b[49m\n\u001b[1;32m   1862\u001b[0m \u001b[43m    \u001b[49m\u001b[43m_commit_hash\u001b[49m\u001b[38;5;241;43m=\u001b[39;49m\u001b[43mcommit_hash\u001b[49m\u001b[43m,\u001b[49m\n\u001b[1;32m   1863\u001b[0m \u001b[43m    \u001b[49m\u001b[43m_is_local\u001b[49m\u001b[38;5;241;43m=\u001b[39;49m\u001b[43mis_local\u001b[49m\u001b[43m,\u001b[49m\n\u001b[1;32m   1864\u001b[0m \u001b[43m    \u001b[49m\u001b[38;5;241;43m*\u001b[39;49m\u001b[38;5;241;43m*\u001b[39;49m\u001b[43mkwargs\u001b[49m\u001b[43m,\u001b[49m\n\u001b[1;32m   1865\u001b[0m \u001b[43m\u001b[49m\u001b[43m)\u001b[49m\n",
      "File \u001b[0;32m~/mambaforge/lib/python3.10/site-packages/transformers/tokenization_utils_base.py:2017\u001b[0m, in \u001b[0;36mPreTrainedTokenizerBase._from_pretrained\u001b[0;34m(cls, resolved_vocab_files, pretrained_model_name_or_path, init_configuration, token, cache_dir, local_files_only, _commit_hash, _is_local, *init_inputs, **kwargs)\u001b[0m\n\u001b[1;32m   2015\u001b[0m \u001b[38;5;66;03m# Instantiate tokenizer.\u001b[39;00m\n\u001b[1;32m   2016\u001b[0m \u001b[38;5;28;01mtry\u001b[39;00m:\n\u001b[0;32m-> 2017\u001b[0m     tokenizer \u001b[38;5;241m=\u001b[39m \u001b[38;5;28;43mcls\u001b[39;49m\u001b[43m(\u001b[49m\u001b[38;5;241;43m*\u001b[39;49m\u001b[43minit_inputs\u001b[49m\u001b[43m,\u001b[49m\u001b[43m \u001b[49m\u001b[38;5;241;43m*\u001b[39;49m\u001b[38;5;241;43m*\u001b[39;49m\u001b[43minit_kwargs\u001b[49m\u001b[43m)\u001b[49m\n\u001b[1;32m   2018\u001b[0m \u001b[38;5;28;01mexcept\u001b[39;00m \u001b[38;5;167;01mOSError\u001b[39;00m:\n\u001b[1;32m   2019\u001b[0m     \u001b[38;5;28;01mraise\u001b[39;00m \u001b[38;5;167;01mOSError\u001b[39;00m(\n\u001b[1;32m   2020\u001b[0m         \u001b[38;5;124m\"\u001b[39m\u001b[38;5;124mUnable to load vocabulary from file. \u001b[39m\u001b[38;5;124m\"\u001b[39m\n\u001b[1;32m   2021\u001b[0m         \u001b[38;5;124m\"\u001b[39m\u001b[38;5;124mPlease check that the provided vocabulary is accessible and not corrupted.\u001b[39m\u001b[38;5;124m\"\u001b[39m\n\u001b[1;32m   2022\u001b[0m     )\n",
      "File \u001b[0;32m~/mambaforge/lib/python3.10/site-packages/transformers/models/deberta_v2/tokenization_deberta_v2_fast.py:133\u001b[0m, in \u001b[0;36mDebertaV2TokenizerFast.__init__\u001b[0;34m(self, vocab_file, tokenizer_file, do_lower_case, split_by_punct, bos_token, eos_token, unk_token, sep_token, pad_token, cls_token, mask_token, **kwargs)\u001b[0m\n\u001b[1;32m    118\u001b[0m \u001b[38;5;28;01mdef\u001b[39;00m \u001b[38;5;21m__init__\u001b[39m(\n\u001b[1;32m    119\u001b[0m     \u001b[38;5;28mself\u001b[39m,\n\u001b[1;32m    120\u001b[0m     vocab_file\u001b[38;5;241m=\u001b[39m\u001b[38;5;28;01mNone\u001b[39;00m,\n\u001b[0;32m   (...)\u001b[0m\n\u001b[1;32m    131\u001b[0m     \u001b[38;5;241m*\u001b[39m\u001b[38;5;241m*\u001b[39mkwargs,\n\u001b[1;32m    132\u001b[0m ) \u001b[38;5;241m-\u001b[39m\u001b[38;5;241m>\u001b[39m \u001b[38;5;28;01mNone\u001b[39;00m:\n\u001b[0;32m--> 133\u001b[0m     \u001b[38;5;28;43msuper\u001b[39;49m\u001b[43m(\u001b[49m\u001b[43m)\u001b[49m\u001b[38;5;241;43m.\u001b[39;49m\u001b[38;5;21;43m__init__\u001b[39;49m\u001b[43m(\u001b[49m\n\u001b[1;32m    134\u001b[0m \u001b[43m        \u001b[49m\u001b[43mvocab_file\u001b[49m\u001b[43m,\u001b[49m\n\u001b[1;32m    135\u001b[0m \u001b[43m        \u001b[49m\u001b[43mtokenizer_file\u001b[49m\u001b[38;5;241;43m=\u001b[39;49m\u001b[43mtokenizer_file\u001b[49m\u001b[43m,\u001b[49m\n\u001b[1;32m    136\u001b[0m \u001b[43m        \u001b[49m\u001b[43mdo_lower_case\u001b[49m\u001b[38;5;241;43m=\u001b[39;49m\u001b[43mdo_lower_case\u001b[49m\u001b[43m,\u001b[49m\n\u001b[1;32m    137\u001b[0m \u001b[43m        \u001b[49m\u001b[43mbos_token\u001b[49m\u001b[38;5;241;43m=\u001b[39;49m\u001b[43mbos_token\u001b[49m\u001b[43m,\u001b[49m\n\u001b[1;32m    138\u001b[0m \u001b[43m        \u001b[49m\u001b[43meos_token\u001b[49m\u001b[38;5;241;43m=\u001b[39;49m\u001b[43meos_token\u001b[49m\u001b[43m,\u001b[49m\n\u001b[1;32m    139\u001b[0m \u001b[43m        \u001b[49m\u001b[43munk_token\u001b[49m\u001b[38;5;241;43m=\u001b[39;49m\u001b[43munk_token\u001b[49m\u001b[43m,\u001b[49m\n\u001b[1;32m    140\u001b[0m \u001b[43m        \u001b[49m\u001b[43msep_token\u001b[49m\u001b[38;5;241;43m=\u001b[39;49m\u001b[43msep_token\u001b[49m\u001b[43m,\u001b[49m\n\u001b[1;32m    141\u001b[0m \u001b[43m        \u001b[49m\u001b[43mpad_token\u001b[49m\u001b[38;5;241;43m=\u001b[39;49m\u001b[43mpad_token\u001b[49m\u001b[43m,\u001b[49m\n\u001b[1;32m    142\u001b[0m \u001b[43m        \u001b[49m\u001b[43mcls_token\u001b[49m\u001b[38;5;241;43m=\u001b[39;49m\u001b[43mcls_token\u001b[49m\u001b[43m,\u001b[49m\n\u001b[1;32m    143\u001b[0m \u001b[43m        \u001b[49m\u001b[43mmask_token\u001b[49m\u001b[38;5;241;43m=\u001b[39;49m\u001b[43mmask_token\u001b[49m\u001b[43m,\u001b[49m\n\u001b[1;32m    144\u001b[0m \u001b[43m        \u001b[49m\u001b[43msplit_by_punct\u001b[49m\u001b[38;5;241;43m=\u001b[39;49m\u001b[43msplit_by_punct\u001b[49m\u001b[43m,\u001b[49m\n\u001b[1;32m    145\u001b[0m \u001b[43m        \u001b[49m\u001b[38;5;241;43m*\u001b[39;49m\u001b[38;5;241;43m*\u001b[39;49m\u001b[43mkwargs\u001b[49m\u001b[43m,\u001b[49m\n\u001b[1;32m    146\u001b[0m \u001b[43m    \u001b[49m\u001b[43m)\u001b[49m\n\u001b[1;32m    148\u001b[0m     \u001b[38;5;28mself\u001b[39m\u001b[38;5;241m.\u001b[39mdo_lower_case \u001b[38;5;241m=\u001b[39m do_lower_case\n\u001b[1;32m    149\u001b[0m     \u001b[38;5;28mself\u001b[39m\u001b[38;5;241m.\u001b[39msplit_by_punct \u001b[38;5;241m=\u001b[39m split_by_punct\n",
      "File \u001b[0;32m~/mambaforge/lib/python3.10/site-packages/transformers/tokenization_utils_fast.py:113\u001b[0m, in \u001b[0;36mPreTrainedTokenizerFast.__init__\u001b[0;34m(self, *args, **kwargs)\u001b[0m\n\u001b[1;32m    110\u001b[0m     fast_tokenizer \u001b[38;5;241m=\u001b[39m TokenizerFast\u001b[38;5;241m.\u001b[39mfrom_file(fast_tokenizer_file)\n\u001b[1;32m    111\u001b[0m \u001b[38;5;28;01melif\u001b[39;00m slow_tokenizer \u001b[38;5;129;01mis\u001b[39;00m \u001b[38;5;129;01mnot\u001b[39;00m \u001b[38;5;28;01mNone\u001b[39;00m:\n\u001b[1;32m    112\u001b[0m     \u001b[38;5;66;03m# We need to convert a slow tokenizer to build the backend\u001b[39;00m\n\u001b[0;32m--> 113\u001b[0m     fast_tokenizer \u001b[38;5;241m=\u001b[39m \u001b[43mconvert_slow_tokenizer\u001b[49m\u001b[43m(\u001b[49m\u001b[43mslow_tokenizer\u001b[49m\u001b[43m)\u001b[49m\n\u001b[1;32m    114\u001b[0m \u001b[38;5;28;01melif\u001b[39;00m \u001b[38;5;28mself\u001b[39m\u001b[38;5;241m.\u001b[39mslow_tokenizer_class \u001b[38;5;129;01mis\u001b[39;00m \u001b[38;5;129;01mnot\u001b[39;00m \u001b[38;5;28;01mNone\u001b[39;00m:\n\u001b[1;32m    115\u001b[0m     \u001b[38;5;66;03m# We need to create and convert a slow tokenizer to build the backend\u001b[39;00m\n\u001b[1;32m    116\u001b[0m     slow_tokenizer \u001b[38;5;241m=\u001b[39m \u001b[38;5;28mself\u001b[39m\u001b[38;5;241m.\u001b[39mslow_tokenizer_class(\u001b[38;5;241m*\u001b[39margs, \u001b[38;5;241m*\u001b[39m\u001b[38;5;241m*\u001b[39mkwargs)\n",
      "File \u001b[0;32m~/mambaforge/lib/python3.10/site-packages/transformers/convert_slow_tokenizer.py:1336\u001b[0m, in \u001b[0;36mconvert_slow_tokenizer\u001b[0;34m(transformer_tokenizer)\u001b[0m\n\u001b[1;32m   1328\u001b[0m     \u001b[38;5;28;01mraise\u001b[39;00m \u001b[38;5;167;01mValueError\u001b[39;00m(\n\u001b[1;32m   1329\u001b[0m         \u001b[38;5;124mf\u001b[39m\u001b[38;5;124m\"\u001b[39m\u001b[38;5;124mAn instance of tokenizer class \u001b[39m\u001b[38;5;132;01m{\u001b[39;00mtokenizer_class_name\u001b[38;5;132;01m}\u001b[39;00m\u001b[38;5;124m cannot be converted in a Fast tokenizer instance.\u001b[39m\u001b[38;5;124m\"\u001b[39m\n\u001b[1;32m   1330\u001b[0m         \u001b[38;5;124m\"\u001b[39m\u001b[38;5;124m No converter was found. Currently available slow->fast convertors:\u001b[39m\u001b[38;5;124m\"\u001b[39m\n\u001b[1;32m   1331\u001b[0m         \u001b[38;5;124mf\u001b[39m\u001b[38;5;124m\"\u001b[39m\u001b[38;5;124m \u001b[39m\u001b[38;5;132;01m{\u001b[39;00m\u001b[38;5;28mlist\u001b[39m(SLOW_TO_FAST_CONVERTERS\u001b[38;5;241m.\u001b[39mkeys())\u001b[38;5;132;01m}\u001b[39;00m\u001b[38;5;124m\"\u001b[39m\n\u001b[1;32m   1332\u001b[0m     )\n\u001b[1;32m   1334\u001b[0m converter_class \u001b[38;5;241m=\u001b[39m SLOW_TO_FAST_CONVERTERS[tokenizer_class_name]\n\u001b[0;32m-> 1336\u001b[0m \u001b[38;5;28;01mreturn\u001b[39;00m \u001b[43mconverter_class\u001b[49m\u001b[43m(\u001b[49m\u001b[43mtransformer_tokenizer\u001b[49m\u001b[43m)\u001b[49m\u001b[38;5;241m.\u001b[39mconverted()\n",
      "File \u001b[0;32m~/mambaforge/lib/python3.10/site-packages/transformers/convert_slow_tokenizer.py:459\u001b[0m, in \u001b[0;36mSpmConverter.__init__\u001b[0;34m(self, *args)\u001b[0m\n\u001b[1;32m    458\u001b[0m \u001b[38;5;28;01mdef\u001b[39;00m \u001b[38;5;21m__init__\u001b[39m(\u001b[38;5;28mself\u001b[39m, \u001b[38;5;241m*\u001b[39margs):\n\u001b[0;32m--> 459\u001b[0m     \u001b[43mrequires_backends\u001b[49m\u001b[43m(\u001b[49m\u001b[38;5;28;43mself\u001b[39;49m\u001b[43m,\u001b[49m\u001b[43m \u001b[49m\u001b[38;5;124;43m\"\u001b[39;49m\u001b[38;5;124;43mprotobuf\u001b[39;49m\u001b[38;5;124;43m\"\u001b[39;49m\u001b[43m)\u001b[49m\n\u001b[1;32m    461\u001b[0m     \u001b[38;5;28msuper\u001b[39m()\u001b[38;5;241m.\u001b[39m\u001b[38;5;21m__init__\u001b[39m(\u001b[38;5;241m*\u001b[39margs)\n\u001b[1;32m    463\u001b[0m     \u001b[38;5;66;03m# from .utils import sentencepiece_model_pb2 as model_pb2\u001b[39;00m\n",
      "File \u001b[0;32m~/mambaforge/lib/python3.10/site-packages/transformers/utils/import_utils.py:1112\u001b[0m, in \u001b[0;36mrequires_backends\u001b[0;34m(obj, backends)\u001b[0m\n\u001b[1;32m   1110\u001b[0m failed \u001b[38;5;241m=\u001b[39m [msg\u001b[38;5;241m.\u001b[39mformat(name) \u001b[38;5;28;01mfor\u001b[39;00m available, msg \u001b[38;5;129;01min\u001b[39;00m checks \u001b[38;5;28;01mif\u001b[39;00m \u001b[38;5;129;01mnot\u001b[39;00m available()]\n\u001b[1;32m   1111\u001b[0m \u001b[38;5;28;01mif\u001b[39;00m failed:\n\u001b[0;32m-> 1112\u001b[0m     \u001b[38;5;28;01mraise\u001b[39;00m \u001b[38;5;167;01mImportError\u001b[39;00m(\u001b[38;5;124m\"\u001b[39m\u001b[38;5;124m\"\u001b[39m\u001b[38;5;241m.\u001b[39mjoin(failed))\n",
      "\u001b[0;31mImportError\u001b[0m: \nDebertaV2Converter requires the protobuf library but it was not found in your environment. Checkout the instructions on the\ninstallation page of its repo: https://github.com/protocolbuffers/protobuf/tree/master/python#installation and follow the ones\nthat match your environment. Please note that you may need to restart your runtime after installation.\n"
     ]
    }
   ],
   "source": [
    "tokz = AutoTokenizer.from_pretrained(model_nm)"
   ]
  },
  {
   "cell_type": "markdown",
   "id": "529122f1",
   "metadata": {
    "hidden": true,
    "papermill": {
     "duration": 0.077603,
     "end_time": "2022-05-26T23:48:59.405264",
     "exception": false,
     "start_time": "2022-05-26T23:48:59.327661",
     "status": "completed"
    },
    "tags": []
   },
   "source": [
    "We'll need to combine the context, anchor, and target together somehow. There's not much research as to the best way to do this, so we may need to iterate a bit. To start with, we'll just combine them all into a single string. The model will need to know where each section starts, so we can use the special separator token to tell it:"
   ]
  },
  {
   "cell_type": "code",
   "execution_count": 18,
   "id": "a2032514",
   "metadata": {
    "execution": {
     "iopub.execute_input": "2022-05-26T23:48:59.565257Z",
     "iopub.status.busy": "2022-05-26T23:48:59.564567Z",
     "iopub.status.idle": "2022-05-26T23:48:59.567178Z",
     "shell.execute_reply": "2022-05-26T23:48:59.567576Z",
     "shell.execute_reply.started": "2022-04-20T18:47:14.623301Z"
    },
    "hidden": true,
    "papermill": {
     "duration": 0.08474,
     "end_time": "2022-05-26T23:48:59.567699",
     "exception": false,
     "start_time": "2022-05-26T23:48:59.482959",
     "status": "completed"
    },
    "tags": []
   },
   "outputs": [
    {
     "data": {
      "text/plain": [
       "'[SEP]'"
      ]
     },
     "execution_count": 18,
     "metadata": {},
     "output_type": "execute_result"
    }
   ],
   "source": [
    "sep = tokz.sep_token\n",
    "sep"
   ]
  },
  {
   "cell_type": "markdown",
   "id": "a94c18bc",
   "metadata": {
    "hidden": true,
    "papermill": {
     "duration": 0.081577,
     "end_time": "2022-05-26T23:48:59.729030",
     "exception": false,
     "start_time": "2022-05-26T23:48:59.647453",
     "status": "completed"
    },
    "tags": []
   },
   "source": [
    "Let's now created our combined column:"
   ]
  },
  {
   "cell_type": "code",
   "execution_count": 19,
   "id": "2c84dd31",
   "metadata": {
    "execution": {
     "iopub.execute_input": "2022-05-26T23:48:59.894475Z",
     "iopub.status.busy": "2022-05-26T23:48:59.893637Z",
     "iopub.status.idle": "2022-05-26T23:48:59.912278Z",
     "shell.execute_reply": "2022-05-26T23:48:59.911807Z",
     "shell.execute_reply.started": "2022-04-20T18:47:14.631622Z"
    },
    "hidden": true,
    "papermill": {
     "duration": 0.103996,
     "end_time": "2022-05-26T23:48:59.912397",
     "exception": false,
     "start_time": "2022-05-26T23:48:59.808401",
     "status": "completed"
    },
    "tags": []
   },
   "outputs": [],
   "source": [
    "df['inputs'] = df.context + sep + df.anchor + sep + df.target"
   ]
  },
  {
   "cell_type": "markdown",
   "id": "786ef88e",
   "metadata": {
    "hidden": true,
    "papermill": {
     "duration": 0.077605,
     "end_time": "2022-05-26T23:49:00.067554",
     "exception": false,
     "start_time": "2022-05-26T23:48:59.989949",
     "status": "completed"
    },
    "tags": []
   },
   "source": [
    "Generally we'll get best performance if we convert pandas DataFrames into HuggingFace Datasets, so we'll convert them over, and also rename the score column to what Transformers expects for the dependent variable, which is `label`:"
   ]
  },
  {
   "cell_type": "code",
   "execution_count": 20,
   "id": "a33d4fd7",
   "metadata": {
    "execution": {
     "iopub.execute_input": "2022-05-26T23:49:00.227171Z",
     "iopub.status.busy": "2022-05-26T23:49:00.226594Z",
     "iopub.status.idle": "2022-05-26T23:49:00.265372Z",
     "shell.execute_reply": "2022-05-26T23:49:00.264480Z",
     "shell.execute_reply.started": "2022-04-20T18:47:14.663871Z"
    },
    "hidden": true,
    "papermill": {
     "duration": 0.120505,
     "end_time": "2022-05-26T23:49:00.265485",
     "exception": false,
     "start_time": "2022-05-26T23:49:00.144980",
     "status": "completed"
    },
    "tags": []
   },
   "outputs": [],
   "source": [
    "ds = Dataset.from_pandas(df).rename_column('score', 'label')\n",
    "eval_ds = Dataset.from_pandas(eval_df)"
   ]
  },
  {
   "cell_type": "markdown",
   "id": "a2db21ab",
   "metadata": {
    "hidden": true,
    "papermill": {
     "duration": 0.076727,
     "end_time": "2022-05-26T23:49:00.419215",
     "exception": false,
     "start_time": "2022-05-26T23:49:00.342488",
     "status": "completed"
    },
    "tags": []
   },
   "source": [
    "To tokenize the data, we'll create a function (since that's what `Dataset.map` will need):"
   ]
  },
  {
   "cell_type": "code",
   "execution_count": 21,
   "id": "807d6c8d",
   "metadata": {
    "execution": {
     "iopub.execute_input": "2022-05-26T23:49:00.578037Z",
     "iopub.status.busy": "2022-05-26T23:49:00.577202Z",
     "iopub.status.idle": "2022-05-26T23:49:00.579054Z",
     "shell.execute_reply": "2022-05-26T23:49:00.579461Z",
     "shell.execute_reply.started": "2022-04-20T18:47:14.93232Z"
    },
    "hidden": true,
    "papermill": {
     "duration": 0.083366,
     "end_time": "2022-05-26T23:49:00.579586",
     "exception": false,
     "start_time": "2022-05-26T23:49:00.496220",
     "status": "completed"
    },
    "tags": []
   },
   "outputs": [],
   "source": [
    "def tok_func(x): return tokz(x[\"inputs\"])"
   ]
  },
  {
   "cell_type": "markdown",
   "id": "dce3981e",
   "metadata": {
    "hidden": true,
    "papermill": {
     "duration": 0.076625,
     "end_time": "2022-05-26T23:49:00.733520",
     "exception": false,
     "start_time": "2022-05-26T23:49:00.656895",
     "status": "completed"
    },
    "tags": []
   },
   "source": [
    "Let's try tokenizing one input and see how it looks"
   ]
  },
  {
   "cell_type": "code",
   "execution_count": 22,
   "id": "d32bfc72",
   "metadata": {
    "execution": {
     "iopub.execute_input": "2022-05-26T23:49:00.898072Z",
     "iopub.status.busy": "2022-05-26T23:49:00.895876Z",
     "iopub.status.idle": "2022-05-26T23:49:00.901276Z",
     "shell.execute_reply": "2022-05-26T23:49:00.900807Z",
     "shell.execute_reply.started": "2022-04-20T18:47:14.940059Z"
    },
    "hidden": true,
    "papermill": {
     "duration": 0.090515,
     "end_time": "2022-05-26T23:49:00.901391",
     "exception": false,
     "start_time": "2022-05-26T23:49:00.810876",
     "status": "completed"
    },
    "tags": []
   },
   "outputs": [
    {
     "data": {
      "text/plain": [
       "{'input_ids': [1, 336, 5753, 2, 47284, 2, 47284, 265, 6435, 2], 'token_type_ids': [0, 0, 0, 0, 0, 0, 0, 0, 0, 0], 'attention_mask': [1, 1, 1, 1, 1, 1, 1, 1, 1, 1]}"
      ]
     },
     "execution_count": 22,
     "metadata": {},
     "output_type": "execute_result"
    }
   ],
   "source": [
    "tok_func(ds[0])"
   ]
  },
  {
   "cell_type": "markdown",
   "id": "299e87fd",
   "metadata": {
    "hidden": true,
    "papermill": {
     "duration": 0.078836,
     "end_time": "2022-05-26T23:49:01.057455",
     "exception": false,
     "start_time": "2022-05-26T23:49:00.978619",
     "status": "completed"
    },
    "tags": []
   },
   "source": [
    "The only bit we care about at the moment is `input_ids`. We can see in the tokens that it starts with a special token `1` (which represents the start of text), and then has our three fields separated by the separator token `2`. We can check the indices of the special token IDs like so:"
   ]
  },
  {
   "cell_type": "code",
   "execution_count": 23,
   "id": "b0aea492",
   "metadata": {
    "execution": {
     "iopub.execute_input": "2022-05-26T23:49:01.219897Z",
     "iopub.status.busy": "2022-05-26T23:49:01.219251Z",
     "iopub.status.idle": "2022-05-26T23:49:01.221814Z",
     "shell.execute_reply": "2022-05-26T23:49:01.222288Z",
     "shell.execute_reply.started": "2022-04-20T18:47:14.951052Z"
    },
    "hidden": true,
    "papermill": {
     "duration": 0.086698,
     "end_time": "2022-05-26T23:49:01.222428",
     "exception": false,
     "start_time": "2022-05-26T23:49:01.135730",
     "status": "completed"
    },
    "tags": []
   },
   "outputs": [
    {
     "data": {
      "text/plain": [
       "['[CLS]', '[SEP]', '[UNK]', '[PAD]', '[MASK]']"
      ]
     },
     "execution_count": 23,
     "metadata": {},
     "output_type": "execute_result"
    }
   ],
   "source": [
    "tokz.all_special_tokens"
   ]
  },
  {
   "cell_type": "markdown",
   "id": "ae9401b2",
   "metadata": {
    "hidden": true,
    "papermill": {
     "duration": 0.077401,
     "end_time": "2022-05-26T23:49:01.378694",
     "exception": false,
     "start_time": "2022-05-26T23:49:01.301293",
     "status": "completed"
    },
    "tags": []
   },
   "source": [
    "We can now tokenize the input. We'll use batching to speed it up, and remove the columns we no longer need:"
   ]
  },
  {
   "cell_type": "code",
   "execution_count": 24,
   "id": "5d848dc8",
   "metadata": {
    "execution": {
     "iopub.execute_input": "2022-05-26T23:49:01.544446Z",
     "iopub.status.busy": "2022-05-26T23:49:01.543695Z",
     "iopub.status.idle": "2022-05-26T23:49:08.560872Z",
     "shell.execute_reply": "2022-05-26T23:49:08.561282Z",
     "shell.execute_reply.started": "2022-04-20T18:47:14.960846Z"
    },
    "hidden": true,
    "papermill": {
     "duration": 7.104938,
     "end_time": "2022-05-26T23:49:08.561440",
     "exception": false,
     "start_time": "2022-05-26T23:49:01.456502",
     "status": "completed"
    },
    "tags": []
   },
   "outputs": [
    {
     "data": {
      "application/vnd.jupyter.widget-view+json": {
       "model_id": "1467acc30bc443fba8ffbf7f1902f826",
       "version_major": 2,
       "version_minor": 0
      },
      "text/plain": [
       "  0%|          | 0/37 [00:00<?, ?ba/s]"
      ]
     },
     "metadata": {},
     "output_type": "display_data"
    }
   ],
   "source": [
    "inps = \"anchor\",\"target\",\"context\"\n",
    "tok_ds = ds.map(tok_func, batched=True, remove_columns=inps+('inputs','id','section'))"
   ]
  },
  {
   "cell_type": "markdown",
   "id": "7eea2523",
   "metadata": {
    "hidden": true,
    "papermill": {
     "duration": 0.080684,
     "end_time": "2022-05-26T23:49:08.722936",
     "exception": false,
     "start_time": "2022-05-26T23:49:08.642252",
     "status": "completed"
    },
    "tags": []
   },
   "source": [
    "Looking at the first item of the dataset we should see the same information as when we checked `tok_func` above:"
   ]
  },
  {
   "cell_type": "code",
   "execution_count": 25,
   "id": "f16c285d",
   "metadata": {
    "execution": {
     "iopub.execute_input": "2022-05-26T23:49:08.899316Z",
     "iopub.status.busy": "2022-05-26T23:49:08.898606Z",
     "iopub.status.idle": "2022-05-26T23:49:08.901439Z",
     "shell.execute_reply": "2022-05-26T23:49:08.901841Z",
     "shell.execute_reply.started": "2022-04-20T18:47:21.821952Z"
    },
    "hidden": true,
    "papermill": {
     "duration": 0.092635,
     "end_time": "2022-05-26T23:49:08.901981",
     "exception": false,
     "start_time": "2022-05-26T23:49:08.809346",
     "status": "completed"
    },
    "tags": []
   },
   "outputs": [
    {
     "data": {
      "text/plain": [
       "{'label': 0.5,\n",
       " 'input_ids': [1, 336, 5753, 2, 47284, 2, 47284, 265, 6435, 2],\n",
       " 'token_type_ids': [0, 0, 0, 0, 0, 0, 0, 0, 0, 0],\n",
       " 'attention_mask': [1, 1, 1, 1, 1, 1, 1, 1, 1, 1]}"
      ]
     },
     "execution_count": 25,
     "metadata": {},
     "output_type": "execute_result"
    }
   ],
   "source": [
    "tok_ds[0]"
   ]
  },
  {
   "cell_type": "markdown",
   "id": "2ef0093e",
   "metadata": {
    "heading_collapsed": true,
    "papermill": {
     "duration": 0.081305,
     "end_time": "2022-05-26T23:49:09.064220",
     "exception": false,
     "start_time": "2022-05-26T23:49:08.982915",
     "status": "completed"
    },
    "tags": []
   },
   "source": [
    "## Creating a validation set"
   ]
  },
  {
   "cell_type": "markdown",
   "id": "63f1927b",
   "metadata": {
    "hidden": true,
    "papermill": {
     "duration": 0.145391,
     "end_time": "2022-05-26T23:49:09.309208",
     "exception": false,
     "start_time": "2022-05-26T23:49:09.163817",
     "status": "completed"
    },
    "tags": []
   },
   "source": [
    "According to [this post](https://www.kaggle.com/competitions/us-patent-phrase-to-phrase-matching/discussion/315220), the private test anchors do not overlap with the training set. So let's do the same thing for our validation set.\n",
    "\n",
    "First, create a randomly shuffled list of anchors:"
   ]
  },
  {
   "cell_type": "code",
   "execution_count": 26,
   "id": "f482ae35",
   "metadata": {
    "execution": {
     "iopub.execute_input": "2022-05-26T23:49:09.576982Z",
     "iopub.status.busy": "2022-05-26T23:49:09.576206Z",
     "iopub.status.idle": "2022-05-26T23:49:09.584481Z",
     "shell.execute_reply": "2022-05-26T23:49:09.585440Z",
     "shell.execute_reply.started": "2022-04-20T18:47:21.83246Z"
    },
    "hidden": true,
    "papermill": {
     "duration": 0.146607,
     "end_time": "2022-05-26T23:49:09.585628",
     "exception": false,
     "start_time": "2022-05-26T23:49:09.439021",
     "status": "completed"
    },
    "tags": []
   },
   "outputs": [
    {
     "data": {
      "text/plain": [
       "array(['time digital signal', 'antiatherosclerotic', 'filled interior',\n",
       "       'dispersed powder', 'locking formation'], dtype=object)"
      ]
     },
     "execution_count": 26,
     "metadata": {},
     "output_type": "execute_result"
    }
   ],
   "source": [
    "anchors = df.anchor.unique()\n",
    "np.random.seed(42)\n",
    "np.random.shuffle(anchors)\n",
    "anchors[:5]"
   ]
  },
  {
   "cell_type": "markdown",
   "id": "75182fc0",
   "metadata": {
    "hidden": true,
    "papermill": {
     "duration": 0.079819,
     "end_time": "2022-05-26T23:49:09.791606",
     "exception": false,
     "start_time": "2022-05-26T23:49:09.711787",
     "status": "completed"
    },
    "tags": []
   },
   "source": [
    "Now we can pick some proportion (e.g 25%) of these anchors to go in the validation set:"
   ]
  },
  {
   "cell_type": "code",
   "execution_count": 27,
   "id": "f8a4ca9e",
   "metadata": {
    "execution": {
     "iopub.execute_input": "2022-05-26T23:49:09.955487Z",
     "iopub.status.busy": "2022-05-26T23:49:09.954714Z",
     "iopub.status.idle": "2022-05-26T23:49:09.957310Z",
     "shell.execute_reply": "2022-05-26T23:49:09.956874Z",
     "shell.execute_reply.started": "2022-04-20T18:47:21.845845Z"
    },
    "hidden": true,
    "papermill": {
     "duration": 0.086896,
     "end_time": "2022-05-26T23:49:09.957427",
     "exception": false,
     "start_time": "2022-05-26T23:49:09.870531",
     "status": "completed"
    },
    "tags": []
   },
   "outputs": [],
   "source": [
    "val_prop = 0.25\n",
    "val_sz = int(len(anchors)*val_prop)\n",
    "val_anchors = anchors[:val_sz]"
   ]
  },
  {
   "cell_type": "markdown",
   "id": "916e03bb",
   "metadata": {
    "hidden": true,
    "papermill": {
     "duration": 0.079146,
     "end_time": "2022-05-26T23:49:10.115585",
     "exception": false,
     "start_time": "2022-05-26T23:49:10.036439",
     "status": "completed"
    },
    "tags": []
   },
   "source": [
    "Now we can get a list of which rows match `val_anchors`, and get their indices:"
   ]
  },
  {
   "cell_type": "code",
   "execution_count": 28,
   "id": "357304bb",
   "metadata": {
    "execution": {
     "iopub.execute_input": "2022-05-26T23:49:10.477599Z",
     "iopub.status.busy": "2022-05-26T23:49:10.476831Z",
     "iopub.status.idle": "2022-05-26T23:49:10.479645Z",
     "shell.execute_reply": "2022-05-26T23:49:10.480164Z",
     "shell.execute_reply.started": "2022-04-20T18:47:21.852371Z"
    },
    "hidden": true,
    "papermill": {
     "duration": 0.285039,
     "end_time": "2022-05-26T23:49:10.480314",
     "exception": false,
     "start_time": "2022-05-26T23:49:10.195275",
     "status": "completed"
    },
    "tags": []
   },
   "outputs": [
    {
     "data": {
      "text/plain": [
       "(9116, 27357)"
      ]
     },
     "execution_count": 28,
     "metadata": {},
     "output_type": "execute_result"
    }
   ],
   "source": [
    "is_val = np.isin(df.anchor, val_anchors)\n",
    "idxs = np.arange(len(df))\n",
    "val_idxs = idxs[ is_val]\n",
    "trn_idxs = idxs[~is_val]\n",
    "len(val_idxs),len(trn_idxs)"
   ]
  },
  {
   "cell_type": "markdown",
   "id": "f75fb077",
   "metadata": {
    "hidden": true,
    "papermill": {
     "duration": 0.078856,
     "end_time": "2022-05-26T23:49:10.638706",
     "exception": false,
     "start_time": "2022-05-26T23:49:10.559850",
     "status": "completed"
    },
    "tags": []
   },
   "source": [
    "Our training and validation `Dataset`s can now be selected, and put into a `DatasetDict` ready for training:"
   ]
  },
  {
   "cell_type": "code",
   "execution_count": 29,
   "id": "d720f138",
   "metadata": {
    "execution": {
     "iopub.execute_input": "2022-05-26T23:49:10.816201Z",
     "iopub.status.busy": "2022-05-26T23:49:10.815370Z",
     "iopub.status.idle": "2022-05-26T23:49:10.826389Z",
     "shell.execute_reply": "2022-05-26T23:49:10.825739Z",
     "shell.execute_reply.started": "2022-04-20T18:47:22.063211Z"
    },
    "hidden": true,
    "papermill": {
     "duration": 0.10863,
     "end_time": "2022-05-26T23:49:10.826535",
     "exception": false,
     "start_time": "2022-05-26T23:49:10.717905",
     "status": "completed"
    },
    "tags": []
   },
   "outputs": [],
   "source": [
    "dds = DatasetDict({\"train\":tok_ds.select(trn_idxs),\n",
    "             \"test\": tok_ds.select(val_idxs)})"
   ]
  },
  {
   "cell_type": "markdown",
   "id": "58d29d78",
   "metadata": {
    "hidden": true,
    "papermill": {
     "duration": 0.087747,
     "end_time": "2022-05-26T23:49:11.001347",
     "exception": false,
     "start_time": "2022-05-26T23:49:10.913600",
     "status": "completed"
    },
    "tags": []
   },
   "source": [
    "BTW, a lot of people do more complex stuff for creating their validation set, but with a dataset this large there's not much point. As you can see, the mean scores in the two groups are very similar despite just doing a random shuffle:"
   ]
  },
  {
   "cell_type": "code",
   "execution_count": 30,
   "id": "edb62d46",
   "metadata": {
    "execution": {
     "iopub.execute_input": "2022-05-26T23:49:11.168671Z",
     "iopub.status.busy": "2022-05-26T23:49:11.167767Z",
     "iopub.status.idle": "2022-05-26T23:49:11.180869Z",
     "shell.execute_reply": "2022-05-26T23:49:11.181271Z",
     "shell.execute_reply.started": "2022-04-20T18:47:22.086933Z"
    },
    "hidden": true,
    "papermill": {
     "duration": 0.097132,
     "end_time": "2022-05-26T23:49:11.181421",
     "exception": false,
     "start_time": "2022-05-26T23:49:11.084289",
     "status": "completed"
    },
    "tags": []
   },
   "outputs": [
    {
     "data": {
      "text/plain": [
       "(0.3623021530138539, 0.3613426941641071)"
      ]
     },
     "execution_count": 30,
     "metadata": {},
     "output_type": "execute_result"
    }
   ],
   "source": [
    "df.iloc[trn_idxs].score.mean(),df.iloc[val_idxs].score.mean()"
   ]
  },
  {
   "cell_type": "markdown",
   "id": "fdc0dc2c",
   "metadata": {
    "heading_collapsed": true,
    "papermill": {
     "duration": 0.08042,
     "end_time": "2022-05-26T23:49:11.345039",
     "exception": false,
     "start_time": "2022-05-26T23:49:11.264619",
     "status": "completed"
    },
    "tags": []
   },
   "source": [
    "## Initial model"
   ]
  },
  {
   "cell_type": "markdown",
   "id": "ed272818",
   "metadata": {
    "hidden": true,
    "papermill": {
     "duration": 0.079204,
     "end_time": "2022-05-26T23:49:11.504384",
     "exception": false,
     "start_time": "2022-05-26T23:49:11.425180",
     "status": "completed"
    },
    "tags": []
   },
   "source": [
    "Let's now train our model! We'll need to specify a metric, which is the correlation coefficient provided by numpy (we need to return a dictionary since that's how Transformers knows what label to use):"
   ]
  },
  {
   "cell_type": "code",
   "execution_count": 31,
   "id": "157cc8c8",
   "metadata": {
    "execution": {
     "iopub.execute_input": "2022-05-26T23:49:11.668505Z",
     "iopub.status.busy": "2022-05-26T23:49:11.667688Z",
     "iopub.status.idle": "2022-05-26T23:49:11.670194Z",
     "shell.execute_reply": "2022-05-26T23:49:11.669761Z",
     "shell.execute_reply.started": "2022-04-20T18:47:22.108412Z"
    },
    "hidden": true,
    "papermill": {
     "duration": 0.086335,
     "end_time": "2022-05-26T23:49:11.670315",
     "exception": false,
     "start_time": "2022-05-26T23:49:11.583980",
     "status": "completed"
    },
    "tags": []
   },
   "outputs": [],
   "source": [
    "def corr(eval_pred): return {'pearson': np.corrcoef(*eval_pred)[0][1]}"
   ]
  },
  {
   "cell_type": "markdown",
   "id": "a756e9f4",
   "metadata": {
    "hidden": true,
    "papermill": {
     "duration": 0.081379,
     "end_time": "2022-05-26T23:49:11.831306",
     "exception": false,
     "start_time": "2022-05-26T23:49:11.749927",
     "status": "completed"
    },
    "tags": []
   },
   "source": [
    "We pick a learning rate and batch size that fits our GPU, and pick a reasonable weight decay and small number of epochs:"
   ]
  },
  {
   "cell_type": "code",
   "execution_count": 32,
   "id": "70c9599f",
   "metadata": {
    "execution": {
     "iopub.execute_input": "2022-05-26T23:49:11.997397Z",
     "iopub.status.busy": "2022-05-26T23:49:11.995783Z",
     "iopub.status.idle": "2022-05-26T23:49:11.997963Z",
     "shell.execute_reply": "2022-05-26T23:49:11.998400Z",
     "shell.execute_reply.started": "2022-04-20T18:47:22.114437Z"
    },
    "hidden": true,
    "papermill": {
     "duration": 0.086929,
     "end_time": "2022-05-26T23:49:11.998534",
     "exception": false,
     "start_time": "2022-05-26T23:49:11.911605",
     "status": "completed"
    },
    "tags": []
   },
   "outputs": [],
   "source": [
    "lr,bs = 8e-5,128\n",
    "wd,epochs = 0.01,4"
   ]
  },
  {
   "cell_type": "markdown",
   "id": "0ea9285b",
   "metadata": {
    "hidden": true,
    "papermill": {
     "duration": 0.087644,
     "end_time": "2022-05-26T23:49:12.166347",
     "exception": false,
     "start_time": "2022-05-26T23:49:12.078703",
     "status": "completed"
    },
    "tags": []
   },
   "source": [
    "Three epochs might not sound like much, but you'll see once we train that most of the progress can be made in that time, so this is good for experimentation.\n",
    "\n",
    "Transformers uses the `TrainingArguments` class to set up arguments. We'll use a cosine scheduler with warmup, since at fast.ai we've found that's pretty reliable. We'll use fp16 since it's much faster on modern GPUs, and saves some memory. We evaluate using double-sized batches, since no gradients are stored so we can do twice as many rows at a time."
   ]
  },
  {
   "cell_type": "code",
   "execution_count": 33,
   "id": "dfeadf5a",
   "metadata": {
    "execution": {
     "iopub.execute_input": "2022-05-26T23:49:12.336874Z",
     "iopub.status.busy": "2022-05-26T23:49:12.336030Z",
     "iopub.status.idle": "2022-05-26T23:49:12.337753Z",
     "shell.execute_reply": "2022-05-26T23:49:12.338203Z",
     "shell.execute_reply.started": "2022-04-20T18:47:22.12488Z"
    },
    "hidden": true,
    "papermill": {
     "duration": 0.090935,
     "end_time": "2022-05-26T23:49:12.338343",
     "exception": false,
     "start_time": "2022-05-26T23:49:12.247408",
     "status": "completed"
    },
    "tags": []
   },
   "outputs": [],
   "source": [
    "def get_trainer(dds):\n",
    "    args = TrainingArguments('outputs', learning_rate=lr, warmup_ratio=0.1, lr_scheduler_type='cosine', fp16=True,\n",
    "        evaluation_strategy=\"epoch\", per_device_train_batch_size=bs, per_device_eval_batch_size=bs*2,\n",
    "        num_train_epochs=epochs, weight_decay=wd, report_to='none')\n",
    "    model = AutoModelForSequenceClassification.from_pretrained(model_nm, num_labels=1)\n",
    "    return Trainer(model, args, train_dataset=dds['train'], eval_dataset=dds['test'],\n",
    "                   tokenizer=tokz, compute_metrics=corr)"
   ]
  },
  {
   "cell_type": "code",
   "execution_count": 34,
   "id": "cc3509d4",
   "metadata": {
    "execution": {
     "iopub.execute_input": "2022-05-26T23:49:12.504777Z",
     "iopub.status.busy": "2022-05-26T23:49:12.503811Z",
     "iopub.status.idle": "2022-05-26T23:49:12.581378Z",
     "shell.execute_reply": "2022-05-26T23:49:12.580759Z",
     "shell.execute_reply.started": "2022-04-20T18:47:22.134979Z"
    },
    "hidden": true,
    "papermill": {
     "duration": 0.162751,
     "end_time": "2022-05-26T23:49:12.581500",
     "exception": false,
     "start_time": "2022-05-26T23:49:12.418749",
     "status": "completed"
    },
    "tags": []
   },
   "outputs": [],
   "source": [
    "args = TrainingArguments('outputs', learning_rate=lr, warmup_ratio=0.1, lr_scheduler_type='cosine', fp16=True,\n",
    "    evaluation_strategy=\"epoch\", per_device_train_batch_size=bs, per_device_eval_batch_size=bs*2,\n",
    "    num_train_epochs=epochs, weight_decay=wd, report_to='none')"
   ]
  },
  {
   "cell_type": "markdown",
   "id": "ae2dbd62",
   "metadata": {
    "hidden": true,
    "papermill": {
     "duration": 0.080002,
     "end_time": "2022-05-26T23:49:12.742598",
     "exception": false,
     "start_time": "2022-05-26T23:49:12.662596",
     "status": "completed"
    },
    "tags": []
   },
   "source": [
    "We can now create our model, and `Trainer`, which is a class which combines the data and model together (just like `Learner` in fastai):"
   ]
  },
  {
   "cell_type": "code",
   "execution_count": 35,
   "id": "fcf94aee",
   "metadata": {
    "execution": {
     "iopub.execute_input": "2022-05-26T23:49:12.908374Z",
     "iopub.status.busy": "2022-05-26T23:49:12.907570Z",
     "iopub.status.idle": "2022-05-26T23:49:33.726504Z",
     "shell.execute_reply": "2022-05-26T23:49:33.725566Z",
     "shell.execute_reply.started": "2022-04-20T18:47:22.204868Z"
    },
    "hidden": true,
    "papermill": {
     "duration": 20.903622,
     "end_time": "2022-05-26T23:49:33.726659",
     "exception": false,
     "start_time": "2022-05-26T23:49:12.823037",
     "status": "completed"
    },
    "tags": []
   },
   "outputs": [
    {
     "data": {
      "application/vnd.jupyter.widget-view+json": {
       "model_id": "7bbfe71ed4f347fe85fb30b5b2382e0f",
       "version_major": 2,
       "version_minor": 0
      },
      "text/plain": [
       "Downloading:   0%|          | 0.00/273M [00:00<?, ?B/s]"
      ]
     },
     "metadata": {},
     "output_type": "display_data"
    }
   ],
   "source": [
    "model = AutoModelForSequenceClassification.from_pretrained(model_nm, num_labels=1)\n",
    "trainer = Trainer(model, args, train_dataset=dds['train'], eval_dataset=dds['test'],\n",
    "               tokenizer=tokz, compute_metrics=corr)"
   ]
  },
  {
   "cell_type": "markdown",
   "id": "3c64f6ef",
   "metadata": {
    "hidden": true,
    "papermill": {
     "duration": 0.080501,
     "end_time": "2022-05-26T23:49:33.888455",
     "exception": false,
     "start_time": "2022-05-26T23:49:33.807954",
     "status": "completed"
    },
    "tags": []
   },
   "source": [
    "Let's train our model!"
   ]
  },
  {
   "cell_type": "code",
   "execution_count": 36,
   "id": "24690b4f",
   "metadata": {
    "execution": {
     "iopub.execute_input": "2022-05-26T23:49:34.059065Z",
     "iopub.status.busy": "2022-05-26T23:49:34.058263Z",
     "iopub.status.idle": "2022-05-26T23:53:54.575338Z",
     "shell.execute_reply": "2022-05-26T23:53:54.574877Z",
     "shell.execute_reply.started": "2022-04-20T18:47:43.411773Z"
    },
    "hidden": true,
    "papermill": {
     "duration": 260.607107,
     "end_time": "2022-05-26T23:53:54.575476",
     "exception": false,
     "start_time": "2022-05-26T23:49:33.968369",
     "status": "completed"
    },
    "tags": []
   },
   "outputs": [
    {
     "data": {
      "text/html": [
       "\n",
       "    <div>\n",
       "      \n",
       "      <progress value='856' max='856' style='width:300px; height:20px; vertical-align: middle;'></progress>\n",
       "      [856/856 04:19, Epoch 4/4]\n",
       "    </div>\n",
       "    <table border=\"1\" class=\"dataframe\">\n",
       "  <thead>\n",
       " <tr style=\"text-align: left;\">\n",
       "      <th>Epoch</th>\n",
       "      <th>Training Loss</th>\n",
       "      <th>Validation Loss</th>\n",
       "      <th>Pearson</th>\n",
       "    </tr>\n",
       "  </thead>\n",
       "  <tbody>\n",
       "    <tr>\n",
       "      <td>1</td>\n",
       "      <td>No log</td>\n",
       "      <td>0.025167</td>\n",
       "      <td>0.798359</td>\n",
       "    </tr>\n",
       "    <tr>\n",
       "      <td>2</td>\n",
       "      <td>No log</td>\n",
       "      <td>0.025149</td>\n",
       "      <td>0.803286</td>\n",
       "    </tr>\n",
       "    <tr>\n",
       "      <td>3</td>\n",
       "      <td>0.035300</td>\n",
       "      <td>0.024344</td>\n",
       "      <td>0.815202</td>\n",
       "    </tr>\n",
       "    <tr>\n",
       "      <td>4</td>\n",
       "      <td>0.035300</td>\n",
       "      <td>0.024549</td>\n",
       "      <td>0.815378</td>\n",
       "    </tr>\n",
       "  </tbody>\n",
       "</table><p>"
      ],
      "text/plain": [
       "<IPython.core.display.HTML object>"
      ]
     },
     "metadata": {},
     "output_type": "display_data"
    }
   ],
   "source": [
    "trainer.train();"
   ]
  },
  {
   "cell_type": "markdown",
   "id": "832e4491",
   "metadata": {
    "papermill": {
     "duration": 0.081378,
     "end_time": "2022-05-26T23:53:54.743198",
     "exception": false,
     "start_time": "2022-05-26T23:53:54.661820",
     "status": "completed"
    },
    "tags": []
   },
   "source": [
    "## Improving the model"
   ]
  },
  {
   "cell_type": "markdown",
   "id": "8565a139",
   "metadata": {
    "papermill": {
     "duration": 0.079935,
     "end_time": "2022-05-26T23:53:54.903886",
     "exception": false,
     "start_time": "2022-05-26T23:53:54.823951",
     "status": "completed"
    },
    "tags": []
   },
   "source": [
    "We now want to start iterating to improve this. To do that, we need to know whether the model gives stable results. I tried training it 3 times from scratch, and got a range of outcomes from 0.808-0.810. This is stable enough to make a start - if we're not finding improvements that are visible within this range, then they're not very significant! Later on, if and when we feel confident that we've got the basics right, we can use cross validation and more epochs of training.\n",
    "\n",
    "Iteration speed is critical, so we need to quickly be able to try different data processing and trainer parameters. So let's create a function to quickly apply tokenization and create our `DatasetDict`:"
   ]
  },
  {
   "cell_type": "code",
   "execution_count": 37,
   "id": "fe9f32fe",
   "metadata": {
    "execution": {
     "iopub.execute_input": "2022-05-26T23:53:55.075230Z",
     "iopub.status.busy": "2022-05-26T23:53:55.074576Z",
     "iopub.status.idle": "2022-05-26T23:53:55.077065Z",
     "shell.execute_reply": "2022-05-26T23:53:55.077576Z",
     "shell.execute_reply.started": "2022-04-20T18:52:07.51356Z"
    },
    "papermill": {
     "duration": 0.092376,
     "end_time": "2022-05-26T23:53:55.077718",
     "exception": false,
     "start_time": "2022-05-26T23:53:54.985342",
     "status": "completed"
    },
    "tags": []
   },
   "outputs": [],
   "source": [
    "def get_dds(df):\n",
    "    ds = Dataset.from_pandas(df).rename_column('score', 'label')\n",
    "    tok_ds = ds.map(tok_func, batched=True, remove_columns=inps+('inputs','id','section'))\n",
    "    return DatasetDict({\"train\":tok_ds.select(trn_idxs), \"test\": tok_ds.select(val_idxs)})"
   ]
  },
  {
   "cell_type": "markdown",
   "id": "3b8396a2",
   "metadata": {
    "papermill": {
     "duration": 0.166417,
     "end_time": "2022-05-26T23:53:55.351838",
     "exception": false,
     "start_time": "2022-05-26T23:53:55.185421",
     "status": "completed"
    },
    "tags": []
   },
   "source": [
    "...and also a function to create a `Trainer`:"
   ]
  },
  {
   "cell_type": "code",
   "execution_count": 38,
   "id": "db1aad08",
   "metadata": {
    "execution": {
     "iopub.execute_input": "2022-05-26T23:53:55.641542Z",
     "iopub.status.busy": "2022-05-26T23:53:55.640114Z",
     "iopub.status.idle": "2022-05-26T23:53:55.642535Z",
     "shell.execute_reply": "2022-05-26T23:53:55.640800Z",
     "shell.execute_reply.started": "2022-04-20T18:52:07.522276Z"
    },
    "papermill": {
     "duration": 0.147877,
     "end_time": "2022-05-26T23:53:55.642702",
     "exception": false,
     "start_time": "2022-05-26T23:53:55.494825",
     "status": "completed"
    },
    "tags": []
   },
   "outputs": [],
   "source": [
    "def get_model(): return AutoModelForSequenceClassification.from_pretrained(model_nm, num_labels=1)\n",
    "\n",
    "def get_trainer(dds, model=None):\n",
    "    if model is None: model = get_model()\n",
    "    args = TrainingArguments('outputs', learning_rate=lr, warmup_ratio=0.1, lr_scheduler_type='cosine', fp16=True,\n",
    "        evaluation_strategy=\"epoch\", per_device_train_batch_size=bs, per_device_eval_batch_size=bs*2,\n",
    "        num_train_epochs=epochs, weight_decay=wd, report_to='none')\n",
    "    return Trainer(model, args, train_dataset=dds['train'], eval_dataset=dds['test'],\n",
    "                   tokenizer=tokz, compute_metrics=corr)"
   ]
  },
  {
   "cell_type": "markdown",
   "id": "4bdb358a",
   "metadata": {
    "papermill": {
     "duration": 0.081728,
     "end_time": "2022-05-26T23:53:55.831661",
     "exception": false,
     "start_time": "2022-05-26T23:53:55.749933",
     "status": "completed"
    },
    "tags": []
   },
   "source": [
    "Let's now try out some ideas...\n",
    "\n",
    "Perhaps using the special separator character isn't a good idea, and we should use something we create instead. Let's see if that makes things better. First we'll change the separator and create the `DatasetDict`:"
   ]
  },
  {
   "cell_type": "code",
   "execution_count": 39,
   "id": "038e3d6f",
   "metadata": {
    "execution": {
     "iopub.execute_input": "2022-05-26T23:53:56.026397Z",
     "iopub.status.busy": "2022-05-26T23:53:56.003728Z",
     "iopub.status.idle": "2022-05-26T23:54:02.736791Z",
     "shell.execute_reply": "2022-05-26T23:54:02.737203Z",
     "shell.execute_reply.started": "2022-04-20T18:56:47.88635Z"
    },
    "papermill": {
     "duration": 6.823235,
     "end_time": "2022-05-26T23:54:02.737364",
     "exception": false,
     "start_time": "2022-05-26T23:53:55.914129",
     "status": "completed"
    },
    "tags": []
   },
   "outputs": [
    {
     "data": {
      "application/vnd.jupyter.widget-view+json": {
       "model_id": "cab7d1e3479748b285f90645beae28ed",
       "version_major": 2,
       "version_minor": 0
      },
      "text/plain": [
       "  0%|          | 0/37 [00:00<?, ?ba/s]"
      ]
     },
     "metadata": {},
     "output_type": "display_data"
    }
   ],
   "source": [
    "sep = \" [s] \"\n",
    "df['inputs'] = df.context + sep + df.anchor + sep + df.target\n",
    "dds = get_dds(df)"
   ]
  },
  {
   "cell_type": "markdown",
   "id": "2992eedf",
   "metadata": {
    "papermill": {
     "duration": 0.081832,
     "end_time": "2022-05-26T23:54:02.903232",
     "exception": false,
     "start_time": "2022-05-26T23:54:02.821400",
     "status": "completed"
    },
    "tags": []
   },
   "source": [
    "...and create and train a model. "
   ]
  },
  {
   "cell_type": "code",
   "execution_count": 40,
   "id": "2bdd9185",
   "metadata": {
    "execution": {
     "iopub.execute_input": "2022-05-26T23:54:03.076186Z",
     "iopub.status.busy": "2022-05-26T23:54:03.072754Z",
     "iopub.status.idle": "2022-05-26T23:58:35.064324Z",
     "shell.execute_reply": "2022-05-26T23:58:35.064770Z",
     "shell.execute_reply.started": "2022-04-20T18:56:55.225892Z"
    },
    "papermill": {
     "duration": 272.079294,
     "end_time": "2022-05-26T23:58:35.064938",
     "exception": false,
     "start_time": "2022-05-26T23:54:02.985644",
     "status": "completed"
    },
    "tags": []
   },
   "outputs": [
    {
     "data": {
      "text/html": [
       "\n",
       "    <div>\n",
       "      \n",
       "      <progress value='856' max='856' style='width:300px; height:20px; vertical-align: middle;'></progress>\n",
       "      [856/856 04:29, Epoch 4/4]\n",
       "    </div>\n",
       "    <table border=\"1\" class=\"dataframe\">\n",
       "  <thead>\n",
       " <tr style=\"text-align: left;\">\n",
       "      <th>Epoch</th>\n",
       "      <th>Training Loss</th>\n",
       "      <th>Validation Loss</th>\n",
       "      <th>Pearson</th>\n",
       "    </tr>\n",
       "  </thead>\n",
       "  <tbody>\n",
       "    <tr>\n",
       "      <td>1</td>\n",
       "      <td>No log</td>\n",
       "      <td>0.024909</td>\n",
       "      <td>0.797869</td>\n",
       "    </tr>\n",
       "    <tr>\n",
       "      <td>2</td>\n",
       "      <td>No log</td>\n",
       "      <td>0.024800</td>\n",
       "      <td>0.812953</td>\n",
       "    </tr>\n",
       "    <tr>\n",
       "      <td>3</td>\n",
       "      <td>0.031600</td>\n",
       "      <td>0.024418</td>\n",
       "      <td>0.818292</td>\n",
       "    </tr>\n",
       "    <tr>\n",
       "      <td>4</td>\n",
       "      <td>0.031600</td>\n",
       "      <td>0.024037</td>\n",
       "      <td>0.819089</td>\n",
       "    </tr>\n",
       "  </tbody>\n",
       "</table><p>"
      ],
      "text/plain": [
       "<IPython.core.display.HTML object>"
      ]
     },
     "metadata": {},
     "output_type": "display_data"
    },
    {
     "data": {
      "text/plain": [
       "TrainOutput(global_step=856, training_loss=0.023822079752093165, metrics={'train_runtime': 269.6383, 'train_samples_per_second': 405.833, 'train_steps_per_second': 3.175, 'total_flos': 582160588599300.0, 'train_loss': 0.023822079752093165, 'epoch': 4.0})"
      ]
     },
     "execution_count": 40,
     "metadata": {},
     "output_type": "execute_result"
    }
   ],
   "source": [
    "get_trainer(dds).train()"
   ]
  },
  {
   "cell_type": "markdown",
   "id": "762927f7",
   "metadata": {
    "papermill": {
     "duration": 0.082215,
     "end_time": "2022-05-26T23:58:35.233774",
     "exception": false,
     "start_time": "2022-05-26T23:58:35.151559",
     "status": "completed"
    },
    "tags": []
   },
   "source": [
    "That's looking quite a bit better, so we'll keep that change.\n",
    "\n",
    "Often changing to lowercase is helpful. Let's see if that helps too:"
   ]
  },
  {
   "cell_type": "code",
   "execution_count": 41,
   "id": "93d8518d",
   "metadata": {
    "execution": {
     "iopub.execute_input": "2022-05-26T23:58:35.411243Z",
     "iopub.status.busy": "2022-05-26T23:58:35.405717Z",
     "iopub.status.idle": "2022-05-27T00:03:18.960349Z",
     "shell.execute_reply": "2022-05-27T00:03:18.959862Z",
     "shell.execute_reply.started": "2022-04-20T19:01:39.375999Z"
    },
    "papermill": {
     "duration": 283.643852,
     "end_time": "2022-05-27T00:03:18.960499",
     "exception": false,
     "start_time": "2022-05-26T23:58:35.316647",
     "status": "completed"
    },
    "tags": []
   },
   "outputs": [
    {
     "data": {
      "application/vnd.jupyter.widget-view+json": {
       "model_id": "6384b710b9c547b6b65ebad15ef55b6a",
       "version_major": 2,
       "version_minor": 0
      },
      "text/plain": [
       "  0%|          | 0/37 [00:00<?, ?ba/s]"
      ]
     },
     "metadata": {},
     "output_type": "display_data"
    },
    {
     "data": {
      "text/html": [
       "\n",
       "    <div>\n",
       "      \n",
       "      <progress value='856' max='856' style='width:300px; height:20px; vertical-align: middle;'></progress>\n",
       "      [856/856 04:34, Epoch 4/4]\n",
       "    </div>\n",
       "    <table border=\"1\" class=\"dataframe\">\n",
       "  <thead>\n",
       " <tr style=\"text-align: left;\">\n",
       "      <th>Epoch</th>\n",
       "      <th>Training Loss</th>\n",
       "      <th>Validation Loss</th>\n",
       "      <th>Pearson</th>\n",
       "    </tr>\n",
       "  </thead>\n",
       "  <tbody>\n",
       "    <tr>\n",
       "      <td>1</td>\n",
       "      <td>No log</td>\n",
       "      <td>0.025170</td>\n",
       "      <td>0.798002</td>\n",
       "    </tr>\n",
       "    <tr>\n",
       "      <td>2</td>\n",
       "      <td>No log</td>\n",
       "      <td>0.024433</td>\n",
       "      <td>0.815301</td>\n",
       "    </tr>\n",
       "    <tr>\n",
       "      <td>3</td>\n",
       "      <td>0.031500</td>\n",
       "      <td>0.024575</td>\n",
       "      <td>0.818443</td>\n",
       "    </tr>\n",
       "    <tr>\n",
       "      <td>4</td>\n",
       "      <td>0.031500</td>\n",
       "      <td>0.024150</td>\n",
       "      <td>0.818868</td>\n",
       "    </tr>\n",
       "  </tbody>\n",
       "</table><p>"
      ],
      "text/plain": [
       "<IPython.core.display.HTML object>"
      ]
     },
     "metadata": {},
     "output_type": "display_data"
    },
    {
     "data": {
      "text/plain": [
       "TrainOutput(global_step=856, training_loss=0.023811190484840178, metrics={'train_runtime': 274.7918, 'train_samples_per_second': 398.222, 'train_steps_per_second': 3.115, 'total_flos': 582160588599300.0, 'train_loss': 0.023811190484840178, 'epoch': 4.0})"
      ]
     },
     "execution_count": 41,
     "metadata": {},
     "output_type": "execute_result"
    }
   ],
   "source": [
    "df['inputs'] = df.inputs.str.lower()\n",
    "dds = get_dds(df)\n",
    "get_trainer(dds).train()"
   ]
  },
  {
   "cell_type": "markdown",
   "id": "5f341ac4",
   "metadata": {
    "papermill": {
     "duration": 0.088188,
     "end_time": "2022-05-27T00:03:19.136761",
     "exception": false,
     "start_time": "2022-05-27T00:03:19.048573",
     "status": "completed"
    },
    "tags": []
   },
   "source": [
    "That one is less clear. We'll keep that change too since most times I run it, it's a little better."
   ]
  },
  {
   "cell_type": "markdown",
   "id": "247c466d",
   "metadata": {
    "papermill": {
     "duration": 0.083467,
     "end_time": "2022-05-27T00:03:19.361893",
     "exception": false,
     "start_time": "2022-05-27T00:03:19.278426",
     "status": "completed"
    },
    "tags": []
   },
   "source": [
    "## Special tokens"
   ]
  },
  {
   "cell_type": "markdown",
   "id": "a81b29c9",
   "metadata": {
    "papermill": {
     "duration": 0.0848,
     "end_time": "2022-05-27T00:03:19.530841",
     "exception": false,
     "start_time": "2022-05-27T00:03:19.446041",
     "status": "completed"
    },
    "tags": []
   },
   "source": [
    "What if we made the patent section a special token? Then potentially the model might learn to recognize that different sections need to be handled in different ways. To do that, we'll use, e.g. `[A]` for section A. We'll then add those as special tokens:"
   ]
  },
  {
   "cell_type": "code",
   "execution_count": 42,
   "id": "e8f2faf9",
   "metadata": {
    "execution": {
     "iopub.execute_input": "2022-05-27T00:03:19.718578Z",
     "iopub.status.busy": "2022-05-27T00:03:19.710686Z",
     "iopub.status.idle": "2022-05-27T00:03:19.723492Z",
     "shell.execute_reply": "2022-05-27T00:03:19.723037Z",
     "shell.execute_reply.started": "2022-04-20T19:06:34.192388Z"
    },
    "papermill": {
     "duration": 0.105458,
     "end_time": "2022-05-27T00:03:19.723609",
     "exception": false,
     "start_time": "2022-05-27T00:03:19.618151",
     "status": "completed"
    },
    "tags": []
   },
   "outputs": [
    {
     "data": {
      "text/plain": [
       "8"
      ]
     },
     "execution_count": 42,
     "metadata": {},
     "output_type": "execute_result"
    }
   ],
   "source": [
    "df['sectok'] = '[' + df.section + ']'\n",
    "sectoks = list(df.sectok.unique())\n",
    "tokz.add_special_tokens({'additional_special_tokens': sectoks})"
   ]
  },
  {
   "cell_type": "markdown",
   "id": "15bc1454",
   "metadata": {
    "papermill": {
     "duration": 0.085,
     "end_time": "2022-05-27T00:03:19.894784",
     "exception": false,
     "start_time": "2022-05-27T00:03:19.809784",
     "status": "completed"
    },
    "tags": []
   },
   "source": [
    "We concatenate the section token to the start of our inputs:"
   ]
  },
  {
   "cell_type": "code",
   "execution_count": 43,
   "id": "790df141",
   "metadata": {
    "execution": {
     "iopub.execute_input": "2022-05-27T00:03:20.071605Z",
     "iopub.status.busy": "2022-05-27T00:03:20.070780Z",
     "iopub.status.idle": "2022-05-27T00:03:27.303590Z",
     "shell.execute_reply": "2022-05-27T00:03:27.304244Z",
     "shell.execute_reply.started": "2022-04-20T19:06:34.222287Z"
    },
    "papermill": {
     "duration": 7.324227,
     "end_time": "2022-05-27T00:03:27.304455",
     "exception": false,
     "start_time": "2022-05-27T00:03:19.980228",
     "status": "completed"
    },
    "tags": []
   },
   "outputs": [
    {
     "data": {
      "application/vnd.jupyter.widget-view+json": {
       "model_id": "828b42f02cd648fa88c3e62b458dc941",
       "version_major": 2,
       "version_minor": 0
      },
      "text/plain": [
       "  0%|          | 0/37 [00:00<?, ?ba/s]"
      ]
     },
     "metadata": {},
     "output_type": "display_data"
    }
   ],
   "source": [
    "df['inputs'] = df.sectok + sep + df.context + sep + df.anchor.str.lower() + sep + df.target\n",
    "dds = get_dds(df)"
   ]
  },
  {
   "cell_type": "markdown",
   "id": "49408de4",
   "metadata": {
    "papermill": {
     "duration": 0.143953,
     "end_time": "2022-05-27T00:03:27.593621",
     "exception": false,
     "start_time": "2022-05-27T00:03:27.449668",
     "status": "completed"
    },
    "tags": []
   },
   "source": [
    "Since we've added more tokens, we need to resize the embedding matrix in the model:"
   ]
  },
  {
   "cell_type": "code",
   "execution_count": 44,
   "id": "a9273412",
   "metadata": {
    "execution": {
     "iopub.execute_input": "2022-05-27T00:03:27.822131Z",
     "iopub.status.busy": "2022-05-27T00:03:27.821586Z",
     "iopub.status.idle": "2022-05-27T00:03:31.674273Z",
     "shell.execute_reply": "2022-05-27T00:03:31.673585Z",
     "shell.execute_reply.started": "2022-04-20T19:06:43.885693Z"
    },
    "papermill": {
     "duration": 3.944905,
     "end_time": "2022-05-27T00:03:31.674405",
     "exception": false,
     "start_time": "2022-05-27T00:03:27.729500",
     "status": "completed"
    },
    "tags": []
   },
   "outputs": [
    {
     "data": {
      "text/plain": [
       "Embedding(128009, 768)"
      ]
     },
     "execution_count": 44,
     "metadata": {},
     "output_type": "execute_result"
    }
   ],
   "source": [
    "model = get_model()\n",
    "model.resize_token_embeddings(len(tokz))"
   ]
  },
  {
   "cell_type": "markdown",
   "id": "d06a0fdd",
   "metadata": {
    "papermill": {
     "duration": 0.084183,
     "end_time": "2022-05-27T00:03:31.843916",
     "exception": false,
     "start_time": "2022-05-27T00:03:31.759733",
     "status": "completed"
    },
    "tags": []
   },
   "source": [
    "Now we're ready to train:"
   ]
  },
  {
   "cell_type": "code",
   "execution_count": 45,
   "id": "7cbce073",
   "metadata": {
    "execution": {
     "iopub.execute_input": "2022-05-27T00:03:32.017291Z",
     "iopub.status.busy": "2022-05-27T00:03:32.016412Z",
     "iopub.status.idle": "2022-05-27T00:08:28.336176Z",
     "shell.execute_reply": "2022-05-27T00:08:28.335673Z",
     "shell.execute_reply.started": "2022-04-20T19:06:48.116453Z"
    },
    "papermill": {
     "duration": 296.407944,
     "end_time": "2022-05-27T00:08:28.336313",
     "exception": false,
     "start_time": "2022-05-27T00:03:31.928369",
     "status": "completed"
    },
    "tags": []
   },
   "outputs": [
    {
     "data": {
      "text/html": [
       "\n",
       "    <div>\n",
       "      \n",
       "      <progress value='856' max='856' style='width:300px; height:20px; vertical-align: middle;'></progress>\n",
       "      [856/856 04:55, Epoch 4/4]\n",
       "    </div>\n",
       "    <table border=\"1\" class=\"dataframe\">\n",
       "  <thead>\n",
       " <tr style=\"text-align: left;\">\n",
       "      <th>Epoch</th>\n",
       "      <th>Training Loss</th>\n",
       "      <th>Validation Loss</th>\n",
       "      <th>Pearson</th>\n",
       "    </tr>\n",
       "  </thead>\n",
       "  <tbody>\n",
       "    <tr>\n",
       "      <td>1</td>\n",
       "      <td>No log</td>\n",
       "      <td>0.024835</td>\n",
       "      <td>0.797996</td>\n",
       "    </tr>\n",
       "    <tr>\n",
       "      <td>2</td>\n",
       "      <td>No log</td>\n",
       "      <td>0.024412</td>\n",
       "      <td>0.812386</td>\n",
       "    </tr>\n",
       "    <tr>\n",
       "      <td>3</td>\n",
       "      <td>0.031800</td>\n",
       "      <td>0.024019</td>\n",
       "      <td>0.820914</td>\n",
       "    </tr>\n",
       "    <tr>\n",
       "      <td>4</td>\n",
       "      <td>0.031800</td>\n",
       "      <td>0.024220</td>\n",
       "      <td>0.820187</td>\n",
       "    </tr>\n",
       "  </tbody>\n",
       "</table><p>"
      ],
      "text/plain": [
       "<IPython.core.display.HTML object>"
      ]
     },
     "metadata": {},
     "output_type": "display_data"
    },
    {
     "data": {
      "text/plain": [
       "TrainOutput(global_step=856, training_loss=0.023861238889605084, metrics={'train_runtime': 296.1519, 'train_samples_per_second': 369.5, 'train_steps_per_second': 2.89, 'total_flos': 695409809982180.0, 'train_loss': 0.023861238889605084, 'epoch': 4.0})"
      ]
     },
     "execution_count": 45,
     "metadata": {},
     "output_type": "execute_result"
    }
   ],
   "source": [
    "trainer = get_trainer(dds, model=model)\n",
    "trainer.train()"
   ]
  },
  {
   "cell_type": "markdown",
   "id": "21ff3464",
   "metadata": {
    "papermill": {
     "duration": 0.085191,
     "end_time": "2022-05-27T00:08:28.510347",
     "exception": false,
     "start_time": "2022-05-27T00:08:28.425156",
     "status": "completed"
    },
    "tags": []
   },
   "source": [
    "It looks like we've made another bit of an improvement!\n",
    "\n",
    "There's plenty more things you could try. Here's some thoughts:\n",
    "\n",
    "- Try a model pretrained on legal vocabulary. E.g. how about [BERT for patents](https://huggingface.co/anferico/bert-for-patents)?\n",
    "- You'd likely get better results by using a sentence similarity model. Did you know that there's a [patent similarity model](https://huggingface.co/AI-Growth-Lab/PatentSBERTa) you could try?\n",
    "- You could also fine-tune any HuggingFace model using the full patent database (which is provided in BigQuery), before applying it to this dataset\n",
    "- Replace the patent context field with the description of that context provided by the patent office\n",
    "- ...and try out your own ideas too!\n",
    "\n",
    "Before submitting a model, retrain it on the full dataset, rather than just the 75% training subset we've used here. Create a function like the ones above to make that easy for you!\""
   ]
  },
  {
   "cell_type": "markdown",
   "id": "aee600e6",
   "metadata": {
    "papermill": {
     "duration": 0.085454,
     "end_time": "2022-05-27T00:08:28.681157",
     "exception": false,
     "start_time": "2022-05-27T00:08:28.595703",
     "status": "completed"
    },
    "tags": []
   },
   "source": [
    "## Cross-validation"
   ]
  },
  {
   "cell_type": "code",
   "execution_count": 46,
   "id": "178e9e39",
   "metadata": {
    "execution": {
     "iopub.execute_input": "2022-05-27T00:08:28.861424Z",
     "iopub.status.busy": "2022-05-27T00:08:28.860447Z",
     "iopub.status.idle": "2022-05-27T00:08:28.864741Z",
     "shell.execute_reply": "2022-05-27T00:08:28.864341Z",
     "shell.execute_reply.started": "2022-04-20T19:11:55.414585Z"
    },
    "papermill": {
     "duration": 0.095336,
     "end_time": "2022-05-27T00:08:28.864853",
     "exception": false,
     "start_time": "2022-05-27T00:08:28.769517",
     "status": "completed"
    },
    "tags": []
   },
   "outputs": [],
   "source": [
    "n_folds = 4"
   ]
  },
  {
   "cell_type": "markdown",
   "id": "346f8f81",
   "metadata": {
    "papermill": {
     "duration": 0.086984,
     "end_time": "2022-05-27T00:08:29.038727",
     "exception": false,
     "start_time": "2022-05-27T00:08:28.951743",
     "status": "completed"
    },
    "tags": []
   },
   "source": [
    "Once you've gotten the low hanging fruit, you might want to use cross-validation to see the impact of minor changes. This time we'll use [StratifiedGroupKFold](https://scikit-learn.org/stable/modules/generated/sklearn.model_selection.StratifiedGroupKFold.html#sklearn.model_selection.StratifiedGroupKFold), partly just to show a different approach to before, and partly because it will give us slightly better balanced datasets."
   ]
  },
  {
   "cell_type": "code",
   "execution_count": 47,
   "id": "34ee63b9",
   "metadata": {
    "execution": {
     "iopub.execute_input": "2022-05-27T00:08:29.223781Z",
     "iopub.status.busy": "2022-05-27T00:08:29.223133Z",
     "iopub.status.idle": "2022-05-27T00:08:29.238553Z",
     "shell.execute_reply": "2022-05-27T00:08:29.238126Z",
     "shell.execute_reply.started": "2022-04-20T19:11:55.422096Z"
    },
    "papermill": {
     "duration": 0.105978,
     "end_time": "2022-05-27T00:08:29.238660",
     "exception": false,
     "start_time": "2022-05-27T00:08:29.132682",
     "status": "completed"
    },
    "tags": []
   },
   "outputs": [],
   "source": [
    "from sklearn.model_selection import StratifiedGroupKFold\n",
    "cv = StratifiedGroupKFold(n_splits=n_folds)"
   ]
  },
  {
   "cell_type": "markdown",
   "id": "0a4908de",
   "metadata": {
    "papermill": {
     "duration": 0.084724,
     "end_time": "2022-05-27T00:08:29.408695",
     "exception": false,
     "start_time": "2022-05-27T00:08:29.323971",
     "status": "completed"
    },
    "tags": []
   },
   "source": [
    "Here's how to split the data frame into `n_folds` groups, with non-overlapping anchors and matched scores, after randomly shuffling the rows:"
   ]
  },
  {
   "cell_type": "code",
   "execution_count": 48,
   "id": "ddf9b58e",
   "metadata": {
    "execution": {
     "iopub.execute_input": "2022-05-27T00:08:29.585388Z",
     "iopub.status.busy": "2022-05-27T00:08:29.584527Z",
     "iopub.status.idle": "2022-05-27T00:08:29.947281Z",
     "shell.execute_reply": "2022-05-27T00:08:29.947791Z",
     "shell.execute_reply.started": "2022-04-20T19:11:55.449715Z"
    },
    "papermill": {
     "duration": 0.453549,
     "end_time": "2022-05-27T00:08:29.947937",
     "exception": false,
     "start_time": "2022-05-27T00:08:29.494388",
     "status": "completed"
    },
    "tags": []
   },
   "outputs": [
    {
     "data": {
      "text/plain": [
       "[(array([    0,     1,     2, ..., 36469, 36471, 36472]),\n",
       "  array([    8,    13,    14, ..., 36453, 36464, 36470])),\n",
       " (array([    0,     1,     5, ..., 36470, 36471, 36472]),\n",
       "  array([    2,     3,     4, ..., 36459, 36461, 36462])),\n",
       " (array([    1,     2,     3, ..., 36467, 36470, 36472]),\n",
       "  array([    0,     7,    11, ..., 36468, 36469, 36471])),\n",
       " (array([    0,     2,     3, ..., 36469, 36470, 36471]),\n",
       "  array([    1,     5,     9, ..., 36465, 36467, 36472]))]"
      ]
     },
     "execution_count": 48,
     "metadata": {},
     "output_type": "execute_result"
    }
   ],
   "source": [
    "df = df.sample(frac=1, random_state=42)\n",
    "scores = (df.score*100).astype(int)\n",
    "folds = list(cv.split(idxs, scores, df.anchor))\n",
    "folds"
   ]
  },
  {
   "cell_type": "markdown",
   "id": "2bfb23e2",
   "metadata": {
    "papermill": {
     "duration": 0.085962,
     "end_time": "2022-05-27T00:08:30.119719",
     "exception": false,
     "start_time": "2022-05-27T00:08:30.033757",
     "status": "completed"
    },
    "tags": []
   },
   "source": [
    "We can now create a little function to split into training and validation sets based on a fold:"
   ]
  },
  {
   "cell_type": "code",
   "execution_count": 49,
   "id": "3ee351ea",
   "metadata": {
    "execution": {
     "iopub.execute_input": "2022-05-27T00:08:30.296872Z",
     "iopub.status.busy": "2022-05-27T00:08:30.296049Z",
     "iopub.status.idle": "2022-05-27T00:08:30.298063Z",
     "shell.execute_reply": "2022-05-27T00:08:30.298461Z",
     "shell.execute_reply.started": "2022-04-20T19:11:55.889254Z"
    },
    "papermill": {
     "duration": 0.092828,
     "end_time": "2022-05-27T00:08:30.298598",
     "exception": false,
     "start_time": "2022-05-27T00:08:30.205770",
     "status": "completed"
    },
    "tags": []
   },
   "outputs": [],
   "source": [
    "def get_fold(folds, fold_num):\n",
    "    trn,val = folds[fold_num]\n",
    "    return DatasetDict({\"train\":tok_ds.select(trn), \"test\": tok_ds.select(val)})"
   ]
  },
  {
   "cell_type": "markdown",
   "id": "a3c709ae",
   "metadata": {
    "papermill": {
     "duration": 0.086035,
     "end_time": "2022-05-27T00:08:30.469738",
     "exception": false,
     "start_time": "2022-05-27T00:08:30.383703",
     "status": "completed"
    },
    "tags": []
   },
   "source": [
    "Let's try it out:"
   ]
  },
  {
   "cell_type": "code",
   "execution_count": 50,
   "id": "b23334b2",
   "metadata": {
    "execution": {
     "iopub.execute_input": "2022-05-27T00:08:30.646981Z",
     "iopub.status.busy": "2022-05-27T00:08:30.646251Z",
     "iopub.status.idle": "2022-05-27T00:08:30.665028Z",
     "shell.execute_reply": "2022-05-27T00:08:30.664610Z",
     "shell.execute_reply.started": "2022-04-20T19:11:55.90085Z"
    },
    "papermill": {
     "duration": 0.109301,
     "end_time": "2022-05-27T00:08:30.665148",
     "exception": false,
     "start_time": "2022-05-27T00:08:30.555847",
     "status": "completed"
    },
    "tags": []
   },
   "outputs": [
    {
     "data": {
      "text/plain": [
       "DatasetDict({\n",
       "    train: Dataset({\n",
       "        features: ['label', 'input_ids', 'token_type_ids', 'attention_mask'],\n",
       "        num_rows: 27346\n",
       "    })\n",
       "    test: Dataset({\n",
       "        features: ['label', 'input_ids', 'token_type_ids', 'attention_mask'],\n",
       "        num_rows: 9127\n",
       "    })\n",
       "})"
      ]
     },
     "execution_count": 50,
     "metadata": {},
     "output_type": "execute_result"
    }
   ],
   "source": [
    "dds = get_fold(folds, 0)\n",
    "dds"
   ]
  },
  {
   "cell_type": "markdown",
   "id": "bb23e14a",
   "metadata": {
    "papermill": {
     "duration": 0.086924,
     "end_time": "2022-05-27T00:08:30.839878",
     "exception": false,
     "start_time": "2022-05-27T00:08:30.752954",
     "status": "completed"
    },
    "tags": []
   },
   "source": [
    "We can now pass this into `get_trainer` as we did before. If we have, say, 4 folds, then doing that for each fold will give us 4 models, and 4 sets of predictions and metrics. You could ensemble the 4 models to get a stronger model, and can also average the 4 metrics to get a more accurate assessment of your model. Here's how to get the final epoch metrics from a trainer:"
   ]
  },
  {
   "cell_type": "code",
   "execution_count": 51,
   "id": "1e1398ce",
   "metadata": {
    "execution": {
     "iopub.execute_input": "2022-05-27T00:08:31.018493Z",
     "iopub.status.busy": "2022-05-27T00:08:31.017861Z",
     "iopub.status.idle": "2022-05-27T00:08:31.020485Z",
     "shell.execute_reply": "2022-05-27T00:08:31.020877Z",
     "shell.execute_reply.started": "2022-04-20T19:11:55.932608Z"
    },
    "papermill": {
     "duration": 0.094653,
     "end_time": "2022-05-27T00:08:31.021017",
     "exception": false,
     "start_time": "2022-05-27T00:08:30.926364",
     "status": "completed"
    },
    "tags": []
   },
   "outputs": [
    {
     "data": {
      "text/plain": [
       "0.8201874392079798"
      ]
     },
     "execution_count": 51,
     "metadata": {},
     "output_type": "execute_result"
    }
   ],
   "source": [
    "metrics = [o['eval_pearson'] for o in trainer.state.log_history if 'eval_pearson' in o]\n",
    "metrics[-1]"
   ]
  },
  {
   "cell_type": "markdown",
   "id": "f27c5616",
   "metadata": {
    "papermill": {
     "duration": 0.086657,
     "end_time": "2022-05-27T00:08:31.196112",
     "exception": false,
     "start_time": "2022-05-27T00:08:31.109455",
     "status": "completed"
    },
    "tags": []
   },
   "source": [
    "I hope you've found this a helpful guide to improving your results in this competition - and on Kaggle more generally! If you like it, please remember to give it an upvote, and don't hesitate to add a comment if you have any questions or thoughts to add. And if the ideas here are helpful to you in creating your models, I'd really appreciate a link back to this notebook or a comment below to let me know what helped."
   ]
  },
  {
   "cell_type": "code",
   "execution_count": 13,
   "id": "bfe5b959",
   "metadata": {
    "papermill": {
     "duration": 0.087962,
     "end_time": "2022-05-27T00:08:31.371721",
     "exception": false,
     "start_time": "2022-05-27T00:08:31.283759",
     "status": "completed"
    },
    "tags": []
   },
   "outputs": [
    {
     "name": "stdout",
     "output_type": "stream",
     "text": [
      "                 id     anchor                  target context  score\n",
      "0  37d61fd2272659b1  abatement  abatement of pollution     A47   0.50\n",
      "1  7b9652b17b68b7a4  abatement          act of abating     A47   0.75\n",
      "2  36d72442aefd8232  abatement         active catalyst     A47   0.25\n",
      "3  5296b0c19e1ce60e  abatement     eliminating process     A47   0.50\n",
      "4  54c1e3b9184cb5b6  abatement           forest region     A47   0.00\n"
     ]
    }
   ],
   "source": [
    "# Reemplaza 'archivo.csv' con la ruta de tu archivo CSV\n",
    "ruta_del_archivo = 'us-patent-phrase-to-phrase-matching/test.csv'\n",
    "\n",
    "# Cargar el archivo CSV en un DataFrame\n",
    "df1 = pd.read_csv(ruta_del_archivo)\n",
    "\n",
    "# Mostrar las primeras filas del DataFrame para verificar que se ha cargado correctamente\n",
    "print(df.head())"
   ]
  },
  {
   "cell_type": "code",
   "execution_count": 15,
   "id": "45fc8319-c458-4ce5-a1ec-2eda2a70829c",
   "metadata": {},
   "outputs": [
    {
     "ename": "AttributeError",
     "evalue": "module 'pandas' has no attribute 'open'",
     "output_type": "error",
     "traceback": [
      "\u001b[0;31m---------------------------------------------------------------------------\u001b[0m",
      "\u001b[0;31mAttributeError\u001b[0m                            Traceback (most recent call last)",
      "Cell \u001b[0;32mIn[15], line 1\u001b[0m\n\u001b[0;32m----> 1\u001b[0m \u001b[43mpd\u001b[49m\u001b[38;5;241;43m.\u001b[39;49m\u001b[43mopen\u001b[49m(ruta_del_archivo)\n",
      "\u001b[0;31mAttributeError\u001b[0m: module 'pandas' has no attribute 'open'"
     ]
    }
   ],
   "source": [
    "pd.open(ruta_del_archivo)"
   ]
  },
  {
   "cell_type": "code",
   "execution_count": 16,
   "id": "a3dda042-a15d-4159-9ba1-848e85dba916",
   "metadata": {},
   "outputs": [
    {
     "name": "stdout",
     "output_type": "stream",
     "text": [
      "                  id                       anchor  \\\n",
      "0   4112d61851461f60                     opc drum   \n",
      "1   09e418c93a776564              adjust gas flow   \n",
      "2   36baf228038e314b               lower trunnion   \n",
      "3   1f37ead645e7f0c8                cap component   \n",
      "4   71a5b6ad068d531f           neural stimulation   \n",
      "5   474c874d0c07bd21                     dry corn   \n",
      "6   442c114ed5c4e3c9          tunneling capacitor   \n",
      "7   b8ae62ea5e1d8bdb      angular contact bearing   \n",
      "8   faaddaf8fcba8a3f  produce liquid hydrocarbons   \n",
      "9   ae0262c02566d2ce             diesel fuel tank   \n",
      "10  a8808e31641e856d            chemical activity   \n",
      "11  16ae4b99d3601e60         transmit to platform   \n",
      "12  25c555ca3d5a2092                  oil tankers   \n",
      "13  5203a36c501f1b7c            generate in layer   \n",
      "14  b9fdc772bb8fd61c                 slip segment   \n",
      "15  7aa5908a77a7ec24                   el display   \n",
      "16  d19ef3979396d47e              overflow device   \n",
      "17  fd83613b7843f5e1     beam traveling direction   \n",
      "18  2a619016908bfa45                   el display   \n",
      "19  733979d75f59770d               equipment unit   \n",
      "20  6546846df17f9800                   halocarbyl   \n",
      "21  3ff0e7a35015be69         perfluoroalkyl group   \n",
      "22  12ca31f018a2e2b9          speed control means   \n",
      "23  03ba802ed4029e4d                   arm design   \n",
      "24  c404f8b378cbb008               hybrid bearing   \n",
      "25  78243984c02a72e4                     end pins   \n",
      "26  de51114bc0faec3e             organic starting   \n",
      "27  7e3aff857f056bf9                make of slabs   \n",
      "28  26c3c6dc6174b589                   seal teeth   \n",
      "29  b892011ab2e2cabc            carry by platform   \n",
      "30  8247ff562ca185cc                        polls   \n",
      "31  c057aecbba832387              upper clamp arm   \n",
      "32  9f2279ce667b21dc              clocked storage   \n",
      "33  b9ea2b06a878df6f              coupling factor   \n",
      "34  79795133c30ef097       different conductivity   \n",
      "35  25522ee5411e63e9               hybrid bearing   \n",
      "\n",
      "                           target context  \n",
      "0   inorganic photoconductor drum     G02  \n",
      "1               altering gas flow     F23  \n",
      "2                  lower locating     B60  \n",
      "3                   upper portion     D06  \n",
      "4       artificial neural network     H04  \n",
      "5                 dry corn starch     C12  \n",
      "6               capacitor housing     G11  \n",
      "7       contact therapy radiation     B23  \n",
      "8        produce a treated stream     C10  \n",
      "9               diesel fuel tanks     F02  \n",
      "10     dielectric characteristics     B01  \n",
      "11               direct receiving     H04  \n",
      "12                   oil carriers     B63  \n",
      "13              generate by layer     G02  \n",
      "14                   slip portion     B22  \n",
      "15                   illumination     G02  \n",
      "16                     oil filler     E04  \n",
      "17                  concrete beam     H05  \n",
      "18             electroluminescent     C23  \n",
      "19                power detection     H02  \n",
      "20      halogen addition reaction     C07  \n",
      "21                        hydroxy     A63  \n",
      "22                   control loop     G05  \n",
      "23                    steel plate     F16  \n",
      "24                 bearing system     F04  \n",
      "25                       end days     A44  \n",
      "26                organic farming     B61  \n",
      "27                    making cake     E04  \n",
      "28                teeth whitening     F01  \n",
      "29              carry on platform     B60  \n",
      "30                 pooling device     B21  \n",
      "31                     end visual     A61  \n",
      "32         clocked storage device     G01  \n",
      "33                turns impedance     G01  \n",
      "34               carrier polarity     H03  \n",
      "35            corrosion resistant     F16  \n"
     ]
    }
   ],
   "source": [
    "print(df1)"
   ]
  },
  {
   "cell_type": "code",
   "execution_count": null,
   "id": "2f38feef-38e8-4475-bb8f-7a87546c14b3",
   "metadata": {},
   "outputs": [],
   "source": []
  }
 ],
 "metadata": {
  "kernelspec": {
   "display_name": "Python 3 (ipykernel)",
   "language": "python",
   "name": "python3"
  },
  "language_info": {
   "codemirror_mode": {
    "name": "ipython",
    "version": 3
   },
   "file_extension": ".py",
   "mimetype": "text/x-python",
   "name": "python",
   "nbconvert_exporter": "python",
   "pygments_lexer": "ipython3",
   "version": "3.10.12"
  },
  "papermill": {
   "default_parameters": {},
   "duration": 1229.954534,
   "end_time": "2022-05-27T00:08:34.729023",
   "environment_variables": {},
   "exception": null,
   "input_path": "__notebook__.ipynb",
   "output_path": "__notebook__.ipynb",
   "parameters": {},
   "start_time": "2022-05-26T23:48:04.774489",
   "version": "2.3.3"
  },
  "widgets": {
   "application/vnd.jupyter.widget-state+json": {
    "state": {
     "050231bb17744e4e826344ca8e281608": {
      "model_module": "@jupyter-widgets/controls",
      "model_module_version": "1.5.0",
      "model_name": "HTMLModel",
      "state": {
       "_dom_classes": [],
       "_model_module": "@jupyter-widgets/controls",
       "_model_module_version": "1.5.0",
       "_model_name": "HTMLModel",
       "_view_count": null,
       "_view_module": "@jupyter-widgets/controls",
       "_view_module_version": "1.5.0",
       "_view_name": "HTMLView",
       "description": "",
       "description_tooltip": null,
       "layout": "IPY_MODEL_818cd4fa69da452d8854ff5ecdd95554",
       "placeholder": "​",
       "style": "IPY_MODEL_0bdf748db10044fdb4150d9854efb2f7",
       "value": " 37/37 [00:05&lt;00:00,  5.41ba/s]"
      }
     },
     "06b4ea22503946fc90340347b3fa5907": {
      "model_module": "@jupyter-widgets/base",
      "model_module_version": "1.2.0",
      "model_name": "LayoutModel",
      "state": {
       "_model_module": "@jupyter-widgets/base",
       "_model_module_version": "1.2.0",
       "_model_name": "LayoutModel",
       "_view_count": null,
       "_view_module": "@jupyter-widgets/base",
       "_view_module_version": "1.2.0",
       "_view_name": "LayoutView",
       "align_content": null,
       "align_items": null,
       "align_self": null,
       "border": null,
       "bottom": null,
       "display": null,
       "flex": null,
       "flex_flow": null,
       "grid_area": null,
       "grid_auto_columns": null,
       "grid_auto_flow": null,
       "grid_auto_rows": null,
       "grid_column": null,
       "grid_gap": null,
       "grid_row": null,
       "grid_template_areas": null,
       "grid_template_columns": null,
       "grid_template_rows": null,
       "height": null,
       "justify_content": null,
       "justify_items": null,
       "left": null,
       "margin": null,
       "max_height": null,
       "max_width": null,
       "min_height": null,
       "min_width": null,
       "object_fit": null,
       "object_position": null,
       "order": null,
       "overflow": null,
       "overflow_x": null,
       "overflow_y": null,
       "padding": null,
       "right": null,
       "top": null,
       "visibility": null,
       "width": null
      }
     },
     "0bdf748db10044fdb4150d9854efb2f7": {
      "model_module": "@jupyter-widgets/controls",
      "model_module_version": "1.5.0",
      "model_name": "DescriptionStyleModel",
      "state": {
       "_model_module": "@jupyter-widgets/controls",
       "_model_module_version": "1.5.0",
       "_model_name": "DescriptionStyleModel",
       "_view_count": null,
       "_view_module": "@jupyter-widgets/base",
       "_view_module_version": "1.2.0",
       "_view_name": "StyleView",
       "description_width": ""
      }
     },
     "0d0121284ee24da3b00b1da4742b716d": {
      "model_module": "@jupyter-widgets/base",
      "model_module_version": "1.2.0",
      "model_name": "LayoutModel",
      "state": {
       "_model_module": "@jupyter-widgets/base",
       "_model_module_version": "1.2.0",
       "_model_name": "LayoutModel",
       "_view_count": null,
       "_view_module": "@jupyter-widgets/base",
       "_view_module_version": "1.2.0",
       "_view_name": "LayoutView",
       "align_content": null,
       "align_items": null,
       "align_self": null,
       "border": null,
       "bottom": null,
       "display": null,
       "flex": null,
       "flex_flow": null,
       "grid_area": null,
       "grid_auto_columns": null,
       "grid_auto_flow": null,
       "grid_auto_rows": null,
       "grid_column": null,
       "grid_gap": null,
       "grid_row": null,
       "grid_template_areas": null,
       "grid_template_columns": null,
       "grid_template_rows": null,
       "height": null,
       "justify_content": null,
       "justify_items": null,
       "left": null,
       "margin": null,
       "max_height": null,
       "max_width": null,
       "min_height": null,
       "min_width": null,
       "object_fit": null,
       "object_position": null,
       "order": null,
       "overflow": null,
       "overflow_x": null,
       "overflow_y": null,
       "padding": null,
       "right": null,
       "top": null,
       "visibility": null,
       "width": null
      }
     },
     "110c574feb3e47a8b17971c130fbb7aa": {
      "model_module": "@jupyter-widgets/controls",
      "model_module_version": "1.5.0",
      "model_name": "HTMLModel",
      "state": {
       "_dom_classes": [],
       "_model_module": "@jupyter-widgets/controls",
       "_model_module_version": "1.5.0",
       "_model_name": "HTMLModel",
       "_view_count": null,
       "_view_module": "@jupyter-widgets/controls",
       "_view_module_version": "1.5.0",
       "_view_name": "HTMLView",
       "description": "",
       "description_tooltip": null,
       "layout": "IPY_MODEL_54f6428beee9491681612ee89d9445a9",
       "placeholder": "​",
       "style": "IPY_MODEL_1b2c25bf99a7441483655aeb990e50fd",
       "value": " 273M/273M [00:12&lt;00:00, 23.4MB/s]"
      }
     },
     "1467acc30bc443fba8ffbf7f1902f826": {
      "model_module": "@jupyter-widgets/controls",
      "model_module_version": "1.5.0",
      "model_name": "HBoxModel",
      "state": {
       "_dom_classes": [],
       "_model_module": "@jupyter-widgets/controls",
       "_model_module_version": "1.5.0",
       "_model_name": "HBoxModel",
       "_view_count": null,
       "_view_module": "@jupyter-widgets/controls",
       "_view_module_version": "1.5.0",
       "_view_name": "HBoxView",
       "box_style": "",
       "children": [
        "IPY_MODEL_babf6ff76d274cf9938a3da46b444f96",
        "IPY_MODEL_fa969b8dcc5248ddb411ec64f24f680e",
        "IPY_MODEL_8d5db6bd65094b5195e0423918e168bc"
       ],
       "layout": "IPY_MODEL_fa877bca33d841d693a5dbfb9a0b5e59"
      }
     },
     "147ddffcf12b4e168ee235a18425a38d": {
      "model_module": "@jupyter-widgets/controls",
      "model_module_version": "1.5.0",
      "model_name": "ProgressStyleModel",
      "state": {
       "_model_module": "@jupyter-widgets/controls",
       "_model_module_version": "1.5.0",
       "_model_name": "ProgressStyleModel",
       "_view_count": null,
       "_view_module": "@jupyter-widgets/base",
       "_view_module_version": "1.2.0",
       "_view_name": "StyleView",
       "bar_color": null,
       "description_width": ""
      }
     },
     "175b7f150f4544acbfe448aff53bfdb4": {
      "model_module": "@jupyter-widgets/controls",
      "model_module_version": "1.5.0",
      "model_name": "HTMLModel",
      "state": {
       "_dom_classes": [],
       "_model_module": "@jupyter-widgets/controls",
       "_model_module_version": "1.5.0",
       "_model_name": "HTMLModel",
       "_view_count": null,
       "_view_module": "@jupyter-widgets/controls",
       "_view_module_version": "1.5.0",
       "_view_name": "HTMLView",
       "description": "",
       "description_tooltip": null,
       "layout": "IPY_MODEL_f5fb5dff95e84a18909bcc7df17f0d43",
       "placeholder": "​",
       "style": "IPY_MODEL_47ad56e881664b819779ef96ac918c1d",
       "value": "Downloading: 100%"
      }
     },
     "19b1e9c3855a4154830525bab9fa35c4": {
      "model_module": "@jupyter-widgets/controls",
      "model_module_version": "1.5.0",
      "model_name": "HTMLModel",
      "state": {
       "_dom_classes": [],
       "_model_module": "@jupyter-widgets/controls",
       "_model_module_version": "1.5.0",
       "_model_name": "HTMLModel",
       "_view_count": null,
       "_view_module": "@jupyter-widgets/controls",
       "_view_module_version": "1.5.0",
       "_view_name": "HTMLView",
       "description": "",
       "description_tooltip": null,
       "layout": "IPY_MODEL_8aefaab967ee478992b35917d02848ff",
       "placeholder": "​",
       "style": "IPY_MODEL_6b692610c99d4a4ca7d11ba8e06c51aa",
       "value": " 578/578 [00:00&lt;00:00, 20.7kB/s]"
      }
     },
     "19f27ae15914434e9f60ac3378c05467": {
      "model_module": "@jupyter-widgets/base",
      "model_module_version": "1.2.0",
      "model_name": "LayoutModel",
      "state": {
       "_model_module": "@jupyter-widgets/base",
       "_model_module_version": "1.2.0",
       "_model_name": "LayoutModel",
       "_view_count": null,
       "_view_module": "@jupyter-widgets/base",
       "_view_module_version": "1.2.0",
       "_view_name": "LayoutView",
       "align_content": null,
       "align_items": null,
       "align_self": null,
       "border": null,
       "bottom": null,
       "display": null,
       "flex": null,
       "flex_flow": null,
       "grid_area": null,
       "grid_auto_columns": null,
       "grid_auto_flow": null,
       "grid_auto_rows": null,
       "grid_column": null,
       "grid_gap": null,
       "grid_row": null,
       "grid_template_areas": null,
       "grid_template_columns": null,
       "grid_template_rows": null,
       "height": null,
       "justify_content": null,
       "justify_items": null,
       "left": null,
       "margin": null,
       "max_height": null,
       "max_width": null,
       "min_height": null,
       "min_width": null,
       "object_fit": null,
       "object_position": null,
       "order": null,
       "overflow": null,
       "overflow_x": null,
       "overflow_y": null,
       "padding": null,
       "right": null,
       "top": null,
       "visibility": null,
       "width": null
      }
     },
     "1b2c25bf99a7441483655aeb990e50fd": {
      "model_module": "@jupyter-widgets/controls",
      "model_module_version": "1.5.0",
      "model_name": "DescriptionStyleModel",
      "state": {
       "_model_module": "@jupyter-widgets/controls",
       "_model_module_version": "1.5.0",
       "_model_name": "DescriptionStyleModel",
       "_view_count": null,
       "_view_module": "@jupyter-widgets/base",
       "_view_module_version": "1.2.0",
       "_view_name": "StyleView",
       "description_width": ""
      }
     },
     "1bd68bb6190340278bade7a25cea1783": {
      "model_module": "@jupyter-widgets/base",
      "model_module_version": "1.2.0",
      "model_name": "LayoutModel",
      "state": {
       "_model_module": "@jupyter-widgets/base",
       "_model_module_version": "1.2.0",
       "_model_name": "LayoutModel",
       "_view_count": null,
       "_view_module": "@jupyter-widgets/base",
       "_view_module_version": "1.2.0",
       "_view_name": "LayoutView",
       "align_content": null,
       "align_items": null,
       "align_self": null,
       "border": null,
       "bottom": null,
       "display": null,
       "flex": null,
       "flex_flow": null,
       "grid_area": null,
       "grid_auto_columns": null,
       "grid_auto_flow": null,
       "grid_auto_rows": null,
       "grid_column": null,
       "grid_gap": null,
       "grid_row": null,
       "grid_template_areas": null,
       "grid_template_columns": null,
       "grid_template_rows": null,
       "height": null,
       "justify_content": null,
       "justify_items": null,
       "left": null,
       "margin": null,
       "max_height": null,
       "max_width": null,
       "min_height": null,
       "min_width": null,
       "object_fit": null,
       "object_position": null,
       "order": null,
       "overflow": null,
       "overflow_x": null,
       "overflow_y": null,
       "padding": null,
       "right": null,
       "top": null,
       "visibility": null,
       "width": null
      }
     },
     "21579d3a660c4aedb6b281b0428632be": {
      "model_module": "@jupyter-widgets/controls",
      "model_module_version": "1.5.0",
      "model_name": "FloatProgressModel",
      "state": {
       "_dom_classes": [],
       "_model_module": "@jupyter-widgets/controls",
       "_model_module_version": "1.5.0",
       "_model_name": "FloatProgressModel",
       "_view_count": null,
       "_view_module": "@jupyter-widgets/controls",
       "_view_module_version": "1.5.0",
       "_view_name": "ProgressView",
       "bar_style": "success",
       "description": "",
       "description_tooltip": null,
       "layout": "IPY_MODEL_b2cc45f29e7b40ca81bc6c01d6702b3e",
       "max": 52,
       "min": 0,
       "orientation": "horizontal",
       "style": "IPY_MODEL_147ddffcf12b4e168ee235a18425a38d",
       "value": 52
      }
     },
     "21e583b7f8854e27a459bdac51e09ac3": {
      "model_module": "@jupyter-widgets/controls",
      "model_module_version": "1.5.0",
      "model_name": "FloatProgressModel",
      "state": {
       "_dom_classes": [],
       "_model_module": "@jupyter-widgets/controls",
       "_model_module_version": "1.5.0",
       "_model_name": "FloatProgressModel",
       "_view_count": null,
       "_view_module": "@jupyter-widgets/controls",
       "_view_module_version": "1.5.0",
       "_view_name": "ProgressView",
       "bar_style": "success",
       "description": "",
       "description_tooltip": null,
       "layout": "IPY_MODEL_63db4e9aca6b4c34b149f2a54c26d64e",
       "max": 286059269,
       "min": 0,
       "orientation": "horizontal",
       "style": "IPY_MODEL_d75db2d90ad54aa58cba80c81f35278d",
       "value": 286059269
      }
     },
     "252cbf7aee864971aace7ce7df4e8735": {
      "model_module": "@jupyter-widgets/controls",
      "model_module_version": "1.5.0",
      "model_name": "ProgressStyleModel",
      "state": {
       "_model_module": "@jupyter-widgets/controls",
       "_model_module_version": "1.5.0",
       "_model_name": "ProgressStyleModel",
       "_view_count": null,
       "_view_module": "@jupyter-widgets/base",
       "_view_module_version": "1.2.0",
       "_view_name": "StyleView",
       "bar_color": null,
       "description_width": ""
      }
     },
     "2e7c4891c1694af8b58b4066e0ed88d2": {
      "model_module": "@jupyter-widgets/controls",
      "model_module_version": "1.5.0",
      "model_name": "HTMLModel",
      "state": {
       "_dom_classes": [],
       "_model_module": "@jupyter-widgets/controls",
       "_model_module_version": "1.5.0",
       "_model_name": "HTMLModel",
       "_view_count": null,
       "_view_module": "@jupyter-widgets/controls",
       "_view_module_version": "1.5.0",
       "_view_name": "HTMLView",
       "description": "",
       "description_tooltip": null,
       "layout": "IPY_MODEL_637dc11668ad42cd991702c171972c46",
       "placeholder": "​",
       "style": "IPY_MODEL_c6197f1a4f3c479580e0dc4fbe18d5da",
       "value": " 37/37 [00:06&lt;00:00,  6.15ba/s]"
      }
     },
     "2f1bdd816af64bd0a6bc136b7fcd61aa": {
      "model_module": "@jupyter-widgets/base",
      "model_module_version": "1.2.0",
      "model_name": "LayoutModel",
      "state": {
       "_model_module": "@jupyter-widgets/base",
       "_model_module_version": "1.2.0",
       "_model_name": "LayoutModel",
       "_view_count": null,
       "_view_module": "@jupyter-widgets/base",
       "_view_module_version": "1.2.0",
       "_view_name": "LayoutView",
       "align_content": null,
       "align_items": null,
       "align_self": null,
       "border": null,
       "bottom": null,
       "display": null,
       "flex": null,
       "flex_flow": null,
       "grid_area": null,
       "grid_auto_columns": null,
       "grid_auto_flow": null,
       "grid_auto_rows": null,
       "grid_column": null,
       "grid_gap": null,
       "grid_row": null,
       "grid_template_areas": null,
       "grid_template_columns": null,
       "grid_template_rows": null,
       "height": null,
       "justify_content": null,
       "justify_items": null,
       "left": null,
       "margin": null,
       "max_height": null,
       "max_width": null,
       "min_height": null,
       "min_width": null,
       "object_fit": null,
       "object_position": null,
       "order": null,
       "overflow": null,
       "overflow_x": null,
       "overflow_y": null,
       "padding": null,
       "right": null,
       "top": null,
       "visibility": null,
       "width": null
      }
     },
     "35745679468d453097e87a74bc0916ee": {
      "model_module": "@jupyter-widgets/controls",
      "model_module_version": "1.5.0",
      "model_name": "DescriptionStyleModel",
      "state": {
       "_model_module": "@jupyter-widgets/controls",
       "_model_module_version": "1.5.0",
       "_model_name": "DescriptionStyleModel",
       "_view_count": null,
       "_view_module": "@jupyter-widgets/base",
       "_view_module_version": "1.2.0",
       "_view_name": "StyleView",
       "description_width": ""
      }
     },
     "370dcf1a1f774c728f64364d2afab8bb": {
      "model_module": "@jupyter-widgets/controls",
      "model_module_version": "1.5.0",
      "model_name": "HTMLModel",
      "state": {
       "_dom_classes": [],
       "_model_module": "@jupyter-widgets/controls",
       "_model_module_version": "1.5.0",
       "_model_name": "HTMLModel",
       "_view_count": null,
       "_view_module": "@jupyter-widgets/controls",
       "_view_module_version": "1.5.0",
       "_view_name": "HTMLView",
       "description": "",
       "description_tooltip": null,
       "layout": "IPY_MODEL_8e3838a4b0e54c609642c88c938e1637",
       "placeholder": "​",
       "style": "IPY_MODEL_8d5e23c9af0b468195b8cd60f7f70cd7",
       "value": "100%"
      }
     },
     "3a2cf86b2fac4c9996c0b49e1877c0e2": {
      "model_module": "@jupyter-widgets/base",
      "model_module_version": "1.2.0",
      "model_name": "LayoutModel",
      "state": {
       "_model_module": "@jupyter-widgets/base",
       "_model_module_version": "1.2.0",
       "_model_name": "LayoutModel",
       "_view_count": null,
       "_view_module": "@jupyter-widgets/base",
       "_view_module_version": "1.2.0",
       "_view_name": "LayoutView",
       "align_content": null,
       "align_items": null,
       "align_self": null,
       "border": null,
       "bottom": null,
       "display": null,
       "flex": null,
       "flex_flow": null,
       "grid_area": null,
       "grid_auto_columns": null,
       "grid_auto_flow": null,
       "grid_auto_rows": null,
       "grid_column": null,
       "grid_gap": null,
       "grid_row": null,
       "grid_template_areas": null,
       "grid_template_columns": null,
       "grid_template_rows": null,
       "height": null,
       "justify_content": null,
       "justify_items": null,
       "left": null,
       "margin": null,
       "max_height": null,
       "max_width": null,
       "min_height": null,
       "min_width": null,
       "object_fit": null,
       "object_position": null,
       "order": null,
       "overflow": null,
       "overflow_x": null,
       "overflow_y": null,
       "padding": null,
       "right": null,
       "top": null,
       "visibility": null,
       "width": null
      }
     },
     "3c4cb343c8a147d7bdf3baa08e5e7111": {
      "model_module": "@jupyter-widgets/base",
      "model_module_version": "1.2.0",
      "model_name": "LayoutModel",
      "state": {
       "_model_module": "@jupyter-widgets/base",
       "_model_module_version": "1.2.0",
       "_model_name": "LayoutModel",
       "_view_count": null,
       "_view_module": "@jupyter-widgets/base",
       "_view_module_version": "1.2.0",
       "_view_name": "LayoutView",
       "align_content": null,
       "align_items": null,
       "align_self": null,
       "border": null,
       "bottom": null,
       "display": null,
       "flex": null,
       "flex_flow": null,
       "grid_area": null,
       "grid_auto_columns": null,
       "grid_auto_flow": null,
       "grid_auto_rows": null,
       "grid_column": null,
       "grid_gap": null,
       "grid_row": null,
       "grid_template_areas": null,
       "grid_template_columns": null,
       "grid_template_rows": null,
       "height": null,
       "justify_content": null,
       "justify_items": null,
       "left": null,
       "margin": null,
       "max_height": null,
       "max_width": null,
       "min_height": null,
       "min_width": null,
       "object_fit": null,
       "object_position": null,
       "order": null,
       "overflow": null,
       "overflow_x": null,
       "overflow_y": null,
       "padding": null,
       "right": null,
       "top": null,
       "visibility": null,
       "width": null
      }
     },
     "422ce5f4010d4c71beac4b21fd3c110a": {
      "model_module": "@jupyter-widgets/base",
      "model_module_version": "1.2.0",
      "model_name": "LayoutModel",
      "state": {
       "_model_module": "@jupyter-widgets/base",
       "_model_module_version": "1.2.0",
       "_model_name": "LayoutModel",
       "_view_count": null,
       "_view_module": "@jupyter-widgets/base",
       "_view_module_version": "1.2.0",
       "_view_name": "LayoutView",
       "align_content": null,
       "align_items": null,
       "align_self": null,
       "border": null,
       "bottom": null,
       "display": null,
       "flex": null,
       "flex_flow": null,
       "grid_area": null,
       "grid_auto_columns": null,
       "grid_auto_flow": null,
       "grid_auto_rows": null,
       "grid_column": null,
       "grid_gap": null,
       "grid_row": null,
       "grid_template_areas": null,
       "grid_template_columns": null,
       "grid_template_rows": null,
       "height": null,
       "justify_content": null,
       "justify_items": null,
       "left": null,
       "margin": null,
       "max_height": null,
       "max_width": null,
       "min_height": null,
       "min_width": null,
       "object_fit": null,
       "object_position": null,
       "order": null,
       "overflow": null,
       "overflow_x": null,
       "overflow_y": null,
       "padding": null,
       "right": null,
       "top": null,
       "visibility": null,
       "width": null
      }
     },
     "43c8b984bfc84d64972c1e711019caa2": {
      "model_module": "@jupyter-widgets/controls",
      "model_module_version": "1.5.0",
      "model_name": "HBoxModel",
      "state": {
       "_dom_classes": [],
       "_model_module": "@jupyter-widgets/controls",
       "_model_module_version": "1.5.0",
       "_model_name": "HBoxModel",
       "_view_count": null,
       "_view_module": "@jupyter-widgets/controls",
       "_view_module_version": "1.5.0",
       "_view_name": "HBoxView",
       "box_style": "",
       "children": [
        "IPY_MODEL_8b275b1882014fae97770cb75caf072c",
        "IPY_MODEL_f27ee53d013e4650830b4e50e2f510e4",
        "IPY_MODEL_f27e4dda852d401b9d4f6ef2a09078c1"
       ],
       "layout": "IPY_MODEL_9fb6f54e469e42849b7c7c1ed5e098a2"
      }
     },
     "47ad56e881664b819779ef96ac918c1d": {
      "model_module": "@jupyter-widgets/controls",
      "model_module_version": "1.5.0",
      "model_name": "DescriptionStyleModel",
      "state": {
       "_model_module": "@jupyter-widgets/controls",
       "_model_module_version": "1.5.0",
       "_model_name": "DescriptionStyleModel",
       "_view_count": null,
       "_view_module": "@jupyter-widgets/base",
       "_view_module_version": "1.2.0",
       "_view_name": "StyleView",
       "description_width": ""
      }
     },
     "546dcdde65dd427389d97c735983e3bd": {
      "model_module": "@jupyter-widgets/controls",
      "model_module_version": "1.5.0",
      "model_name": "FloatProgressModel",
      "state": {
       "_dom_classes": [],
       "_model_module": "@jupyter-widgets/controls",
       "_model_module_version": "1.5.0",
       "_model_name": "FloatProgressModel",
       "_view_count": null,
       "_view_module": "@jupyter-widgets/controls",
       "_view_module_version": "1.5.0",
       "_view_name": "ProgressView",
       "bar_style": "success",
       "description": "",
       "description_tooltip": null,
       "layout": "IPY_MODEL_8be31b43571f4855871157743a25319b",
       "max": 37,
       "min": 0,
       "orientation": "horizontal",
       "style": "IPY_MODEL_252cbf7aee864971aace7ce7df4e8735",
       "value": 37
      }
     },
     "54f6428beee9491681612ee89d9445a9": {
      "model_module": "@jupyter-widgets/base",
      "model_module_version": "1.2.0",
      "model_name": "LayoutModel",
      "state": {
       "_model_module": "@jupyter-widgets/base",
       "_model_module_version": "1.2.0",
       "_model_name": "LayoutModel",
       "_view_count": null,
       "_view_module": "@jupyter-widgets/base",
       "_view_module_version": "1.2.0",
       "_view_name": "LayoutView",
       "align_content": null,
       "align_items": null,
       "align_self": null,
       "border": null,
       "bottom": null,
       "display": null,
       "flex": null,
       "flex_flow": null,
       "grid_area": null,
       "grid_auto_columns": null,
       "grid_auto_flow": null,
       "grid_auto_rows": null,
       "grid_column": null,
       "grid_gap": null,
       "grid_row": null,
       "grid_template_areas": null,
       "grid_template_columns": null,
       "grid_template_rows": null,
       "height": null,
       "justify_content": null,
       "justify_items": null,
       "left": null,
       "margin": null,
       "max_height": null,
       "max_width": null,
       "min_height": null,
       "min_width": null,
       "object_fit": null,
       "object_position": null,
       "order": null,
       "overflow": null,
       "overflow_x": null,
       "overflow_y": null,
       "padding": null,
       "right": null,
       "top": null,
       "visibility": null,
       "width": null
      }
     },
     "578fb6544f0045a6aa14160acd74a546": {
      "model_module": "@jupyter-widgets/controls",
      "model_module_version": "1.5.0",
      "model_name": "DescriptionStyleModel",
      "state": {
       "_model_module": "@jupyter-widgets/controls",
       "_model_module_version": "1.5.0",
       "_model_name": "DescriptionStyleModel",
       "_view_count": null,
       "_view_module": "@jupyter-widgets/base",
       "_view_module_version": "1.2.0",
       "_view_name": "StyleView",
       "description_width": ""
      }
     },
     "58d2f87bc7d646cfb1cdf254061087b4": {
      "model_module": "@jupyter-widgets/controls",
      "model_module_version": "1.5.0",
      "model_name": "FloatProgressModel",
      "state": {
       "_dom_classes": [],
       "_model_module": "@jupyter-widgets/controls",
       "_model_module_version": "1.5.0",
       "_model_name": "FloatProgressModel",
       "_view_count": null,
       "_view_module": "@jupyter-widgets/controls",
       "_view_module_version": "1.5.0",
       "_view_name": "ProgressView",
       "bar_style": "success",
       "description": "",
       "description_tooltip": null,
       "layout": "IPY_MODEL_a839a234dbeb464ebc518be49e9ffec8",
       "max": 37,
       "min": 0,
       "orientation": "horizontal",
       "style": "IPY_MODEL_d2850a8aec3f4bf89c2172c84224d9bc",
       "value": 37
      }
     },
     "637dc11668ad42cd991702c171972c46": {
      "model_module": "@jupyter-widgets/base",
      "model_module_version": "1.2.0",
      "model_name": "LayoutModel",
      "state": {
       "_model_module": "@jupyter-widgets/base",
       "_model_module_version": "1.2.0",
       "_model_name": "LayoutModel",
       "_view_count": null,
       "_view_module": "@jupyter-widgets/base",
       "_view_module_version": "1.2.0",
       "_view_name": "LayoutView",
       "align_content": null,
       "align_items": null,
       "align_self": null,
       "border": null,
       "bottom": null,
       "display": null,
       "flex": null,
       "flex_flow": null,
       "grid_area": null,
       "grid_auto_columns": null,
       "grid_auto_flow": null,
       "grid_auto_rows": null,
       "grid_column": null,
       "grid_gap": null,
       "grid_row": null,
       "grid_template_areas": null,
       "grid_template_columns": null,
       "grid_template_rows": null,
       "height": null,
       "justify_content": null,
       "justify_items": null,
       "left": null,
       "margin": null,
       "max_height": null,
       "max_width": null,
       "min_height": null,
       "min_width": null,
       "object_fit": null,
       "object_position": null,
       "order": null,
       "overflow": null,
       "overflow_x": null,
       "overflow_y": null,
       "padding": null,
       "right": null,
       "top": null,
       "visibility": null,
       "width": null
      }
     },
     "6384b710b9c547b6b65ebad15ef55b6a": {
      "model_module": "@jupyter-widgets/controls",
      "model_module_version": "1.5.0",
      "model_name": "HBoxModel",
      "state": {
       "_dom_classes": [],
       "_model_module": "@jupyter-widgets/controls",
       "_model_module_version": "1.5.0",
       "_model_name": "HBoxModel",
       "_view_count": null,
       "_view_module": "@jupyter-widgets/controls",
       "_view_module_version": "1.5.0",
       "_view_name": "HBoxView",
       "box_style": "",
       "children": [
        "IPY_MODEL_370dcf1a1f774c728f64364d2afab8bb",
        "IPY_MODEL_58d2f87bc7d646cfb1cdf254061087b4",
        "IPY_MODEL_050231bb17744e4e826344ca8e281608"
       ],
       "layout": "IPY_MODEL_19f27ae15914434e9f60ac3378c05467"
      }
     },
     "63db4e9aca6b4c34b149f2a54c26d64e": {
      "model_module": "@jupyter-widgets/base",
      "model_module_version": "1.2.0",
      "model_name": "LayoutModel",
      "state": {
       "_model_module": "@jupyter-widgets/base",
       "_model_module_version": "1.2.0",
       "_model_name": "LayoutModel",
       "_view_count": null,
       "_view_module": "@jupyter-widgets/base",
       "_view_module_version": "1.2.0",
       "_view_name": "LayoutView",
       "align_content": null,
       "align_items": null,
       "align_self": null,
       "border": null,
       "bottom": null,
       "display": null,
       "flex": null,
       "flex_flow": null,
       "grid_area": null,
       "grid_auto_columns": null,
       "grid_auto_flow": null,
       "grid_auto_rows": null,
       "grid_column": null,
       "grid_gap": null,
       "grid_row": null,
       "grid_template_areas": null,
       "grid_template_columns": null,
       "grid_template_rows": null,
       "height": null,
       "justify_content": null,
       "justify_items": null,
       "left": null,
       "margin": null,
       "max_height": null,
       "max_width": null,
       "min_height": null,
       "min_width": null,
       "object_fit": null,
       "object_position": null,
       "order": null,
       "overflow": null,
       "overflow_x": null,
       "overflow_y": null,
       "padding": null,
       "right": null,
       "top": null,
       "visibility": null,
       "width": null
      }
     },
     "659e1d22c440485abcd2ad41d552118d": {
      "model_module": "@jupyter-widgets/controls",
      "model_module_version": "1.5.0",
      "model_name": "HBoxModel",
      "state": {
       "_dom_classes": [],
       "_model_module": "@jupyter-widgets/controls",
       "_model_module_version": "1.5.0",
       "_model_name": "HBoxModel",
       "_view_count": null,
       "_view_module": "@jupyter-widgets/controls",
       "_view_module_version": "1.5.0",
       "_view_name": "HBoxView",
       "box_style": "",
       "children": [
        "IPY_MODEL_e4a8c7e62f2f4c57a33071808ffe7522",
        "IPY_MODEL_9895557627e24a5abe1a1ac9f2eb370d",
        "IPY_MODEL_19b1e9c3855a4154830525bab9fa35c4"
       ],
       "layout": "IPY_MODEL_0d0121284ee24da3b00b1da4742b716d"
      }
     },
     "6b692610c99d4a4ca7d11ba8e06c51aa": {
      "model_module": "@jupyter-widgets/controls",
      "model_module_version": "1.5.0",
      "model_name": "DescriptionStyleModel",
      "state": {
       "_model_module": "@jupyter-widgets/controls",
       "_model_module_version": "1.5.0",
       "_model_name": "DescriptionStyleModel",
       "_view_count": null,
       "_view_module": "@jupyter-widgets/base",
       "_view_module_version": "1.2.0",
       "_view_name": "StyleView",
       "description_width": ""
      }
     },
     "6bb4e6d0610b4955a09a74c5a1483b98": {
      "model_module": "@jupyter-widgets/base",
      "model_module_version": "1.2.0",
      "model_name": "LayoutModel",
      "state": {
       "_model_module": "@jupyter-widgets/base",
       "_model_module_version": "1.2.0",
       "_model_name": "LayoutModel",
       "_view_count": null,
       "_view_module": "@jupyter-widgets/base",
       "_view_module_version": "1.2.0",
       "_view_name": "LayoutView",
       "align_content": null,
       "align_items": null,
       "align_self": null,
       "border": null,
       "bottom": null,
       "display": null,
       "flex": null,
       "flex_flow": null,
       "grid_area": null,
       "grid_auto_columns": null,
       "grid_auto_flow": null,
       "grid_auto_rows": null,
       "grid_column": null,
       "grid_gap": null,
       "grid_row": null,
       "grid_template_areas": null,
       "grid_template_columns": null,
       "grid_template_rows": null,
       "height": null,
       "justify_content": null,
       "justify_items": null,
       "left": null,
       "margin": null,
       "max_height": null,
       "max_width": null,
       "min_height": null,
       "min_width": null,
       "object_fit": null,
       "object_position": null,
       "order": null,
       "overflow": null,
       "overflow_x": null,
       "overflow_y": null,
       "padding": null,
       "right": null,
       "top": null,
       "visibility": null,
       "width": null
      }
     },
     "6ca4d325d75f4d3785e17017eb2796eb": {
      "model_module": "@jupyter-widgets/controls",
      "model_module_version": "1.5.0",
      "model_name": "HTMLModel",
      "state": {
       "_dom_classes": [],
       "_model_module": "@jupyter-widgets/controls",
       "_model_module_version": "1.5.0",
       "_model_name": "HTMLModel",
       "_view_count": null,
       "_view_module": "@jupyter-widgets/controls",
       "_view_module_version": "1.5.0",
       "_view_name": "HTMLView",
       "description": "",
       "description_tooltip": null,
       "layout": "IPY_MODEL_bdc371752d474e5d82402e7a63d76aa8",
       "placeholder": "​",
       "style": "IPY_MODEL_d63f3cb652db424c9dab6d0021b53a46",
       "value": " 52.0/52.0 [00:00&lt;00:00, 2.08kB/s]"
      }
     },
     "7bbbcd210d1546869cad760af83e4829": {
      "model_module": "@jupyter-widgets/controls",
      "model_module_version": "1.5.0",
      "model_name": "DescriptionStyleModel",
      "state": {
       "_model_module": "@jupyter-widgets/controls",
       "_model_module_version": "1.5.0",
       "_model_name": "DescriptionStyleModel",
       "_view_count": null,
       "_view_module": "@jupyter-widgets/base",
       "_view_module_version": "1.2.0",
       "_view_name": "StyleView",
       "description_width": ""
      }
     },
     "7bbfe71ed4f347fe85fb30b5b2382e0f": {
      "model_module": "@jupyter-widgets/controls",
      "model_module_version": "1.5.0",
      "model_name": "HBoxModel",
      "state": {
       "_dom_classes": [],
       "_model_module": "@jupyter-widgets/controls",
       "_model_module_version": "1.5.0",
       "_model_name": "HBoxModel",
       "_view_count": null,
       "_view_module": "@jupyter-widgets/controls",
       "_view_module_version": "1.5.0",
       "_view_name": "HBoxView",
       "box_style": "",
       "children": [
        "IPY_MODEL_175b7f150f4544acbfe448aff53bfdb4",
        "IPY_MODEL_21e583b7f8854e27a459bdac51e09ac3",
        "IPY_MODEL_110c574feb3e47a8b17971c130fbb7aa"
       ],
       "layout": "IPY_MODEL_bcfb4f3e5adb4570a8dcf47f5b30ac6d"
      }
     },
     "818cd4fa69da452d8854ff5ecdd95554": {
      "model_module": "@jupyter-widgets/base",
      "model_module_version": "1.2.0",
      "model_name": "LayoutModel",
      "state": {
       "_model_module": "@jupyter-widgets/base",
       "_model_module_version": "1.2.0",
       "_model_name": "LayoutModel",
       "_view_count": null,
       "_view_module": "@jupyter-widgets/base",
       "_view_module_version": "1.2.0",
       "_view_name": "LayoutView",
       "align_content": null,
       "align_items": null,
       "align_self": null,
       "border": null,
       "bottom": null,
       "display": null,
       "flex": null,
       "flex_flow": null,
       "grid_area": null,
       "grid_auto_columns": null,
       "grid_auto_flow": null,
       "grid_auto_rows": null,
       "grid_column": null,
       "grid_gap": null,
       "grid_row": null,
       "grid_template_areas": null,
       "grid_template_columns": null,
       "grid_template_rows": null,
       "height": null,
       "justify_content": null,
       "justify_items": null,
       "left": null,
       "margin": null,
       "max_height": null,
       "max_width": null,
       "min_height": null,
       "min_width": null,
       "object_fit": null,
       "object_position": null,
       "order": null,
       "overflow": null,
       "overflow_x": null,
       "overflow_y": null,
       "padding": null,
       "right": null,
       "top": null,
       "visibility": null,
       "width": null
      }
     },
     "828b42f02cd648fa88c3e62b458dc941": {
      "model_module": "@jupyter-widgets/controls",
      "model_module_version": "1.5.0",
      "model_name": "HBoxModel",
      "state": {
       "_dom_classes": [],
       "_model_module": "@jupyter-widgets/controls",
       "_model_module_version": "1.5.0",
       "_model_name": "HBoxModel",
       "_view_count": null,
       "_view_module": "@jupyter-widgets/controls",
       "_view_module_version": "1.5.0",
       "_view_name": "HBoxView",
       "box_style": "",
       "children": [
        "IPY_MODEL_e9b2d5a85a2b4c409aaab1b4a4f0f895",
        "IPY_MODEL_546dcdde65dd427389d97c735983e3bd",
        "IPY_MODEL_2e7c4891c1694af8b58b4066e0ed88d2"
       ],
       "layout": "IPY_MODEL_91a073c74ffa49258c43d64f718afcf7"
      }
     },
     "8a1ba1721f6a47a5b9773ad1738b0dfb": {
      "model_module": "@jupyter-widgets/controls",
      "model_module_version": "1.5.0",
      "model_name": "ProgressStyleModel",
      "state": {
       "_model_module": "@jupyter-widgets/controls",
       "_model_module_version": "1.5.0",
       "_model_name": "ProgressStyleModel",
       "_view_count": null,
       "_view_module": "@jupyter-widgets/base",
       "_view_module_version": "1.2.0",
       "_view_name": "StyleView",
       "bar_color": null,
       "description_width": ""
      }
     },
     "8aefaab967ee478992b35917d02848ff": {
      "model_module": "@jupyter-widgets/base",
      "model_module_version": "1.2.0",
      "model_name": "LayoutModel",
      "state": {
       "_model_module": "@jupyter-widgets/base",
       "_model_module_version": "1.2.0",
       "_model_name": "LayoutModel",
       "_view_count": null,
       "_view_module": "@jupyter-widgets/base",
       "_view_module_version": "1.2.0",
       "_view_name": "LayoutView",
       "align_content": null,
       "align_items": null,
       "align_self": null,
       "border": null,
       "bottom": null,
       "display": null,
       "flex": null,
       "flex_flow": null,
       "grid_area": null,
       "grid_auto_columns": null,
       "grid_auto_flow": null,
       "grid_auto_rows": null,
       "grid_column": null,
       "grid_gap": null,
       "grid_row": null,
       "grid_template_areas": null,
       "grid_template_columns": null,
       "grid_template_rows": null,
       "height": null,
       "justify_content": null,
       "justify_items": null,
       "left": null,
       "margin": null,
       "max_height": null,
       "max_width": null,
       "min_height": null,
       "min_width": null,
       "object_fit": null,
       "object_position": null,
       "order": null,
       "overflow": null,
       "overflow_x": null,
       "overflow_y": null,
       "padding": null,
       "right": null,
       "top": null,
       "visibility": null,
       "width": null
      }
     },
     "8b275b1882014fae97770cb75caf072c": {
      "model_module": "@jupyter-widgets/controls",
      "model_module_version": "1.5.0",
      "model_name": "HTMLModel",
      "state": {
       "_dom_classes": [],
       "_model_module": "@jupyter-widgets/controls",
       "_model_module_version": "1.5.0",
       "_model_name": "HTMLModel",
       "_view_count": null,
       "_view_module": "@jupyter-widgets/controls",
       "_view_module_version": "1.5.0",
       "_view_name": "HTMLView",
       "description": "",
       "description_tooltip": null,
       "layout": "IPY_MODEL_422ce5f4010d4c71beac4b21fd3c110a",
       "placeholder": "​",
       "style": "IPY_MODEL_c147e1e4451d45f6bba56c16dec9ac3e",
       "value": "Downloading: 100%"
      }
     },
     "8be31b43571f4855871157743a25319b": {
      "model_module": "@jupyter-widgets/base",
      "model_module_version": "1.2.0",
      "model_name": "LayoutModel",
      "state": {
       "_model_module": "@jupyter-widgets/base",
       "_model_module_version": "1.2.0",
       "_model_name": "LayoutModel",
       "_view_count": null,
       "_view_module": "@jupyter-widgets/base",
       "_view_module_version": "1.2.0",
       "_view_name": "LayoutView",
       "align_content": null,
       "align_items": null,
       "align_self": null,
       "border": null,
       "bottom": null,
       "display": null,
       "flex": null,
       "flex_flow": null,
       "grid_area": null,
       "grid_auto_columns": null,
       "grid_auto_flow": null,
       "grid_auto_rows": null,
       "grid_column": null,
       "grid_gap": null,
       "grid_row": null,
       "grid_template_areas": null,
       "grid_template_columns": null,
       "grid_template_rows": null,
       "height": null,
       "justify_content": null,
       "justify_items": null,
       "left": null,
       "margin": null,
       "max_height": null,
       "max_width": null,
       "min_height": null,
       "min_width": null,
       "object_fit": null,
       "object_position": null,
       "order": null,
       "overflow": null,
       "overflow_x": null,
       "overflow_y": null,
       "padding": null,
       "right": null,
       "top": null,
       "visibility": null,
       "width": null
      }
     },
     "8c72a81d99cf4194a8ac0ca825e66f42": {
      "model_module": "@jupyter-widgets/controls",
      "model_module_version": "1.5.0",
      "model_name": "DescriptionStyleModel",
      "state": {
       "_model_module": "@jupyter-widgets/controls",
       "_model_module_version": "1.5.0",
       "_model_name": "DescriptionStyleModel",
       "_view_count": null,
       "_view_module": "@jupyter-widgets/base",
       "_view_module_version": "1.2.0",
       "_view_name": "StyleView",
       "description_width": ""
      }
     },
     "8d5db6bd65094b5195e0423918e168bc": {
      "model_module": "@jupyter-widgets/controls",
      "model_module_version": "1.5.0",
      "model_name": "HTMLModel",
      "state": {
       "_dom_classes": [],
       "_model_module": "@jupyter-widgets/controls",
       "_model_module_version": "1.5.0",
       "_model_name": "HTMLModel",
       "_view_count": null,
       "_view_module": "@jupyter-widgets/controls",
       "_view_module_version": "1.5.0",
       "_view_name": "HTMLView",
       "description": "",
       "description_tooltip": null,
       "layout": "IPY_MODEL_3c4cb343c8a147d7bdf3baa08e5e7111",
       "placeholder": "​",
       "style": "IPY_MODEL_90dc86f9a77b46958015996a98d00e33",
       "value": " 37/37 [00:05&lt;00:00,  4.67ba/s]"
      }
     },
     "8d5e23c9af0b468195b8cd60f7f70cd7": {
      "model_module": "@jupyter-widgets/controls",
      "model_module_version": "1.5.0",
      "model_name": "DescriptionStyleModel",
      "state": {
       "_model_module": "@jupyter-widgets/controls",
       "_model_module_version": "1.5.0",
       "_model_name": "DescriptionStyleModel",
       "_view_count": null,
       "_view_module": "@jupyter-widgets/base",
       "_view_module_version": "1.2.0",
       "_view_name": "StyleView",
       "description_width": ""
      }
     },
     "8d82c454041c40169b63b5745537bcf3": {
      "model_module": "@jupyter-widgets/controls",
      "model_module_version": "1.5.0",
      "model_name": "HTMLModel",
      "state": {
       "_dom_classes": [],
       "_model_module": "@jupyter-widgets/controls",
       "_model_module_version": "1.5.0",
       "_model_name": "HTMLModel",
       "_view_count": null,
       "_view_module": "@jupyter-widgets/controls",
       "_view_module_version": "1.5.0",
       "_view_name": "HTMLView",
       "description": "",
       "description_tooltip": null,
       "layout": "IPY_MODEL_b4299bcee1be48498016503b70f79720",
       "placeholder": "​",
       "style": "IPY_MODEL_35745679468d453097e87a74bc0916ee",
       "value": "Downloading: 100%"
      }
     },
     "8e3838a4b0e54c609642c88c938e1637": {
      "model_module": "@jupyter-widgets/base",
      "model_module_version": "1.2.0",
      "model_name": "LayoutModel",
      "state": {
       "_model_module": "@jupyter-widgets/base",
       "_model_module_version": "1.2.0",
       "_model_name": "LayoutModel",
       "_view_count": null,
       "_view_module": "@jupyter-widgets/base",
       "_view_module_version": "1.2.0",
       "_view_name": "LayoutView",
       "align_content": null,
       "align_items": null,
       "align_self": null,
       "border": null,
       "bottom": null,
       "display": null,
       "flex": null,
       "flex_flow": null,
       "grid_area": null,
       "grid_auto_columns": null,
       "grid_auto_flow": null,
       "grid_auto_rows": null,
       "grid_column": null,
       "grid_gap": null,
       "grid_row": null,
       "grid_template_areas": null,
       "grid_template_columns": null,
       "grid_template_rows": null,
       "height": null,
       "justify_content": null,
       "justify_items": null,
       "left": null,
       "margin": null,
       "max_height": null,
       "max_width": null,
       "min_height": null,
       "min_width": null,
       "object_fit": null,
       "object_position": null,
       "order": null,
       "overflow": null,
       "overflow_x": null,
       "overflow_y": null,
       "padding": null,
       "right": null,
       "top": null,
       "visibility": null,
       "width": null
      }
     },
     "90dc86f9a77b46958015996a98d00e33": {
      "model_module": "@jupyter-widgets/controls",
      "model_module_version": "1.5.0",
      "model_name": "DescriptionStyleModel",
      "state": {
       "_model_module": "@jupyter-widgets/controls",
       "_model_module_version": "1.5.0",
       "_model_name": "DescriptionStyleModel",
       "_view_count": null,
       "_view_module": "@jupyter-widgets/base",
       "_view_module_version": "1.2.0",
       "_view_name": "StyleView",
       "description_width": ""
      }
     },
     "91a073c74ffa49258c43d64f718afcf7": {
      "model_module": "@jupyter-widgets/base",
      "model_module_version": "1.2.0",
      "model_name": "LayoutModel",
      "state": {
       "_model_module": "@jupyter-widgets/base",
       "_model_module_version": "1.2.0",
       "_model_name": "LayoutModel",
       "_view_count": null,
       "_view_module": "@jupyter-widgets/base",
       "_view_module_version": "1.2.0",
       "_view_name": "LayoutView",
       "align_content": null,
       "align_items": null,
       "align_self": null,
       "border": null,
       "bottom": null,
       "display": null,
       "flex": null,
       "flex_flow": null,
       "grid_area": null,
       "grid_auto_columns": null,
       "grid_auto_flow": null,
       "grid_auto_rows": null,
       "grid_column": null,
       "grid_gap": null,
       "grid_row": null,
       "grid_template_areas": null,
       "grid_template_columns": null,
       "grid_template_rows": null,
       "height": null,
       "justify_content": null,
       "justify_items": null,
       "left": null,
       "margin": null,
       "max_height": null,
       "max_width": null,
       "min_height": null,
       "min_width": null,
       "object_fit": null,
       "object_position": null,
       "order": null,
       "overflow": null,
       "overflow_x": null,
       "overflow_y": null,
       "padding": null,
       "right": null,
       "top": null,
       "visibility": null,
       "width": null
      }
     },
     "926085d7e5a746bbafdafe689a7d94da": {
      "model_module": "@jupyter-widgets/controls",
      "model_module_version": "1.5.0",
      "model_name": "ProgressStyleModel",
      "state": {
       "_model_module": "@jupyter-widgets/controls",
       "_model_module_version": "1.5.0",
       "_model_name": "ProgressStyleModel",
       "_view_count": null,
       "_view_module": "@jupyter-widgets/base",
       "_view_module_version": "1.2.0",
       "_view_name": "StyleView",
       "bar_color": null,
       "description_width": ""
      }
     },
     "9895557627e24a5abe1a1ac9f2eb370d": {
      "model_module": "@jupyter-widgets/controls",
      "model_module_version": "1.5.0",
      "model_name": "FloatProgressModel",
      "state": {
       "_dom_classes": [],
       "_model_module": "@jupyter-widgets/controls",
       "_model_module_version": "1.5.0",
       "_model_name": "FloatProgressModel",
       "_view_count": null,
       "_view_module": "@jupyter-widgets/controls",
       "_view_module_version": "1.5.0",
       "_view_name": "ProgressView",
       "bar_style": "success",
       "description": "",
       "description_tooltip": null,
       "layout": "IPY_MODEL_2f1bdd816af64bd0a6bc136b7fcd61aa",
       "max": 578,
       "min": 0,
       "orientation": "horizontal",
       "style": "IPY_MODEL_ed1a34a42c3e437795773e5ad5d9c9f6",
       "value": 578
      }
     },
     "9d83bf944ac94d588f972b709dfa269d": {
      "model_module": "@jupyter-widgets/base",
      "model_module_version": "1.2.0",
      "model_name": "LayoutModel",
      "state": {
       "_model_module": "@jupyter-widgets/base",
       "_model_module_version": "1.2.0",
       "_model_name": "LayoutModel",
       "_view_count": null,
       "_view_module": "@jupyter-widgets/base",
       "_view_module_version": "1.2.0",
       "_view_name": "LayoutView",
       "align_content": null,
       "align_items": null,
       "align_self": null,
       "border": null,
       "bottom": null,
       "display": null,
       "flex": null,
       "flex_flow": null,
       "grid_area": null,
       "grid_auto_columns": null,
       "grid_auto_flow": null,
       "grid_auto_rows": null,
       "grid_column": null,
       "grid_gap": null,
       "grid_row": null,
       "grid_template_areas": null,
       "grid_template_columns": null,
       "grid_template_rows": null,
       "height": null,
       "justify_content": null,
       "justify_items": null,
       "left": null,
       "margin": null,
       "max_height": null,
       "max_width": null,
       "min_height": null,
       "min_width": null,
       "object_fit": null,
       "object_position": null,
       "order": null,
       "overflow": null,
       "overflow_x": null,
       "overflow_y": null,
       "padding": null,
       "right": null,
       "top": null,
       "visibility": null,
       "width": null
      }
     },
     "9fb6f54e469e42849b7c7c1ed5e098a2": {
      "model_module": "@jupyter-widgets/base",
      "model_module_version": "1.2.0",
      "model_name": "LayoutModel",
      "state": {
       "_model_module": "@jupyter-widgets/base",
       "_model_module_version": "1.2.0",
       "_model_name": "LayoutModel",
       "_view_count": null,
       "_view_module": "@jupyter-widgets/base",
       "_view_module_version": "1.2.0",
       "_view_name": "LayoutView",
       "align_content": null,
       "align_items": null,
       "align_self": null,
       "border": null,
       "bottom": null,
       "display": null,
       "flex": null,
       "flex_flow": null,
       "grid_area": null,
       "grid_auto_columns": null,
       "grid_auto_flow": null,
       "grid_auto_rows": null,
       "grid_column": null,
       "grid_gap": null,
       "grid_row": null,
       "grid_template_areas": null,
       "grid_template_columns": null,
       "grid_template_rows": null,
       "height": null,
       "justify_content": null,
       "justify_items": null,
       "left": null,
       "margin": null,
       "max_height": null,
       "max_width": null,
       "min_height": null,
       "min_width": null,
       "object_fit": null,
       "object_position": null,
       "order": null,
       "overflow": null,
       "overflow_x": null,
       "overflow_y": null,
       "padding": null,
       "right": null,
       "top": null,
       "visibility": null,
       "width": null
      }
     },
     "a50a097377bf4221b9995983a55cf12f": {
      "model_module": "@jupyter-widgets/controls",
      "model_module_version": "1.5.0",
      "model_name": "FloatProgressModel",
      "state": {
       "_dom_classes": [],
       "_model_module": "@jupyter-widgets/controls",
       "_model_module_version": "1.5.0",
       "_model_name": "FloatProgressModel",
       "_view_count": null,
       "_view_module": "@jupyter-widgets/controls",
       "_view_module_version": "1.5.0",
       "_view_name": "ProgressView",
       "bar_style": "success",
       "description": "",
       "description_tooltip": null,
       "layout": "IPY_MODEL_3a2cf86b2fac4c9996c0b49e1877c0e2",
       "max": 37,
       "min": 0,
       "orientation": "horizontal",
       "style": "IPY_MODEL_f424ae271c0a49debcf10983ad51811f",
       "value": 37
      }
     },
     "a839a234dbeb464ebc518be49e9ffec8": {
      "model_module": "@jupyter-widgets/base",
      "model_module_version": "1.2.0",
      "model_name": "LayoutModel",
      "state": {
       "_model_module": "@jupyter-widgets/base",
       "_model_module_version": "1.2.0",
       "_model_name": "LayoutModel",
       "_view_count": null,
       "_view_module": "@jupyter-widgets/base",
       "_view_module_version": "1.2.0",
       "_view_name": "LayoutView",
       "align_content": null,
       "align_items": null,
       "align_self": null,
       "border": null,
       "bottom": null,
       "display": null,
       "flex": null,
       "flex_flow": null,
       "grid_area": null,
       "grid_auto_columns": null,
       "grid_auto_flow": null,
       "grid_auto_rows": null,
       "grid_column": null,
       "grid_gap": null,
       "grid_row": null,
       "grid_template_areas": null,
       "grid_template_columns": null,
       "grid_template_rows": null,
       "height": null,
       "justify_content": null,
       "justify_items": null,
       "left": null,
       "margin": null,
       "max_height": null,
       "max_width": null,
       "min_height": null,
       "min_width": null,
       "object_fit": null,
       "object_position": null,
       "order": null,
       "overflow": null,
       "overflow_x": null,
       "overflow_y": null,
       "padding": null,
       "right": null,
       "top": null,
       "visibility": null,
       "width": null
      }
     },
     "abd53aae6ed34630a992bf711bd74e32": {
      "model_module": "@jupyter-widgets/controls",
      "model_module_version": "1.5.0",
      "model_name": "HTMLModel",
      "state": {
       "_dom_classes": [],
       "_model_module": "@jupyter-widgets/controls",
       "_model_module_version": "1.5.0",
       "_model_name": "HTMLModel",
       "_view_count": null,
       "_view_module": "@jupyter-widgets/controls",
       "_view_module_version": "1.5.0",
       "_view_name": "HTMLView",
       "description": "",
       "description_tooltip": null,
       "layout": "IPY_MODEL_f5d2b5fca38e489e80cc96c24b65fb6c",
       "placeholder": "​",
       "style": "IPY_MODEL_e444e7a940f04bf4832981ed2e7fd239",
       "value": " 37/37 [00:05&lt;00:00,  7.08ba/s]"
      }
     },
     "b2cc45f29e7b40ca81bc6c01d6702b3e": {
      "model_module": "@jupyter-widgets/base",
      "model_module_version": "1.2.0",
      "model_name": "LayoutModel",
      "state": {
       "_model_module": "@jupyter-widgets/base",
       "_model_module_version": "1.2.0",
       "_model_name": "LayoutModel",
       "_view_count": null,
       "_view_module": "@jupyter-widgets/base",
       "_view_module_version": "1.2.0",
       "_view_name": "LayoutView",
       "align_content": null,
       "align_items": null,
       "align_self": null,
       "border": null,
       "bottom": null,
       "display": null,
       "flex": null,
       "flex_flow": null,
       "grid_area": null,
       "grid_auto_columns": null,
       "grid_auto_flow": null,
       "grid_auto_rows": null,
       "grid_column": null,
       "grid_gap": null,
       "grid_row": null,
       "grid_template_areas": null,
       "grid_template_columns": null,
       "grid_template_rows": null,
       "height": null,
       "justify_content": null,
       "justify_items": null,
       "left": null,
       "margin": null,
       "max_height": null,
       "max_width": null,
       "min_height": null,
       "min_width": null,
       "object_fit": null,
       "object_position": null,
       "order": null,
       "overflow": null,
       "overflow_x": null,
       "overflow_y": null,
       "padding": null,
       "right": null,
       "top": null,
       "visibility": null,
       "width": null
      }
     },
     "b4299bcee1be48498016503b70f79720": {
      "model_module": "@jupyter-widgets/base",
      "model_module_version": "1.2.0",
      "model_name": "LayoutModel",
      "state": {
       "_model_module": "@jupyter-widgets/base",
       "_model_module_version": "1.2.0",
       "_model_name": "LayoutModel",
       "_view_count": null,
       "_view_module": "@jupyter-widgets/base",
       "_view_module_version": "1.2.0",
       "_view_name": "LayoutView",
       "align_content": null,
       "align_items": null,
       "align_self": null,
       "border": null,
       "bottom": null,
       "display": null,
       "flex": null,
       "flex_flow": null,
       "grid_area": null,
       "grid_auto_columns": null,
       "grid_auto_flow": null,
       "grid_auto_rows": null,
       "grid_column": null,
       "grid_gap": null,
       "grid_row": null,
       "grid_template_areas": null,
       "grid_template_columns": null,
       "grid_template_rows": null,
       "height": null,
       "justify_content": null,
       "justify_items": null,
       "left": null,
       "margin": null,
       "max_height": null,
       "max_width": null,
       "min_height": null,
       "min_width": null,
       "object_fit": null,
       "object_position": null,
       "order": null,
       "overflow": null,
       "overflow_x": null,
       "overflow_y": null,
       "padding": null,
       "right": null,
       "top": null,
       "visibility": null,
       "width": null
      }
     },
     "b6fcfb8fb7a3450485f64f580039b6e5": {
      "model_module": "@jupyter-widgets/base",
      "model_module_version": "1.2.0",
      "model_name": "LayoutModel",
      "state": {
       "_model_module": "@jupyter-widgets/base",
       "_model_module_version": "1.2.0",
       "_model_name": "LayoutModel",
       "_view_count": null,
       "_view_module": "@jupyter-widgets/base",
       "_view_module_version": "1.2.0",
       "_view_name": "LayoutView",
       "align_content": null,
       "align_items": null,
       "align_self": null,
       "border": null,
       "bottom": null,
       "display": null,
       "flex": null,
       "flex_flow": null,
       "grid_area": null,
       "grid_auto_columns": null,
       "grid_auto_flow": null,
       "grid_auto_rows": null,
       "grid_column": null,
       "grid_gap": null,
       "grid_row": null,
       "grid_template_areas": null,
       "grid_template_columns": null,
       "grid_template_rows": null,
       "height": null,
       "justify_content": null,
       "justify_items": null,
       "left": null,
       "margin": null,
       "max_height": null,
       "max_width": null,
       "min_height": null,
       "min_width": null,
       "object_fit": null,
       "object_position": null,
       "order": null,
       "overflow": null,
       "overflow_x": null,
       "overflow_y": null,
       "padding": null,
       "right": null,
       "top": null,
       "visibility": null,
       "width": null
      }
     },
     "b8c2b36f8e744a199fa6fb1e4ba8fdb3": {
      "model_module": "@jupyter-widgets/base",
      "model_module_version": "1.2.0",
      "model_name": "LayoutModel",
      "state": {
       "_model_module": "@jupyter-widgets/base",
       "_model_module_version": "1.2.0",
       "_model_name": "LayoutModel",
       "_view_count": null,
       "_view_module": "@jupyter-widgets/base",
       "_view_module_version": "1.2.0",
       "_view_name": "LayoutView",
       "align_content": null,
       "align_items": null,
       "align_self": null,
       "border": null,
       "bottom": null,
       "display": null,
       "flex": null,
       "flex_flow": null,
       "grid_area": null,
       "grid_auto_columns": null,
       "grid_auto_flow": null,
       "grid_auto_rows": null,
       "grid_column": null,
       "grid_gap": null,
       "grid_row": null,
       "grid_template_areas": null,
       "grid_template_columns": null,
       "grid_template_rows": null,
       "height": null,
       "justify_content": null,
       "justify_items": null,
       "left": null,
       "margin": null,
       "max_height": null,
       "max_width": null,
       "min_height": null,
       "min_width": null,
       "object_fit": null,
       "object_position": null,
       "order": null,
       "overflow": null,
       "overflow_x": null,
       "overflow_y": null,
       "padding": null,
       "right": null,
       "top": null,
       "visibility": null,
       "width": null
      }
     },
     "babf6ff76d274cf9938a3da46b444f96": {
      "model_module": "@jupyter-widgets/controls",
      "model_module_version": "1.5.0",
      "model_name": "HTMLModel",
      "state": {
       "_dom_classes": [],
       "_model_module": "@jupyter-widgets/controls",
       "_model_module_version": "1.5.0",
       "_model_name": "HTMLModel",
       "_view_count": null,
       "_view_module": "@jupyter-widgets/controls",
       "_view_module_version": "1.5.0",
       "_view_name": "HTMLView",
       "description": "",
       "description_tooltip": null,
       "layout": "IPY_MODEL_cf7415fabf5c41ffaaa7bf8bd6641124",
       "placeholder": "​",
       "style": "IPY_MODEL_8c72a81d99cf4194a8ac0ca825e66f42",
       "value": "100%"
      }
     },
     "bc6d92e49648408c81813fbeee1e6801": {
      "model_module": "@jupyter-widgets/base",
      "model_module_version": "1.2.0",
      "model_name": "LayoutModel",
      "state": {
       "_model_module": "@jupyter-widgets/base",
       "_model_module_version": "1.2.0",
       "_model_name": "LayoutModel",
       "_view_count": null,
       "_view_module": "@jupyter-widgets/base",
       "_view_module_version": "1.2.0",
       "_view_name": "LayoutView",
       "align_content": null,
       "align_items": null,
       "align_self": null,
       "border": null,
       "bottom": null,
       "display": null,
       "flex": null,
       "flex_flow": null,
       "grid_area": null,
       "grid_auto_columns": null,
       "grid_auto_flow": null,
       "grid_auto_rows": null,
       "grid_column": null,
       "grid_gap": null,
       "grid_row": null,
       "grid_template_areas": null,
       "grid_template_columns": null,
       "grid_template_rows": null,
       "height": null,
       "justify_content": null,
       "justify_items": null,
       "left": null,
       "margin": null,
       "max_height": null,
       "max_width": null,
       "min_height": null,
       "min_width": null,
       "object_fit": null,
       "object_position": null,
       "order": null,
       "overflow": null,
       "overflow_x": null,
       "overflow_y": null,
       "padding": null,
       "right": null,
       "top": null,
       "visibility": null,
       "width": null
      }
     },
     "bcfb4f3e5adb4570a8dcf47f5b30ac6d": {
      "model_module": "@jupyter-widgets/base",
      "model_module_version": "1.2.0",
      "model_name": "LayoutModel",
      "state": {
       "_model_module": "@jupyter-widgets/base",
       "_model_module_version": "1.2.0",
       "_model_name": "LayoutModel",
       "_view_count": null,
       "_view_module": "@jupyter-widgets/base",
       "_view_module_version": "1.2.0",
       "_view_name": "LayoutView",
       "align_content": null,
       "align_items": null,
       "align_self": null,
       "border": null,
       "bottom": null,
       "display": null,
       "flex": null,
       "flex_flow": null,
       "grid_area": null,
       "grid_auto_columns": null,
       "grid_auto_flow": null,
       "grid_auto_rows": null,
       "grid_column": null,
       "grid_gap": null,
       "grid_row": null,
       "grid_template_areas": null,
       "grid_template_columns": null,
       "grid_template_rows": null,
       "height": null,
       "justify_content": null,
       "justify_items": null,
       "left": null,
       "margin": null,
       "max_height": null,
       "max_width": null,
       "min_height": null,
       "min_width": null,
       "object_fit": null,
       "object_position": null,
       "order": null,
       "overflow": null,
       "overflow_x": null,
       "overflow_y": null,
       "padding": null,
       "right": null,
       "top": null,
       "visibility": null,
       "width": null
      }
     },
     "bdc371752d474e5d82402e7a63d76aa8": {
      "model_module": "@jupyter-widgets/base",
      "model_module_version": "1.2.0",
      "model_name": "LayoutModel",
      "state": {
       "_model_module": "@jupyter-widgets/base",
       "_model_module_version": "1.2.0",
       "_model_name": "LayoutModel",
       "_view_count": null,
       "_view_module": "@jupyter-widgets/base",
       "_view_module_version": "1.2.0",
       "_view_name": "LayoutView",
       "align_content": null,
       "align_items": null,
       "align_self": null,
       "border": null,
       "bottom": null,
       "display": null,
       "flex": null,
       "flex_flow": null,
       "grid_area": null,
       "grid_auto_columns": null,
       "grid_auto_flow": null,
       "grid_auto_rows": null,
       "grid_column": null,
       "grid_gap": null,
       "grid_row": null,
       "grid_template_areas": null,
       "grid_template_columns": null,
       "grid_template_rows": null,
       "height": null,
       "justify_content": null,
       "justify_items": null,
       "left": null,
       "margin": null,
       "max_height": null,
       "max_width": null,
       "min_height": null,
       "min_width": null,
       "object_fit": null,
       "object_position": null,
       "order": null,
       "overflow": null,
       "overflow_x": null,
       "overflow_y": null,
       "padding": null,
       "right": null,
       "top": null,
       "visibility": null,
       "width": null
      }
     },
     "c147e1e4451d45f6bba56c16dec9ac3e": {
      "model_module": "@jupyter-widgets/controls",
      "model_module_version": "1.5.0",
      "model_name": "DescriptionStyleModel",
      "state": {
       "_model_module": "@jupyter-widgets/controls",
       "_model_module_version": "1.5.0",
       "_model_name": "DescriptionStyleModel",
       "_view_count": null,
       "_view_module": "@jupyter-widgets/base",
       "_view_module_version": "1.2.0",
       "_view_name": "StyleView",
       "description_width": ""
      }
     },
     "c6197f1a4f3c479580e0dc4fbe18d5da": {
      "model_module": "@jupyter-widgets/controls",
      "model_module_version": "1.5.0",
      "model_name": "DescriptionStyleModel",
      "state": {
       "_model_module": "@jupyter-widgets/controls",
       "_model_module_version": "1.5.0",
       "_model_name": "DescriptionStyleModel",
       "_view_count": null,
       "_view_module": "@jupyter-widgets/base",
       "_view_module_version": "1.2.0",
       "_view_name": "StyleView",
       "description_width": ""
      }
     },
     "cab7d1e3479748b285f90645beae28ed": {
      "model_module": "@jupyter-widgets/controls",
      "model_module_version": "1.5.0",
      "model_name": "HBoxModel",
      "state": {
       "_dom_classes": [],
       "_model_module": "@jupyter-widgets/controls",
       "_model_module_version": "1.5.0",
       "_model_name": "HBoxModel",
       "_view_count": null,
       "_view_module": "@jupyter-widgets/controls",
       "_view_module_version": "1.5.0",
       "_view_name": "HBoxView",
       "box_style": "",
       "children": [
        "IPY_MODEL_f9a83cccde254fbbafa6421847a6d95f",
        "IPY_MODEL_a50a097377bf4221b9995983a55cf12f",
        "IPY_MODEL_abd53aae6ed34630a992bf711bd74e32"
       ],
       "layout": "IPY_MODEL_1bd68bb6190340278bade7a25cea1783"
      }
     },
     "cf7415fabf5c41ffaaa7bf8bd6641124": {
      "model_module": "@jupyter-widgets/base",
      "model_module_version": "1.2.0",
      "model_name": "LayoutModel",
      "state": {
       "_model_module": "@jupyter-widgets/base",
       "_model_module_version": "1.2.0",
       "_model_name": "LayoutModel",
       "_view_count": null,
       "_view_module": "@jupyter-widgets/base",
       "_view_module_version": "1.2.0",
       "_view_name": "LayoutView",
       "align_content": null,
       "align_items": null,
       "align_self": null,
       "border": null,
       "bottom": null,
       "display": null,
       "flex": null,
       "flex_flow": null,
       "grid_area": null,
       "grid_auto_columns": null,
       "grid_auto_flow": null,
       "grid_auto_rows": null,
       "grid_column": null,
       "grid_gap": null,
       "grid_row": null,
       "grid_template_areas": null,
       "grid_template_columns": null,
       "grid_template_rows": null,
       "height": null,
       "justify_content": null,
       "justify_items": null,
       "left": null,
       "margin": null,
       "max_height": null,
       "max_width": null,
       "min_height": null,
       "min_width": null,
       "object_fit": null,
       "object_position": null,
       "order": null,
       "overflow": null,
       "overflow_x": null,
       "overflow_y": null,
       "padding": null,
       "right": null,
       "top": null,
       "visibility": null,
       "width": null
      }
     },
     "d2850a8aec3f4bf89c2172c84224d9bc": {
      "model_module": "@jupyter-widgets/controls",
      "model_module_version": "1.5.0",
      "model_name": "ProgressStyleModel",
      "state": {
       "_model_module": "@jupyter-widgets/controls",
       "_model_module_version": "1.5.0",
       "_model_name": "ProgressStyleModel",
       "_view_count": null,
       "_view_module": "@jupyter-widgets/base",
       "_view_module_version": "1.2.0",
       "_view_name": "StyleView",
       "bar_color": null,
       "description_width": ""
      }
     },
     "d609f7e1a71847bd8bdeab7ca521ca1d": {
      "model_module": "@jupyter-widgets/controls",
      "model_module_version": "1.5.0",
      "model_name": "DescriptionStyleModel",
      "state": {
       "_model_module": "@jupyter-widgets/controls",
       "_model_module_version": "1.5.0",
       "_model_name": "DescriptionStyleModel",
       "_view_count": null,
       "_view_module": "@jupyter-widgets/base",
       "_view_module_version": "1.2.0",
       "_view_name": "StyleView",
       "description_width": ""
      }
     },
     "d63f3cb652db424c9dab6d0021b53a46": {
      "model_module": "@jupyter-widgets/controls",
      "model_module_version": "1.5.0",
      "model_name": "DescriptionStyleModel",
      "state": {
       "_model_module": "@jupyter-widgets/controls",
       "_model_module_version": "1.5.0",
       "_model_name": "DescriptionStyleModel",
       "_view_count": null,
       "_view_module": "@jupyter-widgets/base",
       "_view_module_version": "1.2.0",
       "_view_name": "StyleView",
       "description_width": ""
      }
     },
     "d75db2d90ad54aa58cba80c81f35278d": {
      "model_module": "@jupyter-widgets/controls",
      "model_module_version": "1.5.0",
      "model_name": "ProgressStyleModel",
      "state": {
       "_model_module": "@jupyter-widgets/controls",
       "_model_module_version": "1.5.0",
       "_model_name": "ProgressStyleModel",
       "_view_count": null,
       "_view_module": "@jupyter-widgets/base",
       "_view_module_version": "1.2.0",
       "_view_name": "StyleView",
       "bar_color": null,
       "description_width": ""
      }
     },
     "e26a2e3ae5694d4baeffebd6a5796489": {
      "model_module": "@jupyter-widgets/base",
      "model_module_version": "1.2.0",
      "model_name": "LayoutModel",
      "state": {
       "_model_module": "@jupyter-widgets/base",
       "_model_module_version": "1.2.0",
       "_model_name": "LayoutModel",
       "_view_count": null,
       "_view_module": "@jupyter-widgets/base",
       "_view_module_version": "1.2.0",
       "_view_name": "LayoutView",
       "align_content": null,
       "align_items": null,
       "align_self": null,
       "border": null,
       "bottom": null,
       "display": null,
       "flex": null,
       "flex_flow": null,
       "grid_area": null,
       "grid_auto_columns": null,
       "grid_auto_flow": null,
       "grid_auto_rows": null,
       "grid_column": null,
       "grid_gap": null,
       "grid_row": null,
       "grid_template_areas": null,
       "grid_template_columns": null,
       "grid_template_rows": null,
       "height": null,
       "justify_content": null,
       "justify_items": null,
       "left": null,
       "margin": null,
       "max_height": null,
       "max_width": null,
       "min_height": null,
       "min_width": null,
       "object_fit": null,
       "object_position": null,
       "order": null,
       "overflow": null,
       "overflow_x": null,
       "overflow_y": null,
       "padding": null,
       "right": null,
       "top": null,
       "visibility": null,
       "width": null
      }
     },
     "e444e7a940f04bf4832981ed2e7fd239": {
      "model_module": "@jupyter-widgets/controls",
      "model_module_version": "1.5.0",
      "model_name": "DescriptionStyleModel",
      "state": {
       "_model_module": "@jupyter-widgets/controls",
       "_model_module_version": "1.5.0",
       "_model_name": "DescriptionStyleModel",
       "_view_count": null,
       "_view_module": "@jupyter-widgets/base",
       "_view_module_version": "1.2.0",
       "_view_name": "StyleView",
       "description_width": ""
      }
     },
     "e4a8c7e62f2f4c57a33071808ffe7522": {
      "model_module": "@jupyter-widgets/controls",
      "model_module_version": "1.5.0",
      "model_name": "HTMLModel",
      "state": {
       "_dom_classes": [],
       "_model_module": "@jupyter-widgets/controls",
       "_model_module_version": "1.5.0",
       "_model_name": "HTMLModel",
       "_view_count": null,
       "_view_module": "@jupyter-widgets/controls",
       "_view_module_version": "1.5.0",
       "_view_name": "HTMLView",
       "description": "",
       "description_tooltip": null,
       "layout": "IPY_MODEL_b6fcfb8fb7a3450485f64f580039b6e5",
       "placeholder": "​",
       "style": "IPY_MODEL_7bbbcd210d1546869cad760af83e4829",
       "value": "Downloading: 100%"
      }
     },
     "e9b2d5a85a2b4c409aaab1b4a4f0f895": {
      "model_module": "@jupyter-widgets/controls",
      "model_module_version": "1.5.0",
      "model_name": "HTMLModel",
      "state": {
       "_dom_classes": [],
       "_model_module": "@jupyter-widgets/controls",
       "_model_module_version": "1.5.0",
       "_model_name": "HTMLModel",
       "_view_count": null,
       "_view_module": "@jupyter-widgets/controls",
       "_view_module_version": "1.5.0",
       "_view_name": "HTMLView",
       "description": "",
       "description_tooltip": null,
       "layout": "IPY_MODEL_6bb4e6d0610b4955a09a74c5a1483b98",
       "placeholder": "​",
       "style": "IPY_MODEL_f79bd979fd8a4dff8edeee7a26ec648d",
       "value": "100%"
      }
     },
     "ed1a34a42c3e437795773e5ad5d9c9f6": {
      "model_module": "@jupyter-widgets/controls",
      "model_module_version": "1.5.0",
      "model_name": "ProgressStyleModel",
      "state": {
       "_model_module": "@jupyter-widgets/controls",
       "_model_module_version": "1.5.0",
       "_model_name": "ProgressStyleModel",
       "_view_count": null,
       "_view_module": "@jupyter-widgets/base",
       "_view_module_version": "1.2.0",
       "_view_name": "StyleView",
       "bar_color": null,
       "description_width": ""
      }
     },
     "f27e4dda852d401b9d4f6ef2a09078c1": {
      "model_module": "@jupyter-widgets/controls",
      "model_module_version": "1.5.0",
      "model_name": "HTMLModel",
      "state": {
       "_dom_classes": [],
       "_model_module": "@jupyter-widgets/controls",
       "_model_module_version": "1.5.0",
       "_model_name": "HTMLModel",
       "_view_count": null,
       "_view_module": "@jupyter-widgets/controls",
       "_view_module_version": "1.5.0",
       "_view_name": "HTMLView",
       "description": "",
       "description_tooltip": null,
       "layout": "IPY_MODEL_9d83bf944ac94d588f972b709dfa269d",
       "placeholder": "​",
       "style": "IPY_MODEL_578fb6544f0045a6aa14160acd74a546",
       "value": " 2.35M/2.35M [00:00&lt;00:00, 4.07MB/s]"
      }
     },
     "f27ee53d013e4650830b4e50e2f510e4": {
      "model_module": "@jupyter-widgets/controls",
      "model_module_version": "1.5.0",
      "model_name": "FloatProgressModel",
      "state": {
       "_dom_classes": [],
       "_model_module": "@jupyter-widgets/controls",
       "_model_module_version": "1.5.0",
       "_model_name": "FloatProgressModel",
       "_view_count": null,
       "_view_module": "@jupyter-widgets/controls",
       "_view_module_version": "1.5.0",
       "_view_name": "ProgressView",
       "bar_style": "success",
       "description": "",
       "description_tooltip": null,
       "layout": "IPY_MODEL_bc6d92e49648408c81813fbeee1e6801",
       "max": 2464616,
       "min": 0,
       "orientation": "horizontal",
       "style": "IPY_MODEL_926085d7e5a746bbafdafe689a7d94da",
       "value": 2464616
      }
     },
     "f3854b5dae1c49fdb2b4681e9d318883": {
      "model_module": "@jupyter-widgets/controls",
      "model_module_version": "1.5.0",
      "model_name": "HBoxModel",
      "state": {
       "_dom_classes": [],
       "_model_module": "@jupyter-widgets/controls",
       "_model_module_version": "1.5.0",
       "_model_name": "HBoxModel",
       "_view_count": null,
       "_view_module": "@jupyter-widgets/controls",
       "_view_module_version": "1.5.0",
       "_view_name": "HBoxView",
       "box_style": "",
       "children": [
        "IPY_MODEL_8d82c454041c40169b63b5745537bcf3",
        "IPY_MODEL_21579d3a660c4aedb6b281b0428632be",
        "IPY_MODEL_6ca4d325d75f4d3785e17017eb2796eb"
       ],
       "layout": "IPY_MODEL_e26a2e3ae5694d4baeffebd6a5796489"
      }
     },
     "f424ae271c0a49debcf10983ad51811f": {
      "model_module": "@jupyter-widgets/controls",
      "model_module_version": "1.5.0",
      "model_name": "ProgressStyleModel",
      "state": {
       "_model_module": "@jupyter-widgets/controls",
       "_model_module_version": "1.5.0",
       "_model_name": "ProgressStyleModel",
       "_view_count": null,
       "_view_module": "@jupyter-widgets/base",
       "_view_module_version": "1.2.0",
       "_view_name": "StyleView",
       "bar_color": null,
       "description_width": ""
      }
     },
     "f5d2b5fca38e489e80cc96c24b65fb6c": {
      "model_module": "@jupyter-widgets/base",
      "model_module_version": "1.2.0",
      "model_name": "LayoutModel",
      "state": {
       "_model_module": "@jupyter-widgets/base",
       "_model_module_version": "1.2.0",
       "_model_name": "LayoutModel",
       "_view_count": null,
       "_view_module": "@jupyter-widgets/base",
       "_view_module_version": "1.2.0",
       "_view_name": "LayoutView",
       "align_content": null,
       "align_items": null,
       "align_self": null,
       "border": null,
       "bottom": null,
       "display": null,
       "flex": null,
       "flex_flow": null,
       "grid_area": null,
       "grid_auto_columns": null,
       "grid_auto_flow": null,
       "grid_auto_rows": null,
       "grid_column": null,
       "grid_gap": null,
       "grid_row": null,
       "grid_template_areas": null,
       "grid_template_columns": null,
       "grid_template_rows": null,
       "height": null,
       "justify_content": null,
       "justify_items": null,
       "left": null,
       "margin": null,
       "max_height": null,
       "max_width": null,
       "min_height": null,
       "min_width": null,
       "object_fit": null,
       "object_position": null,
       "order": null,
       "overflow": null,
       "overflow_x": null,
       "overflow_y": null,
       "padding": null,
       "right": null,
       "top": null,
       "visibility": null,
       "width": null
      }
     },
     "f5fb5dff95e84a18909bcc7df17f0d43": {
      "model_module": "@jupyter-widgets/base",
      "model_module_version": "1.2.0",
      "model_name": "LayoutModel",
      "state": {
       "_model_module": "@jupyter-widgets/base",
       "_model_module_version": "1.2.0",
       "_model_name": "LayoutModel",
       "_view_count": null,
       "_view_module": "@jupyter-widgets/base",
       "_view_module_version": "1.2.0",
       "_view_name": "LayoutView",
       "align_content": null,
       "align_items": null,
       "align_self": null,
       "border": null,
       "bottom": null,
       "display": null,
       "flex": null,
       "flex_flow": null,
       "grid_area": null,
       "grid_auto_columns": null,
       "grid_auto_flow": null,
       "grid_auto_rows": null,
       "grid_column": null,
       "grid_gap": null,
       "grid_row": null,
       "grid_template_areas": null,
       "grid_template_columns": null,
       "grid_template_rows": null,
       "height": null,
       "justify_content": null,
       "justify_items": null,
       "left": null,
       "margin": null,
       "max_height": null,
       "max_width": null,
       "min_height": null,
       "min_width": null,
       "object_fit": null,
       "object_position": null,
       "order": null,
       "overflow": null,
       "overflow_x": null,
       "overflow_y": null,
       "padding": null,
       "right": null,
       "top": null,
       "visibility": null,
       "width": null
      }
     },
     "f79bd979fd8a4dff8edeee7a26ec648d": {
      "model_module": "@jupyter-widgets/controls",
      "model_module_version": "1.5.0",
      "model_name": "DescriptionStyleModel",
      "state": {
       "_model_module": "@jupyter-widgets/controls",
       "_model_module_version": "1.5.0",
       "_model_name": "DescriptionStyleModel",
       "_view_count": null,
       "_view_module": "@jupyter-widgets/base",
       "_view_module_version": "1.2.0",
       "_view_name": "StyleView",
       "description_width": ""
      }
     },
     "f9a83cccde254fbbafa6421847a6d95f": {
      "model_module": "@jupyter-widgets/controls",
      "model_module_version": "1.5.0",
      "model_name": "HTMLModel",
      "state": {
       "_dom_classes": [],
       "_model_module": "@jupyter-widgets/controls",
       "_model_module_version": "1.5.0",
       "_model_name": "HTMLModel",
       "_view_count": null,
       "_view_module": "@jupyter-widgets/controls",
       "_view_module_version": "1.5.0",
       "_view_name": "HTMLView",
       "description": "",
       "description_tooltip": null,
       "layout": "IPY_MODEL_b8c2b36f8e744a199fa6fb1e4ba8fdb3",
       "placeholder": "​",
       "style": "IPY_MODEL_d609f7e1a71847bd8bdeab7ca521ca1d",
       "value": "100%"
      }
     },
     "fa877bca33d841d693a5dbfb9a0b5e59": {
      "model_module": "@jupyter-widgets/base",
      "model_module_version": "1.2.0",
      "model_name": "LayoutModel",
      "state": {
       "_model_module": "@jupyter-widgets/base",
       "_model_module_version": "1.2.0",
       "_model_name": "LayoutModel",
       "_view_count": null,
       "_view_module": "@jupyter-widgets/base",
       "_view_module_version": "1.2.0",
       "_view_name": "LayoutView",
       "align_content": null,
       "align_items": null,
       "align_self": null,
       "border": null,
       "bottom": null,
       "display": null,
       "flex": null,
       "flex_flow": null,
       "grid_area": null,
       "grid_auto_columns": null,
       "grid_auto_flow": null,
       "grid_auto_rows": null,
       "grid_column": null,
       "grid_gap": null,
       "grid_row": null,
       "grid_template_areas": null,
       "grid_template_columns": null,
       "grid_template_rows": null,
       "height": null,
       "justify_content": null,
       "justify_items": null,
       "left": null,
       "margin": null,
       "max_height": null,
       "max_width": null,
       "min_height": null,
       "min_width": null,
       "object_fit": null,
       "object_position": null,
       "order": null,
       "overflow": null,
       "overflow_x": null,
       "overflow_y": null,
       "padding": null,
       "right": null,
       "top": null,
       "visibility": null,
       "width": null
      }
     },
     "fa969b8dcc5248ddb411ec64f24f680e": {
      "model_module": "@jupyter-widgets/controls",
      "model_module_version": "1.5.0",
      "model_name": "FloatProgressModel",
      "state": {
       "_dom_classes": [],
       "_model_module": "@jupyter-widgets/controls",
       "_model_module_version": "1.5.0",
       "_model_name": "FloatProgressModel",
       "_view_count": null,
       "_view_module": "@jupyter-widgets/controls",
       "_view_module_version": "1.5.0",
       "_view_name": "ProgressView",
       "bar_style": "success",
       "description": "",
       "description_tooltip": null,
       "layout": "IPY_MODEL_06b4ea22503946fc90340347b3fa5907",
       "max": 37,
       "min": 0,
       "orientation": "horizontal",
       "style": "IPY_MODEL_8a1ba1721f6a47a5b9773ad1738b0dfb",
       "value": 37
      }
     }
    },
    "version_major": 2,
    "version_minor": 0
   }
  }
 },
 "nbformat": 4,
 "nbformat_minor": 5
}
